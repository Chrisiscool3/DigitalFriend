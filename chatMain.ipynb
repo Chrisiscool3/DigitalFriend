{
  "cells": [
    {
      "cell_type": "code",
      "source": [
        "pip install colorama"
      ],
      "metadata": {
        "id": "l7UNG-2Zt7yY",
        "outputId": "344babea-ce41-475b-8d52-384a7012b863",
        "colab": {
          "base_uri": "https://localhost:8080/"
        }
      },
      "execution_count": 1,
      "outputs": [
        {
          "output_type": "stream",
          "name": "stdout",
          "text": [
            "Looking in indexes: https://pypi.org/simple, https://us-python.pkg.dev/colab-wheels/public/simple/\n",
            "Collecting colorama\n",
            "  Downloading colorama-0.4.6-py2.py3-none-any.whl (25 kB)\n",
            "Installing collected packages: colorama\n",
            "Successfully installed colorama-0.4.6\n"
          ]
        }
      ]
    },
    {
      "cell_type": "code",
      "source": [
        "!pip install nlpaug"
      ],
      "metadata": {
        "id": "2jy_twY3cniu",
        "outputId": "354f938f-32f9-4603-b1d9-ebcdb67afe3c",
        "colab": {
          "base_uri": "https://localhost:8080/"
        }
      },
      "execution_count": 2,
      "outputs": [
        {
          "output_type": "stream",
          "name": "stdout",
          "text": [
            "Looking in indexes: https://pypi.org/simple, https://us-python.pkg.dev/colab-wheels/public/simple/\n",
            "Collecting nlpaug\n",
            "  Downloading nlpaug-1.1.11-py3-none-any.whl (410 kB)\n",
            "\u001b[?25l     \u001b[90m━━━━━━━━━━━━━━━━━━━━━━━━━━━━━━━━━━━━━━━━\u001b[0m \u001b[32m0.0/410.5 kB\u001b[0m \u001b[31m?\u001b[0m eta \u001b[36m-:--:--\u001b[0m\r\u001b[2K     \u001b[91m━━━━━━━━━━━━━━━━━━━━━━━━━━━━━━━━━━━━━\u001b[0m\u001b[91m╸\u001b[0m \u001b[32m409.6/410.5 kB\u001b[0m \u001b[31m12.8 MB/s\u001b[0m eta \u001b[36m0:00:01\u001b[0m\r\u001b[2K     \u001b[90m━━━━━━━━━━━━━━━━━━━━━━━━━━━━━━━━━━━━━━━\u001b[0m \u001b[32m410.5/410.5 kB\u001b[0m \u001b[31m9.1 MB/s\u001b[0m eta \u001b[36m0:00:00\u001b[0m\n",
            "\u001b[?25hRequirement already satisfied: numpy>=1.16.2 in /usr/local/lib/python3.9/dist-packages (from nlpaug) (1.24.2)\n",
            "Requirement already satisfied: gdown>=4.0.0 in /usr/local/lib/python3.9/dist-packages (from nlpaug) (4.6.6)\n",
            "Requirement already satisfied: pandas>=1.2.0 in /usr/local/lib/python3.9/dist-packages (from nlpaug) (1.5.3)\n",
            "Requirement already satisfied: requests>=2.22.0 in /usr/local/lib/python3.9/dist-packages (from nlpaug) (2.27.1)\n",
            "Requirement already satisfied: filelock in /usr/local/lib/python3.9/dist-packages (from gdown>=4.0.0->nlpaug) (3.11.0)\n",
            "Requirement already satisfied: tqdm in /usr/local/lib/python3.9/dist-packages (from gdown>=4.0.0->nlpaug) (4.65.0)\n",
            "Requirement already satisfied: six in /usr/local/lib/python3.9/dist-packages (from gdown>=4.0.0->nlpaug) (1.16.0)\n",
            "Requirement already satisfied: beautifulsoup4 in /usr/local/lib/python3.9/dist-packages (from gdown>=4.0.0->nlpaug) (4.11.2)\n",
            "Requirement already satisfied: python-dateutil>=2.8.1 in /usr/local/lib/python3.9/dist-packages (from pandas>=1.2.0->nlpaug) (2.8.2)\n",
            "Requirement already satisfied: pytz>=2020.1 in /usr/local/lib/python3.9/dist-packages (from pandas>=1.2.0->nlpaug) (2022.7.1)\n",
            "Requirement already satisfied: charset-normalizer~=2.0.0 in /usr/local/lib/python3.9/dist-packages (from requests>=2.22.0->nlpaug) (2.0.12)\n",
            "Requirement already satisfied: urllib3<1.27,>=1.21.1 in /usr/local/lib/python3.9/dist-packages (from requests>=2.22.0->nlpaug) (1.26.15)\n",
            "Requirement already satisfied: certifi>=2017.4.17 in /usr/local/lib/python3.9/dist-packages (from requests>=2.22.0->nlpaug) (2022.12.7)\n",
            "Requirement already satisfied: idna<4,>=2.5 in /usr/local/lib/python3.9/dist-packages (from requests>=2.22.0->nlpaug) (3.4)\n",
            "Requirement already satisfied: soupsieve>1.2 in /usr/local/lib/python3.9/dist-packages (from beautifulsoup4->gdown>=4.0.0->nlpaug) (2.4)\n",
            "Requirement already satisfied: PySocks!=1.5.7,>=1.5.6 in /usr/local/lib/python3.9/dist-packages (from requests>=2.22.0->nlpaug) (1.7.1)\n",
            "Installing collected packages: nlpaug\n",
            "Successfully installed nlpaug-1.1.11\n"
          ]
        }
      ]
    },
    {
      "cell_type": "code",
      "source": [
        "pip install textblob"
      ],
      "metadata": {
        "id": "FusAJdHp8ySk",
        "outputId": "b177d136-f06b-4121-9b2e-36525de8168c",
        "colab": {
          "base_uri": "https://localhost:8080/"
        }
      },
      "execution_count": 129,
      "outputs": [
        {
          "output_type": "stream",
          "name": "stdout",
          "text": [
            "Looking in indexes: https://pypi.org/simple, https://us-python.pkg.dev/colab-wheels/public/simple/\n",
            "Requirement already satisfied: textblob in /usr/local/lib/python3.9/dist-packages (0.17.1)\n",
            "Requirement already satisfied: nltk>=3.1 in /usr/local/lib/python3.9/dist-packages (from textblob) (3.8.1)\n",
            "Requirement already satisfied: tqdm in /usr/local/lib/python3.9/dist-packages (from nltk>=3.1->textblob) (4.65.0)\n",
            "Requirement already satisfied: joblib in /usr/local/lib/python3.9/dist-packages (from nltk>=3.1->textblob) (1.2.0)\n",
            "Requirement already satisfied: click in /usr/local/lib/python3.9/dist-packages (from nltk>=3.1->textblob) (8.1.3)\n",
            "Requirement already satisfied: regex>=2021.8.3 in /usr/local/lib/python3.9/dist-packages (from nltk>=3.1->textblob) (2022.10.31)\n"
          ]
        }
      ]
    },
    {
      "cell_type": "code",
      "execution_count": 3,
      "metadata": {
        "id": "I43obmXmtp0m"
      },
      "outputs": [],
      "source": [
        "import json \n",
        "import numpy as np \n",
        "import tensorflow as tf\n",
        "from tensorflow import keras\n",
        "from tensorflow.keras.models import Sequential\n",
        "from tensorflow.keras.layers import Dense, Embedding, GlobalAveragePooling1D\n",
        "from tensorflow.keras.preprocessing.text import Tokenizer\n",
        "from tensorflow.keras.preprocessing.sequence import pad_sequences\n",
        "from sklearn.preprocessing import LabelEncoder\n",
        "import matplotlib.pyplot as plt\n",
        "import pickle\n",
        "import colorama \n",
        "from colorama import Fore, Style, Back\n",
        "import random\n",
        "import nlpaug.augmenter.word as naw\n",
        "from tensorflow.keras.models import Model\n",
        "from tensorflow.keras.layers import Input, LSTM, Bidirectional, Dense, Dropout, Concatenate, Dot, Activation, Flatten, TimeDistributed, GRU\n",
        "from tensorflow.keras.callbacks import EarlyStopping\n",
        "from keras.regularizers import l2\n",
        "from textblob import TextBlob"
      ]
    },
    {
      "cell_type": "code",
      "execution_count": 4,
      "metadata": {
        "id": "9l4a1odftp0o",
        "outputId": "5d35b4c6-3f7a-4dcd-b14e-bb9f428be1b9",
        "colab": {
          "base_uri": "https://localhost:8080/"
        }
      },
      "outputs": [
        {
          "output_type": "stream",
          "name": "stdout",
          "text": [
            "309\n",
            "['greeting', 'greeting', 'greeting', 'greeting', 'greeting', 'greeting', 'greeting', 'greeting', 'greeting', 'greeting', 'greeting', 'greeting', 'greeting', 'morning', 'morning', 'afternoon', 'afternoon', 'evening', 'evening', 'night', 'night', 'night', 'night', 'goodbye', 'goodbye', 'goodbye', 'goodbye', 'goodbye', 'goodbye', 'goodbye', 'goodbye', 'goodbye', 'thanks', 'thanks', 'thanks', 'thanks', 'thanks', 'no-response', 'neutral-response', 'neutral-response', 'neutral-response', 'neutral-response', 'neutral-response', 'neutral-response', 'neutral-response', 'neutral-response', 'about', 'about', 'about', 'about', 'about', 'about', 'about', 'about', 'skill', 'skill', 'creation', 'creation', 'creation', 'name', 'name', 'name', 'help', 'help', 'help', 'help', 'help', 'help', 'help', 'help', 'sad', 'sad', 'sad', 'sad', 'sad', 'sad', 'sad', 'sad', 'sad', 'sad', 'sad', 'sad', 'stressed', 'stressed', 'stressed', 'stressed', 'stressed', 'worthless', 'worthless', 'worthless', 'worthless', 'worthless', 'worthless', 'worthless', 'depressed', 'depressed', 'depressed', 'depressed', 'happy', 'happy', 'happy', 'happy', 'happy', 'happy', 'happy', 'happy', 'happy', 'casual', 'casual', 'casual', 'casual', 'casual', 'casual', 'casual', 'casual', 'casual', 'casual', 'casual', 'anxious', 'anxious', 'anxious', 'not-talking', 'not-talking', 'not-talking', 'not-talking', 'sleep', 'sleep', 'sleep', 'sleep', 'sleep', 'sleep', 'scared', 'scared', 'scared', 'scared', 'scared', 'death', 'death', 'death', 'death', 'death', 'death', 'death', 'death', 'understand', 'understand', 'understand', 'understand', 'understand', 'understand', 'done', 'done', 'done', 'done', 'done', 'done', 'suicide', 'suicide', 'suicide', 'suicide', 'suicide', 'suicide', 'suicide', 'hate-you', 'hate-you', 'hate-you', 'hate-me', 'hate-me', 'hate-me', 'hate-me', 'default', 'default', 'default', 'default', 'default', 'default', 'default', 'default', 'default', 'default', 'jokes', 'jokes', 'jokes', 'jokes', 'repeat', 'repeat', 'repeat', 'repeat', 'wrong', 'wrong', 'wrong', 'wrong', 'wrong', 'stupid', 'stupid', 'stupid', 'stupid', 'location', 'location', 'location', 'something-else', 'something-else', 'something-else', 'something-else', 'friends', 'friends', 'friends', 'friends', 'ask', 'ask', 'problem', 'problem', 'problem', 'no-approach', 'no-approach', 'no-approach', 'learn-more', 'learn-more', 'learn-more', 'learn-more', 'break', 'break', 'break', 'break', 'meditation', 'meditation', 'meditation', 'meditation', 'user-meditation', 'user-meditation', 'user-meditation', 'pandora-useful', 'user-advice', 'user-advice', 'user-advice', 'user-advice', 'learn-mental-health', 'learn-mental-health', 'learn-mental-health', 'mental-health-fact', 'mental-health-fact', 'fact-1', 'fact-1', 'fact-2', 'fact-2', 'fact-3', 'fact-3', 'fact-5', 'fact-5', 'fact-5', 'fact-5', 'fact-6', 'fact-6', 'fact-7', 'fact-7', 'fact-7', 'fact-8', 'fact-9', 'fact-10', 'fact-11', 'fact-12', 'fact-13', 'fact-14', 'fact-15', 'fact-16', 'fact-17', 'fact-18', 'fact-19', 'fact-20', 'fact-21', 'fact-22', 'fact-23', 'fact-24', 'fact-25', 'fact-26', 'fact-26', 'fact-27', 'fact-28', 'fact-29', 'fact-30', 'fact-31', 'fact-32', 'fact-32', 'datetime', 'datetime', 'datetime', 'datetime', 'datetime', 'datetime', 'datetime', 'activity', 'activity', 'exclaim', 'exclaim', 'exclaim', 'exclaim', 'exclaim', 'appreciate', 'appreciate', 'appreciate', 'appreciate', 'suggest', 'suggest', 'suggest', 'suggest', 'suggest', 'riddle', 'riddle', 'riddle']\n"
          ]
        }
      ],
      "source": [
        "with open('intents.json') as file:\n",
        "    data = json.load(file)\n",
        "    \n",
        "training_sentences = []\n",
        "training_labels = []\n",
        "labels = []\n",
        "responses = []\n",
        "\n",
        "\n",
        "for intent in data['intents']:\n",
        "    for pattern in intent['patterns']:\n",
        "        training_sentences.append(pattern)\n",
        "        training_labels.append(intent['tag'])\n",
        "    responses.append(intent['responses'])\n",
        "    \n",
        "    if intent['tag'] not in labels:\n",
        "        labels.append(intent['tag'])\n",
        "        \n",
        "num_classes = len(labels)\n",
        "print(len(training_sentences))\n",
        "print(training_labels)"
      ]
    },
    {
      "cell_type": "code",
      "source": [
        "# Initialize augmentation object\n",
        "aug = naw.SynonymAug(aug_src='wordnet')\n",
        "\n",
        "# Augment sentences\n",
        "aug_sentences = []\n",
        "for sentence in training_sentences:\n",
        "    aug_sentence = aug.augment(sentence)\n",
        "    aug_sentences.append(aug_sentence)\n",
        "    \n",
        "# Print augmented sentences\n",
        "#print(aug_sentences)\n",
        "#print(training_labels)\n",
        "\n",
        "#expand the training sentences and the labels to enlarge the dataset\n",
        "training_sentences.extend(aug_sentences)\n",
        "training_labels.extend(training_labels)\n",
        "\n",
        "print(len(training_sentences))\n",
        "print(len(training_labels))"
      ],
      "metadata": {
        "id": "dFFOQBN3JnyU",
        "outputId": "3be6fcb6-07dd-4b6d-bcd3-d6526ec9ce4b",
        "colab": {
          "base_uri": "https://localhost:8080/"
        }
      },
      "execution_count": 5,
      "outputs": [
        {
          "output_type": "stream",
          "name": "stderr",
          "text": [
            "[nltk_data] Downloading package wordnet to /root/nltk_data...\n",
            "[nltk_data] Downloading package omw-1.4 to /root/nltk_data...\n",
            "[nltk_data] Downloading package averaged_perceptron_tagger to\n",
            "[nltk_data]     /root/nltk_data...\n",
            "[nltk_data]   Unzipping taggers/averaged_perceptron_tagger.zip.\n"
          ]
        },
        {
          "output_type": "stream",
          "name": "stdout",
          "text": [
            "618\n",
            "618\n"
          ]
        }
      ]
    },
    {
      "cell_type": "code",
      "execution_count": 6,
      "metadata": {
        "id": "lTUSol7Ytp0p"
      },
      "outputs": [],
      "source": [
        "lbl_encoder = LabelEncoder()\n",
        "lbl_encoder.fit(training_labels)\n",
        "training_labels = lbl_encoder.transform(training_labels)"
      ]
    },
    {
      "cell_type": "code",
      "execution_count": 7,
      "metadata": {
        "id": "Geqmxr3ttp0q"
      },
      "outputs": [],
      "source": [
        "vocab_size = 1000\n",
        "embedding_dim = 16\n",
        "max_len = 20\n",
        "oov_token = \"<OOV>\"\n",
        "\n",
        "tokenizer = Tokenizer(num_words=vocab_size, oov_token=oov_token)\n",
        "tokenizer.fit_on_texts(training_sentences)\n",
        "word_index = tokenizer.word_index\n",
        "sequences = tokenizer.texts_to_sequences(training_sentences)\n",
        "padded_sequences = pad_sequences(sequences, truncating='post', maxlen=max_len)"
      ]
    },
    {
      "cell_type": "markdown",
      "source": [
        "##RNN MODEL"
      ],
      "metadata": {
        "id": "LChNaK3jxX_Z"
      }
    },
    {
      "cell_type": "code",
      "execution_count": 23,
      "metadata": {
        "id": "WXVbG5N6tp0r",
        "outputId": "0080eddb-8c7e-470a-c677-7b29ea598c45",
        "colab": {
          "base_uri": "https://localhost:8080/"
        }
      },
      "outputs": [
        {
          "output_type": "stream",
          "name": "stdout",
          "text": [
            "Model: \"sequential_3\"\n",
            "_________________________________________________________________\n",
            " Layer (type)                Output Shape              Param #   \n",
            "=================================================================\n",
            " embedding_3 (Embedding)     (None, 20, 16)            16000     \n",
            "                                                                 \n",
            " bidirectional_11 (Bidirecti  (None, 20, 8)            672       \n",
            " onal)                                                           \n",
            "                                                                 \n",
            " dropout_11 (Dropout)        (None, 20, 8)             0         \n",
            "                                                                 \n",
            " bidirectional_12 (Bidirecti  (None, 20, 8)            416       \n",
            " onal)                                                           \n",
            "                                                                 \n",
            " dropout_12 (Dropout)        (None, 20, 8)             0         \n",
            "                                                                 \n",
            " bidirectional_13 (Bidirecti  (None, 20, 4)            176       \n",
            " onal)                                                           \n",
            "                                                                 \n",
            " dropout_13 (Dropout)        (None, 20, 4)             0         \n",
            "                                                                 \n",
            " dense_6 (Dense)             (None, 20, 16)            80        \n",
            "                                                                 \n",
            " dropout_14 (Dropout)        (None, 20, 16)            0         \n",
            "                                                                 \n",
            " flatten_3 (Flatten)         (None, 320)               0         \n",
            "                                                                 \n",
            " dense_7 (Dense)             (None, 86)                27606     \n",
            "                                                                 \n",
            "=================================================================\n",
            "Total params: 44,950\n",
            "Trainable params: 44,950\n",
            "Non-trainable params: 0\n",
            "_________________________________________________________________\n"
          ]
        }
      ],
      "source": [
        "model = Sequential()\n",
        "model.add(Embedding(vocab_size, embedding_dim, input_length=max_len))\n",
        "model.add(Bidirectional(LSTM(4, recurrent_dropout=0.2,return_sequences=True)))\n",
        "model.add(Dropout(0.5))\n",
        "model.add(Bidirectional(LSTM(4, return_sequences=True)))\n",
        "model.add(Dropout(0.5))\n",
        "model.add(Bidirectional(LSTM(2, recurrent_dropout=0.3, return_sequences=True)))\n",
        "model.add(Dropout(0.3))\n",
        "model.add(Dense(16, activation='relu', kernel_regularizer=l2(0.01)))\n",
        "model.add(Dropout(0.5))\n",
        "model.add(Flatten())\n",
        "model.add(Dense(num_classes, activation='softmax'))\n",
        "\n",
        "model.compile(loss='sparse_categorical_crossentropy', \n",
        "              optimizer='adam', metrics=['CategoricalAccuracy'])\n",
        "\n",
        "model.summary()"
      ]
    },
    {
      "cell_type": "code",
      "source": [
        "from keras.utils import to_categorical\n",
        "\n",
        "one_hot_labels = to_categorical(training_labels, num_classes)\n",
        "#print(one_hot_labels.shape)\n",
        "print(training_labels)"
      ],
      "metadata": {
        "id": "G0fSwIa96QZV"
      },
      "execution_count": null,
      "outputs": []
    },
    {
      "cell_type": "code",
      "execution_count": 24,
      "metadata": {
        "id": "VZn_UyWdtp0r",
        "outputId": "add40235-ad53-4a3c-ae02-1195f1730759",
        "colab": {
          "base_uri": "https://localhost:8080/"
        }
      },
      "outputs": [
        {
          "output_type": "stream",
          "name": "stdout",
          "text": [
            "Epoch 1/50\n",
            "18/18 [==============================] - 16s 151ms/step - loss: 4.4870 - categorical_accuracy: 0.0234 - val_loss: 4.5724 - val_categorical_accuracy: 0.0000e+00\n",
            "Epoch 2/50\n",
            "18/18 [==============================] - 1s 51ms/step - loss: 4.3748 - categorical_accuracy: 0.0126 - val_loss: 4.7604 - val_categorical_accuracy: 0.0000e+00\n",
            "Epoch 3/50\n",
            "18/18 [==============================] - 1s 51ms/step - loss: 4.2331 - categorical_accuracy: 0.0126 - val_loss: 5.1142 - val_categorical_accuracy: 0.0000e+00\n",
            "Epoch 4/50\n",
            "18/18 [==============================] - 1s 53ms/step - loss: 4.1436 - categorical_accuracy: 0.0126 - val_loss: 5.3892 - val_categorical_accuracy: 0.0000e+00\n",
            "Epoch 5/50\n",
            "18/18 [==============================] - 1s 52ms/step - loss: 4.1783 - categorical_accuracy: 0.0180 - val_loss: 5.2754 - val_categorical_accuracy: 0.0000e+00\n",
            "Epoch 6/50\n",
            "18/18 [==============================] - 1s 50ms/step - loss: 4.1584 - categorical_accuracy: 0.0090 - val_loss: 5.2628 - val_categorical_accuracy: 0.0000e+00\n",
            "Epoch 7/50\n",
            "18/18 [==============================] - 1s 51ms/step - loss: 4.1322 - categorical_accuracy: 0.0018 - val_loss: 5.3658 - val_categorical_accuracy: 0.0000e+00\n",
            "Epoch 8/50\n",
            "18/18 [==============================] - 1s 50ms/step - loss: 4.0934 - categorical_accuracy: 0.0000e+00 - val_loss: 5.5144 - val_categorical_accuracy: 0.0000e+00\n",
            "Epoch 9/50\n",
            "18/18 [==============================] - 1s 51ms/step - loss: 4.0458 - categorical_accuracy: 0.0018 - val_loss: 5.7584 - val_categorical_accuracy: 0.0000e+00\n",
            "Epoch 10/50\n",
            "18/18 [==============================] - 1s 52ms/step - loss: 4.0427 - categorical_accuracy: 0.0000e+00 - val_loss: 6.3330 - val_categorical_accuracy: 0.0000e+00\n",
            "Epoch 11/50\n",
            "18/18 [==============================] - 1s 50ms/step - loss: 4.0555 - categorical_accuracy: 0.0054 - val_loss: 5.7559 - val_categorical_accuracy: 0.0000e+00\n",
            "Epoch 12/50\n",
            "18/18 [==============================] - 1s 51ms/step - loss: 3.9829 - categorical_accuracy: 0.0018 - val_loss: 5.8129 - val_categorical_accuracy: 0.0000e+00\n",
            "Epoch 13/50\n",
            "18/18 [==============================] - 1s 48ms/step - loss: 3.9428 - categorical_accuracy: 0.0000e+00 - val_loss: 6.6095 - val_categorical_accuracy: 0.0000e+00\n",
            "Epoch 14/50\n",
            "18/18 [==============================] - 1s 50ms/step - loss: 3.8878 - categorical_accuracy: 0.0000e+00 - val_loss: 6.2151 - val_categorical_accuracy: 0.0000e+00\n",
            "Epoch 15/50\n",
            "18/18 [==============================] - 1s 51ms/step - loss: 3.8131 - categorical_accuracy: 0.0072 - val_loss: 5.6796 - val_categorical_accuracy: 0.0000e+00\n",
            "Epoch 16/50\n",
            "18/18 [==============================] - 1s 51ms/step - loss: 3.7853 - categorical_accuracy: 0.0180 - val_loss: 4.8713 - val_categorical_accuracy: 0.0000e+00\n",
            "Epoch 17/50\n",
            "18/18 [==============================] - 1s 50ms/step - loss: 3.7952 - categorical_accuracy: 0.0234 - val_loss: 5.3590 - val_categorical_accuracy: 0.0000e+00\n",
            "Epoch 18/50\n",
            "18/18 [==============================] - 1s 52ms/step - loss: 3.7349 - categorical_accuracy: 0.0342 - val_loss: 5.5699 - val_categorical_accuracy: 0.0000e+00\n",
            "Epoch 19/50\n",
            "18/18 [==============================] - 1s 53ms/step - loss: 3.6799 - categorical_accuracy: 0.0180 - val_loss: 5.5326 - val_categorical_accuracy: 0.0000e+00\n",
            "Epoch 20/50\n",
            "18/18 [==============================] - 1s 52ms/step - loss: 3.6555 - categorical_accuracy: 0.0180 - val_loss: 6.4872 - val_categorical_accuracy: 0.0000e+00\n",
            "Epoch 21/50\n",
            "18/18 [==============================] - 1s 50ms/step - loss: 3.6429 - categorical_accuracy: 0.0234 - val_loss: 6.1075 - val_categorical_accuracy: 0.0000e+00\n",
            "Epoch 22/50\n",
            "18/18 [==============================] - 1s 48ms/step - loss: 3.6154 - categorical_accuracy: 0.0270 - val_loss: 7.2996 - val_categorical_accuracy: 0.0161\n",
            "Epoch 23/50\n",
            "18/18 [==============================] - 1s 51ms/step - loss: 3.5840 - categorical_accuracy: 0.0576 - val_loss: 5.8448 - val_categorical_accuracy: 0.1935\n",
            "Epoch 24/50\n",
            "18/18 [==============================] - 1s 48ms/step - loss: 3.5250 - categorical_accuracy: 0.0594 - val_loss: 6.0369 - val_categorical_accuracy: 0.0161\n",
            "Epoch 25/50\n",
            "18/18 [==============================] - 1s 51ms/step - loss: 3.5396 - categorical_accuracy: 0.0504 - val_loss: 6.9408 - val_categorical_accuracy: 0.1935\n",
            "Epoch 26/50\n",
            "18/18 [==============================] - 1s 51ms/step - loss: 3.5177 - categorical_accuracy: 0.0809 - val_loss: 7.6841 - val_categorical_accuracy: 0.4516\n",
            "Epoch 27/50\n",
            "18/18 [==============================] - 1s 50ms/step - loss: 3.4694 - categorical_accuracy: 0.0791 - val_loss: 6.9832 - val_categorical_accuracy: 0.4516\n",
            "Epoch 28/50\n",
            "18/18 [==============================] - 1s 49ms/step - loss: 3.4717 - categorical_accuracy: 0.0773 - val_loss: 6.9425 - val_categorical_accuracy: 0.2097\n",
            "Epoch 29/50\n",
            "18/18 [==============================] - 1s 48ms/step - loss: 3.4287 - categorical_accuracy: 0.0773 - val_loss: 7.1601 - val_categorical_accuracy: 0.4032\n",
            "Epoch 30/50\n",
            "18/18 [==============================] - 1s 49ms/step - loss: 3.4004 - categorical_accuracy: 0.1079 - val_loss: 7.1471 - val_categorical_accuracy: 0.1935\n",
            "Epoch 31/50\n",
            "18/18 [==============================] - 1s 51ms/step - loss: 3.4266 - categorical_accuracy: 0.0863 - val_loss: 7.3155 - val_categorical_accuracy: 0.2258\n",
            "Epoch 32/50\n",
            "18/18 [==============================] - 1s 50ms/step - loss: 3.4049 - categorical_accuracy: 0.1025 - val_loss: 7.7918 - val_categorical_accuracy: 0.8387\n",
            "Epoch 33/50\n",
            "18/18 [==============================] - 1s 55ms/step - loss: 3.3739 - categorical_accuracy: 0.0845 - val_loss: 7.4216 - val_categorical_accuracy: 0.4677\n",
            "Epoch 34/50\n",
            "18/18 [==============================] - 1s 52ms/step - loss: 3.3703 - categorical_accuracy: 0.0881 - val_loss: 7.6144 - val_categorical_accuracy: 0.1935\n",
            "Epoch 35/50\n",
            "18/18 [==============================] - 1s 51ms/step - loss: 3.3235 - categorical_accuracy: 0.0791 - val_loss: 7.7645 - val_categorical_accuracy: 0.9355\n",
            "Epoch 36/50\n",
            "18/18 [==============================] - 1s 52ms/step - loss: 3.3241 - categorical_accuracy: 0.1007 - val_loss: 7.6486 - val_categorical_accuracy: 0.9194\n",
            "Epoch 37/50\n",
            "18/18 [==============================] - 1s 50ms/step - loss: 3.3137 - categorical_accuracy: 0.1115 - val_loss: 8.1215 - val_categorical_accuracy: 0.8710\n",
            "Epoch 38/50\n",
            "18/18 [==============================] - 1s 49ms/step - loss: 3.2686 - categorical_accuracy: 0.0953 - val_loss: 8.0434 - val_categorical_accuracy: 0.0323\n",
            "Epoch 39/50\n",
            "18/18 [==============================] - 1s 49ms/step - loss: 3.2452 - categorical_accuracy: 0.0953 - val_loss: 8.0513 - val_categorical_accuracy: 0.0161\n",
            "Epoch 40/50\n",
            "18/18 [==============================] - 1s 48ms/step - loss: 3.2121 - categorical_accuracy: 0.1223 - val_loss: 8.8915 - val_categorical_accuracy: 0.7097\n",
            "Epoch 41/50\n",
            "18/18 [==============================] - 1s 50ms/step - loss: 3.2588 - categorical_accuracy: 0.1169 - val_loss: 8.6564 - val_categorical_accuracy: 0.7581\n",
            "Epoch 42/50\n",
            "18/18 [==============================] - 1s 51ms/step - loss: 3.1905 - categorical_accuracy: 0.0935 - val_loss: 8.4969 - val_categorical_accuracy: 0.9032\n",
            "Epoch 43/50\n",
            "18/18 [==============================] - 1s 50ms/step - loss: 3.2201 - categorical_accuracy: 0.0737 - val_loss: 8.6212 - val_categorical_accuracy: 0.0000e+00\n",
            "Epoch 44/50\n",
            "18/18 [==============================] - 1s 50ms/step - loss: 3.2013 - categorical_accuracy: 0.0647 - val_loss: 8.8838 - val_categorical_accuracy: 0.3871\n",
            "Epoch 45/50\n",
            "18/18 [==============================] - 1s 52ms/step - loss: 3.1825 - categorical_accuracy: 0.1115 - val_loss: 8.9953 - val_categorical_accuracy: 0.7581\n",
            "Epoch 46/50\n",
            "18/18 [==============================] - 1s 49ms/step - loss: 3.1729 - categorical_accuracy: 0.1133 - val_loss: 9.5487 - val_categorical_accuracy: 0.1935\n",
            "Epoch 47/50\n",
            "18/18 [==============================] - 1s 52ms/step - loss: 3.1392 - categorical_accuracy: 0.0755 - val_loss: 8.9794 - val_categorical_accuracy: 0.7097\n",
            "Epoch 48/50\n",
            "18/18 [==============================] - 1s 52ms/step - loss: 3.1314 - categorical_accuracy: 0.0953 - val_loss: 9.3439 - val_categorical_accuracy: 0.4677\n",
            "Epoch 49/50\n",
            "18/18 [==============================] - 1s 51ms/step - loss: 3.1304 - categorical_accuracy: 0.0701 - val_loss: 9.3741 - val_categorical_accuracy: 0.0161\n",
            "Epoch 50/50\n",
            "18/18 [==============================] - 1s 51ms/step - loss: 3.0915 - categorical_accuracy: 0.0773 - val_loss: 9.1288 - val_categorical_accuracy: 0.7258\n"
          ]
        }
      ],
      "source": [
        "epochs = 50\n",
        "history = model.fit(padded_sequences, training_labels, epochs=epochs, verbose=1, validation_split=0.1)"
      ]
    },
    {
      "cell_type": "code",
      "source": [
        "plt.plot(history.history['categorical_accuracy'])\n",
        "plt.plot(history.history['val_categorical_accuracy'])"
      ],
      "metadata": {
        "id": "L9S3nmcKMu2T",
        "outputId": "5ada14c7-f7fc-4e23-829a-0019ec75f8af",
        "colab": {
          "base_uri": "https://localhost:8080/",
          "height": 448
        }
      },
      "execution_count": 25,
      "outputs": [
        {
          "output_type": "execute_result",
          "data": {
            "text/plain": [
              "[<matplotlib.lines.Line2D at 0x7fc18c798b20>]"
            ]
          },
          "metadata": {},
          "execution_count": 25
        },
        {
          "output_type": "display_data",
          "data": {
            "text/plain": [
              "<Figure size 640x480 with 1 Axes>"
            ],
            "image/png": "[encoded data removed]"
          },
          "metadata": {}
        }
      ]
    },
    {
      "cell_type": "code",
      "execution_count": 26,
      "metadata": {
        "id": "-yrXQJd4tp0t",
        "outputId": "d1eafd31-ece8-413d-8e09-317155f20f21",
        "colab": {
          "base_uri": "https://localhost:8080/",
          "height": 448
        }
      },
      "outputs": [
        {
          "output_type": "execute_result",
          "data": {
            "text/plain": [
              "[<matplotlib.lines.Line2D at 0x7fc18c0e5c10>]"
            ]
          },
          "metadata": {},
          "execution_count": 26
        },
        {
          "output_type": "display_data",
          "data": {
            "text/plain": [
              "<Figure size 640x480 with 1 Axes>"
            ],
            "image/png": "[encoded data removed]"
          },
          "metadata": {}
        }
      ],
      "source": [
        "plt.plot(history.history['loss'])\n",
        "plt.plot(history.history['val_loss'])"
      ]
    },
    {
      "cell_type": "code",
      "execution_count": 20,
      "metadata": {
        "id": "yszOSfNHtp0u",
        "outputId": "e91b0117-94e4-49b5-c96b-ff47fc4a7ed8",
        "colab": {
          "base_uri": "https://localhost:8080/"
        }
      },
      "outputs": [
        {
          "output_type": "stream",
          "name": "stderr",
          "text": [
            "WARNING:absl:Found untraced functions such as _update_step_xla, lstm_cell_40_layer_call_fn, lstm_cell_40_layer_call_and_return_conditional_losses, lstm_cell_41_layer_call_fn, lstm_cell_41_layer_call_and_return_conditional_losses while saving (showing 5 of 5). These functions will not be directly callable after loading.\n"
          ]
        }
      ],
      "source": [
        "# to save the trained model\n",
        "model.save(\"chat_model\")\n",
        "\n",
        "# to save the fitted tokenizer\n",
        "with open('tokenizer.pickle', 'wb') as handle:\n",
        "    pickle.dump(tokenizer, handle, protocol=pickle.HIGHEST_PROTOCOL)\n",
        "    \n",
        "# to save the fitted label encoder\n",
        "with open('label_encoder.pickle', 'wb') as ecn_file:\n",
        "    pickle.dump(lbl_encoder, ecn_file, protocol=pickle.HIGHEST_PROTOCOL)"
      ]
    },
    {
      "cell_type": "code",
      "execution_count": 21,
      "metadata": {
        "id": "gdyW4uKKtp0v",
        "outputId": "b8b7b078-dbde-40ca-e54c-112bbe93835b",
        "colab": {
          "base_uri": "https://localhost:8080/"
        }
      },
      "outputs": [
        {
          "output_type": "stream",
          "name": "stdout",
          "text": [
            "\u001b[33mStart messaging with the bot (type quit to stop)!\u001b[0m\n",
            "\u001b[94mUser: \u001b[0mhey\n",
            "1/1 [==============================] - 2s 2s/step\n",
            "['greeting']\n",
            "\u001b[32mChatBot:\u001b[0m Hi there. How are you feeling today?\n",
            "\u001b[94mUser: \u001b[0mi'm feeling pretty sad today\n",
            "1/1 [==============================] - 0s 33ms/step\n",
            "['greeting']\n",
            "\u001b[32mChatBot:\u001b[0m Hi there. What brings you here today?\n",
            "\u001b[94mUser: \u001b[0msad\n",
            "1/1 [==============================] - 0s 33ms/step\n",
            "['greeting']\n",
            "\u001b[32mChatBot:\u001b[0m Great to see you. How do you feel currently?\n",
            "\u001b[94mUser: \u001b[0msad\n",
            "1/1 [==============================] - 0s 32ms/step\n",
            "['greeting']\n",
            "\u001b[32mChatBot:\u001b[0m Hi there. How are you feeling today?\n",
            "\u001b[94mUser: \u001b[0mi feel depressed\n",
            "1/1 [==============================] - 0s 33ms/step\n",
            "['about']\n",
            "\u001b[32mChatBot:\u001b[0m Call me Digital Friend\n",
            "\u001b[94mUser: \u001b[0mwhat is your name\n",
            "1/1 [==============================] - 0s 32ms/step\n",
            "['about']\n",
            "\u001b[32mChatBot:\u001b[0m You can call me Digital Friend.\n",
            "\u001b[94mUser: \u001b[0mwho created you\n",
            "1/1 [==============================] - 0s 33ms/step\n",
            "['about']\n",
            "\u001b[32mChatBot:\u001b[0m I'm Digital Friend. I am a conversational agent designed to mimic a therapist. So how are you feeling today?\n",
            "\u001b[94mUser: \u001b[0mwhat should i do today in class\n",
            "1/1 [==============================] - 0s 33ms/step\n",
            "['meditation']\n",
            "\u001b[32mChatBot:\u001b[0m Focus all your attention on your breathing. Concentrate on feeling and listening as you inhale and exhale through your nostrils. Breathe deeply and slowly. When your attention wanders, gently return your focus to your breathing.\n",
            "\u001b[94mUser: \u001b[0mlet's play basketball\n",
            "1/1 [==============================] - 0s 30ms/step\n",
            "['about']\n",
            "\u001b[32mChatBot:\u001b[0m I'm Digital Friend, your Mental health AI Assistant. How are you feeling today\n",
            "\u001b[94mUser: \u001b[0mwho made you\n",
            "1/1 [==============================] - 0s 31ms/step\n",
            "['about']\n",
            "\u001b[32mChatBot:\u001b[0m I'm Digital Friend. I am a conversational agent designed to mimic a therapist. So how are you feeling today?\n",
            "\u001b[94mUser: \u001b[0mchris and carly\n",
            "1/1 [==============================] - 0s 31ms/step\n",
            "['about']\n",
            "\u001b[32mChatBot:\u001b[0m I'm Digital Friend. I am a conversational agent designed to mimic a therapist. So how are you feeling today?\n",
            "\u001b[94mUser: \u001b[0mi feel happy\n",
            "1/1 [==============================] - 0s 30ms/step\n",
            "['greeting']\n",
            "\u001b[32mChatBot:\u001b[0m Hello there. Tell me how are you feeling today?\n",
            "\u001b[94mUser: \u001b[0mfeel\n",
            "1/1 [==============================] - 0s 32ms/step\n",
            "['casual']\n",
            "\u001b[32mChatBot:\u001b[0m Tell me more\n",
            "\u001b[94mUser: \u001b[0mquit\n",
            "14\n"
          ]
        }
      ],
      "source": [
        "with open(\"intents.json\") as file:\n",
        "    data = json.load(file)\n",
        "\n",
        "input_list = []\n",
        "\n",
        "def chat(input_list):\n",
        "    # load trained model\n",
        "    model = keras.models.load_model('chat_model')\n",
        "\n",
        "    # load tokenizer object\n",
        "    with open('tokenizer.pickle', 'rb') as handle:\n",
        "        tokenizer = pickle.load(handle)\n",
        "\n",
        "    # load label encoder object\n",
        "    with open('label_encoder.pickle', 'rb') as enc:\n",
        "        lbl_encoder = pickle.load(enc)\n",
        "\n",
        "    # parameters\n",
        "    max_len = 20\n",
        "    \n",
        "    while True:\n",
        "        print(Fore.LIGHTBLUE_EX + \"User: \" + Style.RESET_ALL, end=\"\")\n",
        "        inp = input()\n",
        "        input_list.append(inp)\n",
        "        if inp.lower() == \"quit\":\n",
        "            break\n",
        "\n",
        "        result = model.predict(keras.preprocessing.sequence.pad_sequences(tokenizer.texts_to_sequences([inp]),\n",
        "                                             truncating='post', maxlen=max_len))\n",
        "        #print(result)                                    \n",
        "        tag = lbl_encoder.inverse_transform([np.argmax(result)])\n",
        "        print(tag)\n",
        "        for i in data['intents']:\n",
        "            if i['tag'] == tag:\n",
        "                print(Fore.GREEN + \"ChatBot:\" + Style.RESET_ALL , np.random.choice(i['responses']))\n",
        "\n",
        "        # print(Fore.GREEN + \"ChatBot:\" + Style.RESET_ALL,random.choice(responses))\n",
        "    return input_list\n",
        "\n",
        "print(Fore.YELLOW + \"Start messaging with the bot (type quit to stop)!\" + Style.RESET_ALL)\n",
        "total_input = chat(input_list)\n",
        "\n",
        "print(len(total_input))"
      ]
    },
    {
      "cell_type": "code",
      "source": [
        "first_five_inputs = total_input[0:5]\n",
        "last_five_inputs =  total_input[-5:]\n",
        "\n",
        "first_five_sentiments = []\n",
        "last_five_sentiments = []\n",
        "\n",
        "for input in first_five_inputs:\n",
        "  first_five_sentiments.append(TextBlob(input).sentiment.polarity)\n",
        "\n",
        "for input in last_five_inputs:\n",
        "  last_five_sentiments.append(TextBlob(input).sentiment.polarity)\n",
        "\n",
        "print(first_five_sentiments)\n",
        "print(last_five_sentiments)"
      ],
      "metadata": {
        "id": "Vr6qhswT6pBG",
        "outputId": "86ad85bf-799d-4bd3-e6c9-08eec8bc70c7",
        "colab": {
          "base_uri": "https://localhost:8080/"
        }
      },
      "execution_count": 22,
      "outputs": [
        {
          "output_type": "stream",
          "name": "stdout",
          "text": [
            "[0.0, -0.125, -0.5, -0.5, 0.0]\n",
            "[0.0, 0.0, 0.8, 0.0, 0.0]\n"
          ]
        }
      ]
    },
    {
      "cell_type": "code",
      "source": [],
      "metadata": {
        "id": "jCcvsoZU9uTD"
      },
      "execution_count": null,
      "outputs": []
    }
  ],
  "metadata": {
    "kernelspec": {
      "display_name": "spyder-env",
      "language": "python",
      "name": "python3"
    },
    "language_info": {
      "codemirror_mode": {
        "name": "ipython",
        "version": 3
      },
      "file_extension": ".py",
      "mimetype": "text/x-python",
      "name": "python",
      "nbconvert_exporter": "python",
      "pygments_lexer": "ipython3",
      "version": "3.10.8"
    },
    "orig_nbformat": 4,
    "vscode": {
      "interpreter": {
        "hash": "0867740005d6599654add18c4aea8b68041991fa551a979db4ae6559591eb1ee"
      }
    },
    "colab": {
      "provenance": [],
      "machine_shape": "hm"
    },
    "accelerator": "TPU",
    "gpuClass": "standard"
  },
  "nbformat": 4,
  "nbformat_minor": 0
}