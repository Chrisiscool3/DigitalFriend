{
  "cells": [
    {
      "cell_type": "markdown",
      "source": [
        "##Install and import required packages"
      ],
      "metadata": {
        "id": "vgv1GyX0V7c2"
      }
    },
    {
      "cell_type": "code",
      "source": [
        "pip install colorama"
      ],
      "metadata": {
        "id": "l7UNG-2Zt7yY",
        "outputId": "360c471b-c66e-4df3-8665-02074e3cf491",
        "colab": {
          "base_uri": "https://localhost:8080/"
        }
      },
      "execution_count": 1,
      "outputs": [
        {
          "output_type": "stream",
          "name": "stdout",
          "text": [
            "Looking in indexes: https://pypi.org/simple, https://us-python.pkg.dev/colab-wheels/public/simple/\n",
            "Collecting colorama\n",
            "  Downloading colorama-0.4.6-py2.py3-none-any.whl (25 kB)\n",
            "Installing collected packages: colorama\n",
            "Successfully installed colorama-0.4.6\n"
          ]
        }
      ]
    },
    {
      "cell_type": "code",
      "source": [
        "!pip install nlpaug"
      ],
      "metadata": {
        "id": "2jy_twY3cniu",
        "outputId": "ffd6a70d-56bc-4877-ac5c-98379e099ec3",
        "colab": {
          "base_uri": "https://localhost:8080/"
        }
      },
      "execution_count": 2,
      "outputs": [
        {
          "output_type": "stream",
          "name": "stdout",
          "text": [
            "Looking in indexes: https://pypi.org/simple, https://us-python.pkg.dev/colab-wheels/public/simple/\n",
            "Collecting nlpaug\n",
            "  Downloading nlpaug-1.1.11-py3-none-any.whl (410 kB)\n",
            "\u001b[2K     \u001b[90m━━━━━━━━━━━━━━━━━━━━━━━━━━━━━━━━━━━━━━━\u001b[0m \u001b[32m410.5/410.5 kB\u001b[0m \u001b[31m7.8 MB/s\u001b[0m eta \u001b[36m0:00:00\u001b[0m\n",
            "\u001b[?25hRequirement already satisfied: requests>=2.22.0 in /usr/local/lib/python3.9/dist-packages (from nlpaug) (2.27.1)\n",
            "Requirement already satisfied: gdown>=4.0.0 in /usr/local/lib/python3.9/dist-packages (from nlpaug) (4.6.6)\n",
            "Requirement already satisfied: pandas>=1.2.0 in /usr/local/lib/python3.9/dist-packages (from nlpaug) (1.5.3)\n",
            "Requirement already satisfied: numpy>=1.16.2 in /usr/local/lib/python3.9/dist-packages (from nlpaug) (1.24.2)\n",
            "Requirement already satisfied: filelock in /usr/local/lib/python3.9/dist-packages (from gdown>=4.0.0->nlpaug) (3.11.0)\n",
            "Requirement already satisfied: beautifulsoup4 in /usr/local/lib/python3.9/dist-packages (from gdown>=4.0.0->nlpaug) (4.11.2)\n",
            "Requirement already satisfied: six in /usr/local/lib/python3.9/dist-packages (from gdown>=4.0.0->nlpaug) (1.16.0)\n",
            "Requirement already satisfied: tqdm in /usr/local/lib/python3.9/dist-packages (from gdown>=4.0.0->nlpaug) (4.65.0)\n",
            "Requirement already satisfied: pytz>=2020.1 in /usr/local/lib/python3.9/dist-packages (from pandas>=1.2.0->nlpaug) (2022.7.1)\n",
            "Requirement already satisfied: python-dateutil>=2.8.1 in /usr/local/lib/python3.9/dist-packages (from pandas>=1.2.0->nlpaug) (2.8.2)\n",
            "Requirement already satisfied: certifi>=2017.4.17 in /usr/local/lib/python3.9/dist-packages (from requests>=2.22.0->nlpaug) (2022.12.7)\n",
            "Requirement already satisfied: charset-normalizer~=2.0.0 in /usr/local/lib/python3.9/dist-packages (from requests>=2.22.0->nlpaug) (2.0.12)\n",
            "Requirement already satisfied: idna<4,>=2.5 in /usr/local/lib/python3.9/dist-packages (from requests>=2.22.0->nlpaug) (3.4)\n",
            "Requirement already satisfied: urllib3<1.27,>=1.21.1 in /usr/local/lib/python3.9/dist-packages (from requests>=2.22.0->nlpaug) (1.26.15)\n",
            "Requirement already satisfied: soupsieve>1.2 in /usr/local/lib/python3.9/dist-packages (from beautifulsoup4->gdown>=4.0.0->nlpaug) (2.4)\n",
            "Requirement already satisfied: PySocks!=1.5.7,>=1.5.6 in /usr/local/lib/python3.9/dist-packages (from requests>=2.22.0->nlpaug) (1.7.1)\n",
            "Installing collected packages: nlpaug\n",
            "Successfully installed nlpaug-1.1.11\n"
          ]
        }
      ]
    },
    {
      "cell_type": "code",
      "source": [
        "pip install textblob"
      ],
      "metadata": {
        "id": "FusAJdHp8ySk",
        "outputId": "24add991-8ccc-4535-ce3c-33f1b0b7a06d",
        "colab": {
          "base_uri": "https://localhost:8080/"
        }
      },
      "execution_count": 3,
      "outputs": [
        {
          "output_type": "stream",
          "name": "stdout",
          "text": [
            "Looking in indexes: https://pypi.org/simple, https://us-python.pkg.dev/colab-wheels/public/simple/\n",
            "Requirement already satisfied: textblob in /usr/local/lib/python3.9/dist-packages (0.17.1)\n",
            "Requirement already satisfied: nltk>=3.1 in /usr/local/lib/python3.9/dist-packages (from textblob) (3.8.1)\n",
            "Requirement already satisfied: joblib in /usr/local/lib/python3.9/dist-packages (from nltk>=3.1->textblob) (1.2.0)\n",
            "Requirement already satisfied: tqdm in /usr/local/lib/python3.9/dist-packages (from nltk>=3.1->textblob) (4.65.0)\n",
            "Requirement already satisfied: regex>=2021.8.3 in /usr/local/lib/python3.9/dist-packages (from nltk>=3.1->textblob) (2022.10.31)\n",
            "Requirement already satisfied: click in /usr/local/lib/python3.9/dist-packages (from nltk>=3.1->textblob) (8.1.3)\n"
          ]
        }
      ]
    },
    {
      "cell_type": "code",
      "source": [
        "!pip install google-auth google-auth-oauthlib google-auth-httplib2 google-api-python-client"
      ],
      "metadata": {
        "id": "nYrpLNaUGNU3",
        "outputId": "7c0e8cae-1f21-4edc-c4bf-625db4ad008e",
        "colab": {
          "base_uri": "https://localhost:8080/"
        }
      },
      "execution_count": 22,
      "outputs": [
        {
          "output_type": "stream",
          "name": "stdout",
          "text": [
            "Looking in indexes: https://pypi.org/simple, https://us-python.pkg.dev/colab-wheels/public/simple/\n",
            "Requirement already satisfied: google-auth in /usr/local/lib/python3.9/dist-packages (2.17.2)\n",
            "Requirement already satisfied: google-auth-oauthlib in /usr/local/lib/python3.9/dist-packages (1.0.0)\n",
            "Requirement already satisfied: google-auth-httplib2 in /usr/local/lib/python3.9/dist-packages (0.1.0)\n",
            "Requirement already satisfied: google-api-python-client in /usr/local/lib/python3.9/dist-packages (2.84.0)\n",
            "Requirement already satisfied: cachetools<6.0,>=2.0.0 in /usr/local/lib/python3.9/dist-packages (from google-auth) (5.3.0)\n",
            "Requirement already satisfied: rsa<5,>=3.1.4 in /usr/local/lib/python3.9/dist-packages (from google-auth) (4.9)\n",
            "Requirement already satisfied: six>=1.9.0 in /usr/local/lib/python3.9/dist-packages (from google-auth) (1.16.0)\n",
            "Requirement already satisfied: pyasn1-modules>=0.2.1 in /usr/local/lib/python3.9/dist-packages (from google-auth) (0.2.8)\n",
            "Requirement already satisfied: requests-oauthlib>=0.7.0 in /usr/local/lib/python3.9/dist-packages (from google-auth-oauthlib) (1.3.1)\n",
            "Requirement already satisfied: httplib2>=0.15.0 in /usr/local/lib/python3.9/dist-packages (from google-auth-httplib2) (0.21.0)\n",
            "Requirement already satisfied: google-api-core!=2.0.*,!=2.1.*,!=2.2.*,!=2.3.0,<3.0.0dev,>=1.31.5 in /usr/local/lib/python3.9/dist-packages (from google-api-python-client) (2.11.0)\n",
            "Requirement already satisfied: uritemplate<5,>=3.0.1 in /usr/local/lib/python3.9/dist-packages (from google-api-python-client) (4.1.1)\n",
            "Requirement already satisfied: protobuf!=3.20.0,!=3.20.1,!=4.21.0,!=4.21.1,!=4.21.2,!=4.21.3,!=4.21.4,!=4.21.5,<5.0.0dev,>=3.19.5 in /usr/local/lib/python3.9/dist-packages (from google-api-core!=2.0.*,!=2.1.*,!=2.2.*,!=2.3.0,<3.0.0dev,>=1.31.5->google-api-python-client) (3.20.3)\n",
            "Requirement already satisfied: googleapis-common-protos<2.0dev,>=1.56.2 in /usr/local/lib/python3.9/dist-packages (from google-api-core!=2.0.*,!=2.1.*,!=2.2.*,!=2.3.0,<3.0.0dev,>=1.31.5->google-api-python-client) (1.59.0)\n",
            "Requirement already satisfied: requests<3.0.0dev,>=2.18.0 in /usr/local/lib/python3.9/dist-packages (from google-api-core!=2.0.*,!=2.1.*,!=2.2.*,!=2.3.0,<3.0.0dev,>=1.31.5->google-api-python-client) (2.27.1)\n",
            "Requirement already satisfied: pyparsing!=3.0.0,!=3.0.1,!=3.0.2,!=3.0.3,<4,>=2.4.2 in /usr/local/lib/python3.9/dist-packages (from httplib2>=0.15.0->google-auth-httplib2) (3.0.9)\n",
            "Requirement already satisfied: pyasn1<0.5.0,>=0.4.6 in /usr/local/lib/python3.9/dist-packages (from pyasn1-modules>=0.2.1->google-auth) (0.4.8)\n",
            "Requirement already satisfied: oauthlib>=3.0.0 in /usr/local/lib/python3.9/dist-packages (from requests-oauthlib>=0.7.0->google-auth-oauthlib) (3.2.2)\n",
            "Requirement already satisfied: certifi>=2017.4.17 in /usr/local/lib/python3.9/dist-packages (from requests<3.0.0dev,>=2.18.0->google-api-core!=2.0.*,!=2.1.*,!=2.2.*,!=2.3.0,<3.0.0dev,>=1.31.5->google-api-python-client) (2022.12.7)\n",
            "Requirement already satisfied: charset-normalizer~=2.0.0 in /usr/local/lib/python3.9/dist-packages (from requests<3.0.0dev,>=2.18.0->google-api-core!=2.0.*,!=2.1.*,!=2.2.*,!=2.3.0,<3.0.0dev,>=1.31.5->google-api-python-client) (2.0.12)\n",
            "Requirement already satisfied: urllib3<1.27,>=1.21.1 in /usr/local/lib/python3.9/dist-packages (from requests<3.0.0dev,>=2.18.0->google-api-core!=2.0.*,!=2.1.*,!=2.2.*,!=2.3.0,<3.0.0dev,>=1.31.5->google-api-python-client) (1.26.15)\n",
            "Requirement already satisfied: idna<4,>=2.5 in /usr/local/lib/python3.9/dist-packages (from requests<3.0.0dev,>=2.18.0->google-api-core!=2.0.*,!=2.1.*,!=2.2.*,!=2.3.0,<3.0.0dev,>=1.31.5->google-api-python-client) (3.4)\n"
          ]
        }
      ]
    },
    {
      "cell_type": "code",
      "execution_count": 32,
      "metadata": {
        "id": "I43obmXmtp0m"
      },
      "outputs": [],
      "source": [
        "import json \n",
        "import numpy as np \n",
        "import tensorflow as tf\n",
        "from tensorflow import keras\n",
        "from tensorflow.keras.models import Sequential\n",
        "from tensorflow.keras.layers import Dense, Embedding, GlobalAveragePooling1D\n",
        "from tensorflow.keras.preprocessing.text import Tokenizer\n",
        "from tensorflow.keras.preprocessing.sequence import pad_sequences\n",
        "from sklearn.preprocessing import LabelEncoder\n",
        "import matplotlib.pyplot as plt\n",
        "import pickle\n",
        "import colorama \n",
        "from colorama import Fore, Style, Back\n",
        "import random\n",
        "import nlpaug.augmenter.word as naw\n",
        "from tensorflow.keras.models import Model\n",
        "from tensorflow.keras.layers import Input, LSTM, Bidirectional, Dense, Dropout, Concatenate, Dot, Activation, Flatten, TimeDistributed, GRU\n",
        "from tensorflow.keras.callbacks import EarlyStopping\n",
        "from keras.regularizers import l2\n",
        "from textblob import TextBlob\n",
        "import google.auth\n",
        "from google.colab import auth\n",
        "from googleapiclient.discovery import build\n",
        "from google.oauth2 import service_account"
      ]
    },
    {
      "cell_type": "markdown",
      "source": [
        "##Data import and preprocessing"
      ],
      "metadata": {
        "id": "s-Ww5kZiWA5R"
      }
    },
    {
      "cell_type": "code",
      "execution_count": 5,
      "metadata": {
        "id": "9l4a1odftp0o",
        "outputId": "f3eed3d8-a3cf-435b-ec7e-cf952452a98e",
        "colab": {
          "base_uri": "https://localhost:8080/"
        }
      },
      "outputs": [
        {
          "output_type": "stream",
          "name": "stdout",
          "text": [
            "309\n",
            "['greeting', 'greeting', 'greeting', 'greeting', 'greeting', 'greeting', 'greeting', 'greeting', 'greeting', 'greeting', 'greeting', 'greeting', 'greeting', 'morning', 'morning', 'afternoon', 'afternoon', 'evening', 'evening', 'night', 'night', 'night', 'night', 'goodbye', 'goodbye', 'goodbye', 'goodbye', 'goodbye', 'goodbye', 'goodbye', 'goodbye', 'goodbye', 'thanks', 'thanks', 'thanks', 'thanks', 'thanks', 'no-response', 'neutral-response', 'neutral-response', 'neutral-response', 'neutral-response', 'neutral-response', 'neutral-response', 'neutral-response', 'neutral-response', 'about', 'about', 'about', 'about', 'about', 'about', 'about', 'about', 'skill', 'skill', 'creation', 'creation', 'creation', 'name', 'name', 'name', 'help', 'help', 'help', 'help', 'help', 'help', 'help', 'help', 'sad', 'sad', 'sad', 'sad', 'sad', 'sad', 'sad', 'sad', 'sad', 'sad', 'sad', 'sad', 'stressed', 'stressed', 'stressed', 'stressed', 'stressed', 'worthless', 'worthless', 'worthless', 'worthless', 'worthless', 'worthless', 'worthless', 'depressed', 'depressed', 'depressed', 'depressed', 'happy', 'happy', 'happy', 'happy', 'happy', 'happy', 'happy', 'happy', 'happy', 'casual', 'casual', 'casual', 'casual', 'casual', 'casual', 'casual', 'casual', 'casual', 'casual', 'casual', 'anxious', 'anxious', 'anxious', 'not-talking', 'not-talking', 'not-talking', 'not-talking', 'sleep', 'sleep', 'sleep', 'sleep', 'sleep', 'sleep', 'scared', 'scared', 'scared', 'scared', 'scared', 'death', 'death', 'death', 'death', 'death', 'death', 'death', 'death', 'understand', 'understand', 'understand', 'understand', 'understand', 'understand', 'done', 'done', 'done', 'done', 'done', 'done', 'suicide', 'suicide', 'suicide', 'suicide', 'suicide', 'suicide', 'suicide', 'hate-you', 'hate-you', 'hate-you', 'hate-me', 'hate-me', 'hate-me', 'hate-me', 'default', 'default', 'default', 'default', 'default', 'default', 'default', 'default', 'default', 'default', 'jokes', 'jokes', 'jokes', 'jokes', 'repeat', 'repeat', 'repeat', 'repeat', 'wrong', 'wrong', 'wrong', 'wrong', 'wrong', 'stupid', 'stupid', 'stupid', 'stupid', 'location', 'location', 'location', 'something-else', 'something-else', 'something-else', 'something-else', 'friends', 'friends', 'friends', 'friends', 'ask', 'ask', 'problem', 'problem', 'problem', 'no-approach', 'no-approach', 'no-approach', 'learn-more', 'learn-more', 'learn-more', 'learn-more', 'break', 'break', 'break', 'break', 'meditation', 'meditation', 'meditation', 'meditation', 'user-meditation', 'user-meditation', 'user-meditation', 'pandora-useful', 'user-advice', 'user-advice', 'user-advice', 'user-advice', 'learn-mental-health', 'learn-mental-health', 'learn-mental-health', 'mental-health-fact', 'mental-health-fact', 'fact-1', 'fact-1', 'fact-2', 'fact-2', 'fact-3', 'fact-3', 'fact-5', 'fact-5', 'fact-5', 'fact-5', 'fact-6', 'fact-6', 'fact-7', 'fact-7', 'fact-7', 'fact-8', 'fact-9', 'fact-10', 'fact-11', 'fact-12', 'fact-13', 'fact-14', 'fact-15', 'fact-16', 'fact-17', 'fact-18', 'fact-19', 'fact-20', 'fact-21', 'fact-22', 'fact-23', 'fact-24', 'fact-25', 'fact-26', 'fact-26', 'fact-27', 'fact-28', 'fact-29', 'fact-30', 'fact-31', 'fact-32', 'fact-32', 'datetime', 'datetime', 'datetime', 'datetime', 'datetime', 'datetime', 'datetime', 'activity', 'activity', 'exclaim', 'exclaim', 'exclaim', 'exclaim', 'exclaim', 'appreciate', 'appreciate', 'appreciate', 'appreciate', 'suggest', 'suggest', 'suggest', 'suggest', 'suggest', 'riddle', 'riddle', 'riddle']\n"
          ]
        }
      ],
      "source": [
        "with open('intents.json') as file:\n",
        "    data = json.load(file)\n",
        "    \n",
        "training_sentences = []\n",
        "training_labels = []\n",
        "labels = []\n",
        "responses = []\n",
        "\n",
        "\n",
        "for intent in data['intents']:\n",
        "    for pattern in intent['patterns']:\n",
        "        training_sentences.append(pattern)\n",
        "        training_labels.append(intent['tag'])\n",
        "    responses.append(intent['responses'])\n",
        "    \n",
        "    if intent['tag'] not in labels:\n",
        "        labels.append(intent['tag'])\n",
        "        \n",
        "num_classes = len(labels)\n",
        "print(len(training_sentences))\n",
        "print(training_labels)"
      ]
    },
    {
      "cell_type": "code",
      "source": [
        "# Initialize augmentation object\n",
        "aug = naw.SynonymAug(aug_src='wordnet')\n",
        "\n",
        "# Augment sentences\n",
        "aug_sentences = []\n",
        "for sentence in training_sentences:\n",
        "    aug_sentence = aug.augment(sentence)\n",
        "    aug_sentences.append(aug_sentence)\n",
        "    \n",
        "# Print augmented sentences\n",
        "#print(aug_sentences)\n",
        "#print(training_labels)\n",
        "\n",
        "#expand the training sentences and the labels to enlarge the dataset\n",
        "training_sentences.extend(aug_sentences)\n",
        "training_labels.extend(training_labels)\n",
        "\n",
        "print(len(training_sentences))\n",
        "print(len(training_labels))"
      ],
      "metadata": {
        "id": "dFFOQBN3JnyU",
        "outputId": "d3bed4bd-21d1-42df-afa5-eb99554d9200",
        "colab": {
          "base_uri": "https://localhost:8080/"
        }
      },
      "execution_count": 6,
      "outputs": [
        {
          "output_type": "stream",
          "name": "stderr",
          "text": [
            "[nltk_data] Downloading package wordnet to /root/nltk_data...\n",
            "[nltk_data] Downloading package omw-1.4 to /root/nltk_data...\n",
            "[nltk_data] Downloading package averaged_perceptron_tagger to\n",
            "[nltk_data]     /root/nltk_data...\n",
            "[nltk_data]   Unzipping taggers/averaged_perceptron_tagger.zip.\n"
          ]
        },
        {
          "output_type": "stream",
          "name": "stdout",
          "text": [
            "618\n",
            "618\n"
          ]
        }
      ]
    },
    {
      "cell_type": "code",
      "execution_count": 7,
      "metadata": {
        "id": "lTUSol7Ytp0p"
      },
      "outputs": [],
      "source": [
        "lbl_encoder = LabelEncoder()\n",
        "lbl_encoder.fit(training_labels)\n",
        "training_labels = lbl_encoder.transform(training_labels)"
      ]
    },
    {
      "cell_type": "code",
      "execution_count": 8,
      "metadata": {
        "id": "Geqmxr3ttp0q"
      },
      "outputs": [],
      "source": [
        "vocab_size = 1000\n",
        "embedding_dim = 16\n",
        "max_len = 20\n",
        "oov_token = \"<OOV>\"\n",
        "\n",
        "tokenizer = Tokenizer(num_words=vocab_size, oov_token=oov_token)\n",
        "tokenizer.fit_on_texts(training_sentences)\n",
        "word_index = tokenizer.word_index\n",
        "sequences = tokenizer.texts_to_sequences(training_sentences)\n",
        "padded_sequences = pad_sequences(sequences, truncating='post', maxlen=max_len)"
      ]
    },
    {
      "cell_type": "markdown",
      "source": [
        "##RNN MODEL"
      ],
      "metadata": {
        "id": "LChNaK3jxX_Z"
      }
    },
    {
      "cell_type": "code",
      "execution_count": 9,
      "metadata": {
        "id": "WXVbG5N6tp0r",
        "outputId": "fbc39a74-ea2b-4b31-8cb6-cdf8088198d7",
        "colab": {
          "base_uri": "https://localhost:8080/"
        }
      },
      "outputs": [
        {
          "output_type": "stream",
          "name": "stdout",
          "text": [
            "Model: \"sequential\"\n",
            "_________________________________________________________________\n",
            " Layer (type)                Output Shape              Param #   \n",
            "=================================================================\n",
            " embedding (Embedding)       (None, 20, 16)            16000     \n",
            "                                                                 \n",
            " bidirectional (Bidirectiona  (None, 20, 8)            672       \n",
            " l)                                                              \n",
            "                                                                 \n",
            " dropout (Dropout)           (None, 20, 8)             0         \n",
            "                                                                 \n",
            " bidirectional_1 (Bidirectio  (None, 20, 8)            416       \n",
            " nal)                                                            \n",
            "                                                                 \n",
            " dropout_1 (Dropout)         (None, 20, 8)             0         \n",
            "                                                                 \n",
            " bidirectional_2 (Bidirectio  (None, 20, 4)            176       \n",
            " nal)                                                            \n",
            "                                                                 \n",
            " dropout_2 (Dropout)         (None, 20, 4)             0         \n",
            "                                                                 \n",
            " dense (Dense)               (None, 20, 16)            80        \n",
            "                                                                 \n",
            " dropout_3 (Dropout)         (None, 20, 16)            0         \n",
            "                                                                 \n",
            " flatten (Flatten)           (None, 320)               0         \n",
            "                                                                 \n",
            " dense_1 (Dense)             (None, 86)                27606     \n",
            "                                                                 \n",
            "=================================================================\n",
            "Total params: 44,950\n",
            "Trainable params: 44,950\n",
            "Non-trainable params: 0\n",
            "_________________________________________________________________\n"
          ]
        }
      ],
      "source": [
        "model = Sequential()\n",
        "model.add(Embedding(vocab_size, embedding_dim, input_length=max_len))\n",
        "model.add(Bidirectional(LSTM(4, recurrent_dropout=0.2,return_sequences=True)))\n",
        "model.add(Dropout(0.5))\n",
        "model.add(Bidirectional(LSTM(4, return_sequences=True)))\n",
        "model.add(Dropout(0.5))\n",
        "model.add(Bidirectional(LSTM(2, recurrent_dropout=0.3, return_sequences=True)))\n",
        "model.add(Dropout(0.3))\n",
        "model.add(Dense(16, activation='relu', kernel_regularizer=l2(0.01)))\n",
        "model.add(Dropout(0.5))\n",
        "model.add(Flatten())\n",
        "model.add(Dense(num_classes, activation='softmax'))\n",
        "\n",
        "model.compile(loss='sparse_categorical_crossentropy', \n",
        "              optimizer='adam', metrics=['CategoricalAccuracy'])\n",
        "\n",
        "model.summary()"
      ]
    },
    {
      "cell_type": "code",
      "source": [
        "from keras.utils import to_categorical\n",
        "\n",
        "one_hot_labels = to_categorical(training_labels, num_classes)\n",
        "#print(one_hot_labels.shape)\n",
        "print(training_labels)"
      ],
      "metadata": {
        "id": "G0fSwIa96QZV"
      },
      "execution_count": null,
      "outputs": []
    },
    {
      "cell_type": "code",
      "execution_count": 10,
      "metadata": {
        "id": "VZn_UyWdtp0r",
        "outputId": "117114df-dd42-4ab9-cc1c-122aad309c4c",
        "colab": {
          "base_uri": "https://localhost:8080/"
        }
      },
      "outputs": [
        {
          "output_type": "stream",
          "name": "stdout",
          "text": [
            "Epoch 1/50\n",
            "18/18 [==============================] - 17s 161ms/step - loss: 4.5150 - categorical_accuracy: 0.0773 - val_loss: 4.5299 - val_categorical_accuracy: 0.0000e+00\n",
            "Epoch 2/50\n",
            "18/18 [==============================] - 1s 60ms/step - loss: 4.4644 - categorical_accuracy: 0.1403 - val_loss: 4.6011 - val_categorical_accuracy: 0.0000e+00\n",
            "Epoch 3/50\n",
            "18/18 [==============================] - 1s 61ms/step - loss: 4.3322 - categorical_accuracy: 0.0773 - val_loss: 4.9480 - val_categorical_accuracy: 0.0000e+00\n",
            "Epoch 4/50\n",
            "18/18 [==============================] - 1s 59ms/step - loss: 4.2042 - categorical_accuracy: 0.0432 - val_loss: 5.4017 - val_categorical_accuracy: 0.0000e+00\n",
            "Epoch 5/50\n",
            "18/18 [==============================] - 1s 60ms/step - loss: 4.1589 - categorical_accuracy: 0.0288 - val_loss: 5.4147 - val_categorical_accuracy: 0.0000e+00\n",
            "Epoch 6/50\n",
            "18/18 [==============================] - 1s 57ms/step - loss: 4.1447 - categorical_accuracy: 0.0234 - val_loss: 5.3951 - val_categorical_accuracy: 0.0000e+00\n",
            "Epoch 7/50\n",
            "18/18 [==============================] - 1s 56ms/step - loss: 4.1189 - categorical_accuracy: 0.0000e+00 - val_loss: 5.5427 - val_categorical_accuracy: 0.0000e+00\n",
            "Epoch 8/50\n",
            "18/18 [==============================] - 1s 65ms/step - loss: 4.1102 - categorical_accuracy: 0.0090 - val_loss: 5.5179 - val_categorical_accuracy: 0.0000e+00\n",
            "Epoch 9/50\n",
            "18/18 [==============================] - 1s 57ms/step - loss: 4.0746 - categorical_accuracy: 0.0090 - val_loss: 5.7872 - val_categorical_accuracy: 0.0000e+00\n",
            "Epoch 10/50\n",
            "18/18 [==============================] - 1s 56ms/step - loss: 4.0544 - categorical_accuracy: 0.0018 - val_loss: 5.7580 - val_categorical_accuracy: 0.0000e+00\n",
            "Epoch 11/50\n",
            "18/18 [==============================] - 1s 55ms/step - loss: 4.0082 - categorical_accuracy: 0.0036 - val_loss: 5.8526 - val_categorical_accuracy: 0.0000e+00\n",
            "Epoch 12/50\n",
            "18/18 [==============================] - 1s 52ms/step - loss: 3.9273 - categorical_accuracy: 0.0018 - val_loss: 5.4282 - val_categorical_accuracy: 0.0000e+00\n",
            "Epoch 13/50\n",
            "18/18 [==============================] - 1s 58ms/step - loss: 3.8624 - categorical_accuracy: 0.0036 - val_loss: 5.0474 - val_categorical_accuracy: 0.0000e+00\n",
            "Epoch 14/50\n",
            "18/18 [==============================] - 1s 54ms/step - loss: 3.8170 - categorical_accuracy: 0.0468 - val_loss: 4.8730 - val_categorical_accuracy: 0.0000e+00\n",
            "Epoch 15/50\n",
            "18/18 [==============================] - 1s 55ms/step - loss: 3.7751 - categorical_accuracy: 0.0845 - val_loss: 4.7968 - val_categorical_accuracy: 0.0000e+00\n",
            "Epoch 16/50\n",
            "18/18 [==============================] - 1s 59ms/step - loss: 3.7437 - categorical_accuracy: 0.1511 - val_loss: 5.5447 - val_categorical_accuracy: 0.1935\n",
            "Epoch 17/50\n",
            "18/18 [==============================] - 1s 56ms/step - loss: 3.6742 - categorical_accuracy: 0.2302 - val_loss: 5.7781 - val_categorical_accuracy: 0.3387\n",
            "Epoch 18/50\n",
            "18/18 [==============================] - 1s 58ms/step - loss: 3.6243 - categorical_accuracy: 0.2536 - val_loss: 5.6337 - val_categorical_accuracy: 0.6935\n",
            "Epoch 19/50\n",
            "18/18 [==============================] - 1s 56ms/step - loss: 3.6189 - categorical_accuracy: 0.2338 - val_loss: 5.8888 - val_categorical_accuracy: 0.5323\n",
            "Epoch 20/50\n",
            "18/18 [==============================] - 1s 61ms/step - loss: 3.5964 - categorical_accuracy: 0.3471 - val_loss: 5.7577 - val_categorical_accuracy: 0.7419\n",
            "Epoch 21/50\n",
            "18/18 [==============================] - 1s 61ms/step - loss: 3.5585 - categorical_accuracy: 0.3201 - val_loss: 6.1327 - val_categorical_accuracy: 0.5806\n",
            "Epoch 22/50\n",
            "18/18 [==============================] - 1s 60ms/step - loss: 3.5323 - categorical_accuracy: 0.3112 - val_loss: 5.3820 - val_categorical_accuracy: 0.9839\n",
            "Epoch 23/50\n",
            "18/18 [==============================] - 1s 58ms/step - loss: 3.4958 - categorical_accuracy: 0.3309 - val_loss: 5.5200 - val_categorical_accuracy: 0.9839\n",
            "Epoch 24/50\n",
            "18/18 [==============================] - 1s 59ms/step - loss: 3.4633 - categorical_accuracy: 0.3129 - val_loss: 5.4800 - val_categorical_accuracy: 0.9839\n",
            "Epoch 25/50\n",
            "18/18 [==============================] - 1s 54ms/step - loss: 3.4741 - categorical_accuracy: 0.2464 - val_loss: 6.3401 - val_categorical_accuracy: 0.6613\n",
            "Epoch 26/50\n",
            "18/18 [==============================] - 1s 60ms/step - loss: 3.4288 - categorical_accuracy: 0.2122 - val_loss: 7.8178 - val_categorical_accuracy: 0.0968\n",
            "Epoch 27/50\n",
            "18/18 [==============================] - 1s 58ms/step - loss: 3.4043 - categorical_accuracy: 0.2356 - val_loss: 7.1116 - val_categorical_accuracy: 0.3871\n",
            "Epoch 28/50\n",
            "18/18 [==============================] - 1s 55ms/step - loss: 3.3919 - categorical_accuracy: 0.2662 - val_loss: 7.1099 - val_categorical_accuracy: 0.4032\n",
            "Epoch 29/50\n",
            "18/18 [==============================] - 1s 58ms/step - loss: 3.3410 - categorical_accuracy: 0.2320 - val_loss: 7.3179 - val_categorical_accuracy: 0.0161\n",
            "Epoch 30/50\n",
            "18/18 [==============================] - 1s 58ms/step - loss: 3.3672 - categorical_accuracy: 0.2302 - val_loss: 6.8159 - val_categorical_accuracy: 0.5968\n",
            "Epoch 31/50\n",
            "18/18 [==============================] - 1s 58ms/step - loss: 3.3050 - categorical_accuracy: 0.2392 - val_loss: 7.6515 - val_categorical_accuracy: 0.0968\n",
            "Epoch 32/50\n",
            "18/18 [==============================] - 1s 57ms/step - loss: 3.3369 - categorical_accuracy: 0.2392 - val_loss: 7.5032 - val_categorical_accuracy: 0.0968\n",
            "Epoch 33/50\n",
            "18/18 [==============================] - 1s 55ms/step - loss: 3.2782 - categorical_accuracy: 0.2518 - val_loss: 8.4392 - val_categorical_accuracy: 0.1774\n",
            "Epoch 34/50\n",
            "18/18 [==============================] - 1s 57ms/step - loss: 3.2859 - categorical_accuracy: 0.2500 - val_loss: 7.6667 - val_categorical_accuracy: 0.3065\n",
            "Epoch 35/50\n",
            "18/18 [==============================] - 1s 59ms/step - loss: 3.2765 - categorical_accuracy: 0.2896 - val_loss: 7.8603 - val_categorical_accuracy: 0.3387\n",
            "Epoch 36/50\n",
            "18/18 [==============================] - 1s 59ms/step - loss: 3.2486 - categorical_accuracy: 0.2230 - val_loss: 8.9097 - val_categorical_accuracy: 0.1290\n",
            "Epoch 37/50\n",
            "18/18 [==============================] - 1s 59ms/step - loss: 3.2181 - categorical_accuracy: 0.2302 - val_loss: 7.5529 - val_categorical_accuracy: 0.5323\n",
            "Epoch 38/50\n",
            "18/18 [==============================] - 1s 55ms/step - loss: 3.2129 - categorical_accuracy: 0.2086 - val_loss: 8.2141 - val_categorical_accuracy: 0.3065\n",
            "Epoch 39/50\n",
            "18/18 [==============================] - 1s 58ms/step - loss: 3.2272 - categorical_accuracy: 0.1601 - val_loss: 8.1415 - val_categorical_accuracy: 0.0161\n",
            "Epoch 40/50\n",
            "18/18 [==============================] - 1s 60ms/step - loss: 3.2088 - categorical_accuracy: 0.1888 - val_loss: 8.2554 - val_categorical_accuracy: 0.0161\n",
            "Epoch 41/50\n",
            "18/18 [==============================] - 1s 58ms/step - loss: 3.2161 - categorical_accuracy: 0.2104 - val_loss: 9.4059 - val_categorical_accuracy: 0.0161\n",
            "Epoch 42/50\n",
            "18/18 [==============================] - 1s 61ms/step - loss: 3.1894 - categorical_accuracy: 0.2194 - val_loss: 8.3443 - val_categorical_accuracy: 0.3387\n",
            "Epoch 43/50\n",
            "18/18 [==============================] - 1s 56ms/step - loss: 3.1628 - categorical_accuracy: 0.2446 - val_loss: 9.1503 - val_categorical_accuracy: 0.1452\n",
            "Epoch 44/50\n",
            "18/18 [==============================] - 1s 56ms/step - loss: 3.1303 - categorical_accuracy: 0.1799 - val_loss: 9.1800 - val_categorical_accuracy: 0.0161\n",
            "Epoch 45/50\n",
            "18/18 [==============================] - 1s 56ms/step - loss: 3.1212 - categorical_accuracy: 0.2014 - val_loss: 8.3814 - val_categorical_accuracy: 0.1129\n",
            "Epoch 46/50\n",
            "18/18 [==============================] - 1s 50ms/step - loss: 3.1163 - categorical_accuracy: 0.1385 - val_loss: 9.6502 - val_categorical_accuracy: 0.0000e+00\n",
            "Epoch 47/50\n",
            "18/18 [==============================] - 1s 59ms/step - loss: 3.1185 - categorical_accuracy: 0.1637 - val_loss: 8.8530 - val_categorical_accuracy: 0.0323\n",
            "Epoch 48/50\n",
            "18/18 [==============================] - 1s 60ms/step - loss: 3.0925 - categorical_accuracy: 0.1547 - val_loss: 9.3301 - val_categorical_accuracy: 0.0000e+00\n",
            "Epoch 49/50\n",
            "18/18 [==============================] - 1s 60ms/step - loss: 3.0590 - categorical_accuracy: 0.1277 - val_loss: 9.7692 - val_categorical_accuracy: 0.0000e+00\n",
            "Epoch 50/50\n",
            "18/18 [==============================] - 1s 55ms/step - loss: 3.0494 - categorical_accuracy: 0.1331 - val_loss: 10.5654 - val_categorical_accuracy: 0.0000e+00\n"
          ]
        }
      ],
      "source": [
        "epochs = 50\n",
        "history = model.fit(padded_sequences, training_labels, epochs=epochs, verbose=1, validation_split=0.1)"
      ]
    },
    {
      "cell_type": "code",
      "source": [
        "plt.plot(history.history['categorical_accuracy'])\n",
        "plt.plot(history.history['val_categorical_accuracy'])"
      ],
      "metadata": {
        "id": "L9S3nmcKMu2T",
        "outputId": "72b47566-382f-4764-9b64-88799626b66c",
        "colab": {
          "base_uri": "https://localhost:8080/",
          "height": 448
        }
      },
      "execution_count": 11,
      "outputs": [
        {
          "output_type": "execute_result",
          "data": {
            "text/plain": [
              "[<matplotlib.lines.Line2D at 0x7fe15c4898b0>]"
            ]
          },
          "metadata": {},
          "execution_count": 11
        },
        {
          "output_type": "display_data",
          "data": {
            "text/plain": [
              "<Figure size 640x480 with 1 Axes>"
            ],
            "image/png": "[encoded data removed]"
          },
          "metadata": {}
        }
      ]
    },
    {
      "cell_type": "code",
      "execution_count": 12,
      "metadata": {
        "id": "-yrXQJd4tp0t",
        "outputId": "4308ede1-fae7-48cc-d20b-d7269f7b4e37",
        "colab": {
          "base_uri": "https://localhost:8080/",
          "height": 448
        }
      },
      "outputs": [
        {
          "output_type": "execute_result",
          "data": {
            "text/plain": [
              "[<matplotlib.lines.Line2D at 0x7fe15c384b80>]"
            ]
          },
          "metadata": {},
          "execution_count": 12
        },
        {
          "output_type": "display_data",
          "data": {
            "text/plain": [
              "<Figure size 640x480 with 1 Axes>"
            ],
            "image/png": "[encoded data removed]"
          },
          "metadata": {}
        }
      ],
      "source": [
        "plt.plot(history.history['loss'])\n",
        "plt.plot(history.history['val_loss'])"
      ]
    },
    {
      "cell_type": "markdown",
      "source": [
        "##Model save and export"
      ],
      "metadata": {
        "id": "oYvmQj10VvvU"
      }
    },
    {
      "cell_type": "code",
      "execution_count": 13,
      "metadata": {
        "id": "yszOSfNHtp0u",
        "outputId": "51e996b2-d278-425a-faa6-423d41cd0390",
        "colab": {
          "base_uri": "https://localhost:8080/"
        }
      },
      "outputs": [
        {
          "output_type": "stream",
          "name": "stderr",
          "text": [
            "WARNING:absl:Found untraced functions such as _update_step_xla, lstm_cell_4_layer_call_fn, lstm_cell_4_layer_call_and_return_conditional_losses, lstm_cell_5_layer_call_fn, lstm_cell_5_layer_call_and_return_conditional_losses while saving (showing 5 of 5). These functions will not be directly callable after loading.\n"
          ]
        }
      ],
      "source": [
        "# to save the trained model\n",
        "model.save(\"chat_model\")\n",
        "\n",
        "# to save the fitted tokenizer\n",
        "with open('tokenizer.pickle', 'wb') as handle:\n",
        "    pickle.dump(tokenizer, handle, protocol=pickle.HIGHEST_PROTOCOL)\n",
        "    \n",
        "# to save the fitted label encoder\n",
        "with open('label_encoder.pickle', 'wb') as ecn_file:\n",
        "    pickle.dump(lbl_encoder, ecn_file, protocol=pickle.HIGHEST_PROTOCOL)"
      ]
    },
    {
      "cell_type": "markdown",
      "source": [
        "##Chat script "
      ],
      "metadata": {
        "id": "JLqRORa5V0bD"
      }
    },
    {
      "cell_type": "code",
      "execution_count": 16,
      "metadata": {
        "id": "gdyW4uKKtp0v",
        "outputId": "185db41e-3125-4205-c3a7-deb217036a81",
        "colab": {
          "base_uri": "https://localhost:8080/"
        }
      },
      "outputs": [
        {
          "output_type": "stream",
          "name": "stdout",
          "text": [
            "\u001b[33mStart messaging with the bot (type quit to stop)!\u001b[0m\n",
            "\u001b[94mUser: \u001b[0mhello\n",
            "1/1 [==============================] - 2s 2s/step\n",
            "['greeting']\n",
            "\u001b[32mChatBot:\u001b[0m Great to see you. How do you feel currently?\n",
            "\u001b[94mUser: \u001b[0mi feel alright\n",
            "1/1 [==============================] - 0s 34ms/step\n",
            "['sad']\n",
            "\u001b[32mChatBot:\u001b[0m How long have you been feeling this way?\n",
            "\u001b[94mUser: \u001b[0mfor about two weeks\n",
            "1/1 [==============================] - 0s 37ms/step\n",
            "['thanks']\n",
            "\u001b[32mChatBot:\u001b[0m Any time!\n",
            "\u001b[94mUser: \u001b[0myou make me hate my life\n",
            "1/1 [==============================] - 0s 41ms/step\n",
            "['thanks']\n",
            "\u001b[32mChatBot:\u001b[0m Any time!\n",
            "\u001b[94mUser: \u001b[0mwhy can't you just be accurate?\n",
            "1/1 [==============================] - 0s 35ms/step\n",
            "['about']\n",
            "\u001b[32mChatBot:\u001b[0m I'm Digital Friend!\n",
            "\u001b[94mUser: \u001b[0myou're useless\n",
            "1/1 [==============================] - 0s 33ms/step\n",
            "['about']\n",
            "\u001b[32mChatBot:\u001b[0m I'm Digital Friend!\n",
            "\u001b[94mUser: \u001b[0mtell me about mental health\n",
            "1/1 [==============================] - 0s 34ms/step\n",
            "['learn-mental-health']\n",
            "\u001b[32mChatBot:\u001b[0m Oh that's really great. I'd be willing to answer anything that I know about it.\n",
            "\u001b[94mUser: \u001b[0mtell me about depression\n",
            "1/1 [==============================] - 0s 35ms/step\n",
            "['about']\n",
            "\u001b[32mChatBot:\u001b[0m I'm Digital Friend, a Mental Health AI Assitant designed to assist you. Tell me about yourself.\n",
            "\u001b[94mUser: \u001b[0mmy name is chris\n",
            "1/1 [==============================] - 0s 36ms/step\n",
            "['thanks']\n",
            "\u001b[32mChatBot:\u001b[0m My pleasure\n",
            "\u001b[94mUser: \u001b[0mquit\n",
            "10\n"
          ]
        }
      ],
      "source": [
        "with open(\"intents.json\") as file:\n",
        "    data = json.load(file)\n",
        "\n",
        "input_list = []\n",
        "\n",
        "def chat(input_list):\n",
        "    # load trained model\n",
        "    model = keras.models.load_model('chat_model')\n",
        "\n",
        "    # load tokenizer object\n",
        "    with open('tokenizer.pickle', 'rb') as handle:\n",
        "        tokenizer = pickle.load(handle)\n",
        "\n",
        "    # load label encoder object\n",
        "    with open('label_encoder.pickle', 'rb') as enc:\n",
        "        lbl_encoder = pickle.load(enc)\n",
        "\n",
        "    # parameters\n",
        "    max_len = 20\n",
        "    \n",
        "    while True:\n",
        "        print(Fore.LIGHTBLUE_EX + \"User: \" + Style.RESET_ALL, end=\"\")\n",
        "        inp = input()\n",
        "        input_list.append(inp)\n",
        "        if inp.lower() == \"quit\":\n",
        "            break\n",
        "\n",
        "        result = model.predict(keras.preprocessing.sequence.pad_sequences(tokenizer.texts_to_sequences([inp]),\n",
        "                                             truncating='post', maxlen=max_len))\n",
        "        #print(result)                                    \n",
        "        tag = lbl_encoder.inverse_transform([np.argmax(result)])\n",
        "        print(tag)\n",
        "        for i in data['intents']:\n",
        "            if i['tag'] == tag:\n",
        "                print(Fore.GREEN + \"ChatBot:\" + Style.RESET_ALL , np.random.choice(i['responses']))\n",
        "\n",
        "        # print(Fore.GREEN + \"ChatBot:\" + Style.RESET_ALL,random.choice(responses))\n",
        "    return input_list\n",
        "\n",
        "print(Fore.YELLOW + \"Start messaging with the bot (type quit to stop)!\" + Style.RESET_ALL)\n",
        "total_input = chat(input_list)\n",
        "\n",
        "print(len(total_input))"
      ]
    },
    {
      "cell_type": "markdown",
      "source": [
        "##Chat results and metrics"
      ],
      "metadata": {
        "id": "mcMfHxDkVqSo"
      }
    },
    {
      "cell_type": "code",
      "source": [
        "first_five_inputs = total_input[0:5]\n",
        "last_five_inputs =  total_input[-5:]\n",
        "\n",
        "first_five_sentiments = []\n",
        "last_five_sentiments = []\n",
        "\n",
        "for input in first_five_inputs:\n",
        "  first_five_sentiments.append(TextBlob(input).sentiment.polarity)\n",
        "\n",
        "for input in last_five_inputs:\n",
        "  last_five_sentiments.append(TextBlob(input).sentiment.polarity)\n",
        "\n",
        "first_five_sum = 0\n",
        "last_five_sum = 0\n",
        "\n",
        "for polarity in first_five_sentiments:\n",
        "  first_five_sum = first_five_sum + polarity\n",
        "\n",
        "for polarity in last_five_sentiments:\n",
        "  last_five_sum = last_five_sum + polarity\n",
        "\n",
        "if first_five_sum < last_five_sum:\n",
        "  print(\"There was an improvement in sentiment throughout the chat process\")\n",
        "\n",
        "if first_five_sum > last_five_sum:\n",
        "  print(\"There was a decline in sentiment throughout the chat process\")\n",
        "\n",
        "if first_five_sum == last_five_sum:\n",
        "  print(\"There was no change in sentiment throughout the chat process\")"
      ],
      "metadata": {
        "id": "Vr6qhswT6pBG",
        "outputId": "36aa2dd5-5cba-47b6-abea-74a91e54c055",
        "colab": {
          "base_uri": "https://localhost:8080/"
        }
      },
      "execution_count": 35,
      "outputs": [
        {
          "output_type": "stream",
          "name": "stdout",
          "text": [
            "There was a decline in sentiment throughout the chat process\n"
          ]
        }
      ]
    },
    {
      "cell_type": "markdown",
      "source": [
        "##Post-Chat survey"
      ],
      "metadata": {
        "id": "KjPEebafVicc"
      }
    },
    {
      "cell_type": "markdown",
      "source": [
        "https://docs.google.com/forms/d/e/1FAIpQLSfeZG2RkqeHAdvU4jIJCBBdl0y0_yQGOwaR-WpPx5GQwCap3w/viewform"
      ],
      "metadata": {
        "id": "Rt7_-t3SVmlX"
      }
    },
    {
      "cell_type": "code",
      "source": [
        "from google.colab import auth\n",
        "auth.authenticate_user()\n",
        "\n",
        "from google.colab import drive\n",
        "drive.mount('/content/drive')\n",
        "\n",
        "from google.oauth2 import service_account\n",
        "from googleapiclient.discovery import build\n",
        "\n",
        "# Authenticate and build the service client\n",
        "credentials = service_account.Credentials.from_service_account_file('/content/drive/MyDrive/creds2.json')\n",
        "service = build('forms', 'v1', credentials=credentials)\n",
        "\n",
        "# Replace formId with your Google Forms survey ID\n",
        "form_response = service.forms().get(formId='1FAIpQLSfeZG2RkqeHAdvU4jIJCBBdl0y0_yQGOwaR-WpPx5GQwCap3w').execute()\n",
        "\n",
        "# Print the survey response\n",
        "print(form_response)\n"
      ],
      "metadata": {
        "id": "jCcvsoZU9uTD",
        "outputId": "0589cee2-22cc-4a00-cfd5-6e1b65b7bfff",
        "colab": {
          "base_uri": "https://localhost:8080/",
          "height": 445
        }
      },
      "execution_count": 38,
      "outputs": [
        {
          "output_type": "stream",
          "name": "stdout",
          "text": [
            "Drive already mounted at /content/drive; to attempt to forcibly remount, call drive.mount(\"/content/drive\", force_remount=True).\n"
          ]
        },
        {
          "output_type": "error",
          "ename": "MalformedError",
          "evalue": "ignored",
          "traceback": [
            "\u001b[0;31m---------------------------------------------------------------------------\u001b[0m",
            "\u001b[0;31mMalformedError\u001b[0m                            Traceback (most recent call last)",
            "\u001b[0;32m<ipython-input-38-52da026e60dd>\u001b[0m in \u001b[0;36m<cell line: 11>\u001b[0;34m()\u001b[0m\n\u001b[1;32m      9\u001b[0m \u001b[0;34m\u001b[0m\u001b[0m\n\u001b[1;32m     10\u001b[0m \u001b[0;31m# Authenticate and build the service client\u001b[0m\u001b[0;34m\u001b[0m\u001b[0;34m\u001b[0m\u001b[0m\n\u001b[0;32m---> 11\u001b[0;31m \u001b[0mcredentials\u001b[0m \u001b[0;34m=\u001b[0m \u001b[0mservice_account\u001b[0m\u001b[0;34m.\u001b[0m\u001b[0mCredentials\u001b[0m\u001b[0;34m.\u001b[0m\u001b[0mfrom_service_account_file\u001b[0m\u001b[0;34m(\u001b[0m\u001b[0;34m'/content/drive/MyDrive/creds2.json'\u001b[0m\u001b[0;34m)\u001b[0m\u001b[0;34m\u001b[0m\u001b[0;34m\u001b[0m\u001b[0m\n\u001b[0m\u001b[1;32m     12\u001b[0m \u001b[0mservice\u001b[0m \u001b[0;34m=\u001b[0m \u001b[0mbuild\u001b[0m\u001b[0;34m(\u001b[0m\u001b[0;34m'forms'\u001b[0m\u001b[0;34m,\u001b[0m \u001b[0;34m'v1'\u001b[0m\u001b[0;34m,\u001b[0m \u001b[0mcredentials\u001b[0m\u001b[0;34m=\u001b[0m\u001b[0mcredentials\u001b[0m\u001b[0;34m)\u001b[0m\u001b[0;34m\u001b[0m\u001b[0;34m\u001b[0m\u001b[0m\n\u001b[1;32m     13\u001b[0m \u001b[0;34m\u001b[0m\u001b[0m\n",
            "\u001b[0;32m/usr/local/lib/python3.9/dist-packages/google/oauth2/service_account.py\u001b[0m in \u001b[0;36mfrom_service_account_file\u001b[0;34m(cls, filename, **kwargs)\u001b[0m\n\u001b[1;32m    239\u001b[0m                 \u001b[0mcredentials\u001b[0m\u001b[0;34m.\u001b[0m\u001b[0;34m\u001b[0m\u001b[0;34m\u001b[0m\u001b[0m\n\u001b[1;32m    240\u001b[0m         \"\"\"\n\u001b[0;32m--> 241\u001b[0;31m         info, signer = _service_account_info.from_filename(\n\u001b[0m\u001b[1;32m    242\u001b[0m             \u001b[0mfilename\u001b[0m\u001b[0;34m,\u001b[0m \u001b[0mrequire\u001b[0m\u001b[0;34m=\u001b[0m\u001b[0;34m[\u001b[0m\u001b[0;34m\"client_email\"\u001b[0m\u001b[0;34m,\u001b[0m \u001b[0;34m\"token_uri\"\u001b[0m\u001b[0;34m]\u001b[0m\u001b[0;34m\u001b[0m\u001b[0;34m\u001b[0m\u001b[0m\n\u001b[1;32m    243\u001b[0m         )\n",
            "\u001b[0;32m/usr/local/lib/python3.9/dist-packages/google/auth/_service_account_info.py\u001b[0m in \u001b[0;36mfrom_filename\u001b[0;34m(filename, require, use_rsa_signer)\u001b[0m\n\u001b[1;32m     80\u001b[0m     \u001b[0;32mwith\u001b[0m \u001b[0mio\u001b[0m\u001b[0;34m.\u001b[0m\u001b[0mopen\u001b[0m\u001b[0;34m(\u001b[0m\u001b[0mfilename\u001b[0m\u001b[0;34m,\u001b[0m \u001b[0;34m\"r\"\u001b[0m\u001b[0;34m,\u001b[0m \u001b[0mencoding\u001b[0m\u001b[0;34m=\u001b[0m\u001b[0;34m\"utf-8\"\u001b[0m\u001b[0;34m)\u001b[0m \u001b[0;32mas\u001b[0m \u001b[0mjson_file\u001b[0m\u001b[0;34m:\u001b[0m\u001b[0;34m\u001b[0m\u001b[0;34m\u001b[0m\u001b[0m\n\u001b[1;32m     81\u001b[0m         \u001b[0mdata\u001b[0m \u001b[0;34m=\u001b[0m \u001b[0mjson\u001b[0m\u001b[0;34m.\u001b[0m\u001b[0mload\u001b[0m\u001b[0;34m(\u001b[0m\u001b[0mjson_file\u001b[0m\u001b[0;34m)\u001b[0m\u001b[0;34m\u001b[0m\u001b[0;34m\u001b[0m\u001b[0m\n\u001b[0;32m---> 82\u001b[0;31m         \u001b[0;32mreturn\u001b[0m \u001b[0mdata\u001b[0m\u001b[0;34m,\u001b[0m \u001b[0mfrom_dict\u001b[0m\u001b[0;34m(\u001b[0m\u001b[0mdata\u001b[0m\u001b[0;34m,\u001b[0m \u001b[0mrequire\u001b[0m\u001b[0;34m=\u001b[0m\u001b[0mrequire\u001b[0m\u001b[0;34m,\u001b[0m \u001b[0muse_rsa_signer\u001b[0m\u001b[0;34m=\u001b[0m\u001b[0muse_rsa_signer\u001b[0m\u001b[0;34m)\u001b[0m\u001b[0;34m\u001b[0m\u001b[0;34m\u001b[0m\u001b[0m\n\u001b[0m",
            "\u001b[0;32m/usr/local/lib/python3.9/dist-packages/google/auth/_service_account_info.py\u001b[0m in \u001b[0;36mfrom_dict\u001b[0;34m(data, require, use_rsa_signer)\u001b[0m\n\u001b[1;32m     50\u001b[0m \u001b[0;34m\u001b[0m\u001b[0m\n\u001b[1;32m     51\u001b[0m     \u001b[0;32mif\u001b[0m \u001b[0mmissing\u001b[0m\u001b[0;34m:\u001b[0m\u001b[0;34m\u001b[0m\u001b[0;34m\u001b[0m\u001b[0m\n\u001b[0;32m---> 52\u001b[0;31m         raise exceptions.MalformedError(\n\u001b[0m\u001b[1;32m     53\u001b[0m             \u001b[0;34m\"Service account info was not in the expected format, missing \"\u001b[0m\u001b[0;34m\u001b[0m\u001b[0;34m\u001b[0m\u001b[0m\n\u001b[1;32m     54\u001b[0m             \u001b[0;34m\"fields {}.\"\u001b[0m\u001b[0;34m.\u001b[0m\u001b[0mformat\u001b[0m\u001b[0;34m(\u001b[0m\u001b[0;34m\", \"\u001b[0m\u001b[0;34m.\u001b[0m\u001b[0mjoin\u001b[0m\u001b[0;34m(\u001b[0m\u001b[0mmissing\u001b[0m\u001b[0;34m)\u001b[0m\u001b[0;34m)\u001b[0m\u001b[0;34m\u001b[0m\u001b[0;34m\u001b[0m\u001b[0m\n",
            "\u001b[0;31mMalformedError\u001b[0m: Service account info was not in the expected format, missing fields token_uri, client_email."
          ]
        }
      ]
    }
  ],
  "metadata": {
    "kernelspec": {
      "display_name": "spyder-env",
      "language": "python",
      "name": "python3"
    },
    "language_info": {
      "codemirror_mode": {
        "name": "ipython",
        "version": 3
      },
      "file_extension": ".py",
      "mimetype": "text/x-python",
      "name": "python",
      "nbconvert_exporter": "python",
      "pygments_lexer": "ipython3",
      "version": "3.10.8"
    },
    "orig_nbformat": 4,
    "vscode": {
      "interpreter": {
        "hash": "0867740005d6599654add18c4aea8b68041991fa551a979db4ae6559591eb1ee"
      }
    },
    "colab": {
      "provenance": [],
      "machine_shape": "hm",
      "toc_visible": true
    },
    "accelerator": "TPU",
    "gpuClass": "standard"
  },
  "nbformat": 4,
  "nbformat_minor": 0
}