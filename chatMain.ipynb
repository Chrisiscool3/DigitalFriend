{
  "cells": [
    {
      "cell_type": "code",
      "source": [
        "pip install colorama"
      ],
      "metadata": {
        "id": "l7UNG-2Zt7yY",
        "outputId": "95caa2c1-2c6e-4d60-d17d-6e94e4fc292f",
        "colab": {
          "base_uri": "https://localhost:8080/"
        }
      },
      "execution_count": 60,
      "outputs": [
        {
          "output_type": "stream",
          "name": "stdout",
          "text": [
            "Looking in indexes: https://pypi.org/simple, https://us-python.pkg.dev/colab-wheels/public/simple/\n",
            "Requirement already satisfied: colorama in /usr/local/lib/python3.9/dist-packages (0.4.6)\n"
          ]
        }
      ]
    },
    {
      "cell_type": "code",
      "execution_count": 61,
      "metadata": {
        "id": "I43obmXmtp0m"
      },
      "outputs": [],
      "source": [
        "import json \n",
        "import numpy as np \n",
        "import tensorflow as tf\n",
        "from tensorflow import keras\n",
        "from tensorflow.keras.models import Sequential\n",
        "from tensorflow.keras.layers import Dense, Embedding, GlobalAveragePooling1D\n",
        "from tensorflow.keras.preprocessing.text import Tokenizer\n",
        "from tensorflow.keras.preprocessing.sequence import pad_sequences\n",
        "from sklearn.preprocessing import LabelEncoder\n",
        "import matplotlib.pyplot as plt\n",
        "import pickle\n",
        "import colorama \n",
        "from colorama import Fore, Style, Back\n",
        "import random"
      ]
    },
    {
      "cell_type": "code",
      "execution_count": 94,
      "metadata": {
        "id": "9l4a1odftp0o",
        "outputId": "d2f2ea46-ed1a-4263-b442-5039dd045f64",
        "colab": {
          "base_uri": "https://localhost:8080/"
        }
      },
      "outputs": [
        {
          "output_type": "stream",
          "name": "stdout",
          "text": [
            "309\n"
          ]
        }
      ],
      "source": [
        "with open('intents.json') as file:\n",
        "    data = json.load(file)\n",
        "    \n",
        "training_sentences = []\n",
        "training_labels = []\n",
        "labels = []\n",
        "responses = []\n",
        "\n",
        "\n",
        "for intent in data['intents']:\n",
        "    for pattern in intent['patterns']:\n",
        "        training_sentences.append(pattern)\n",
        "        training_labels.append(intent['tag'])\n",
        "    responses.append(intent['responses'])\n",
        "    \n",
        "    if intent['tag'] not in labels:\n",
        "        labels.append(intent['tag'])\n",
        "        \n",
        "num_classes = len(labels)\n",
        "print(len(training_sentences))"
      ]
    },
    {
      "cell_type": "code",
      "source": [
        "!pip install nlpaug"
      ],
      "metadata": {
        "id": "YExHQKg6J_Do",
        "outputId": "414bfda3-a0b4-4efe-d34d-d5c231146906",
        "colab": {
          "base_uri": "https://localhost:8080/"
        }
      },
      "execution_count": 58,
      "outputs": [
        {
          "output_type": "stream",
          "name": "stdout",
          "text": [
            "Looking in indexes: https://pypi.org/simple, https://us-python.pkg.dev/colab-wheels/public/simple/\n",
            "Requirement already satisfied: nlpaug in /usr/local/lib/python3.9/dist-packages (1.1.11)\n",
            "Requirement already satisfied: pandas>=1.2.0 in /usr/local/lib/python3.9/dist-packages (from nlpaug) (1.5.3)\n",
            "Requirement already satisfied: requests>=2.22.0 in /usr/local/lib/python3.9/dist-packages (from nlpaug) (2.27.1)\n",
            "Requirement already satisfied: numpy>=1.16.2 in /usr/local/lib/python3.9/dist-packages (from nlpaug) (1.24.2)\n",
            "Requirement already satisfied: gdown>=4.0.0 in /usr/local/lib/python3.9/dist-packages (from nlpaug) (4.6.6)\n",
            "Requirement already satisfied: tqdm in /usr/local/lib/python3.9/dist-packages (from gdown>=4.0.0->nlpaug) (4.65.0)\n",
            "Requirement already satisfied: filelock in /usr/local/lib/python3.9/dist-packages (from gdown>=4.0.0->nlpaug) (3.11.0)\n",
            "Requirement already satisfied: beautifulsoup4 in /usr/local/lib/python3.9/dist-packages (from gdown>=4.0.0->nlpaug) (4.11.2)\n",
            "Requirement already satisfied: six in /usr/local/lib/python3.9/dist-packages (from gdown>=4.0.0->nlpaug) (1.16.0)\n",
            "Requirement already satisfied: pytz>=2020.1 in /usr/local/lib/python3.9/dist-packages (from pandas>=1.2.0->nlpaug) (2022.7.1)\n",
            "Requirement already satisfied: python-dateutil>=2.8.1 in /usr/local/lib/python3.9/dist-packages (from pandas>=1.2.0->nlpaug) (2.8.2)\n",
            "Requirement already satisfied: idna<4,>=2.5 in /usr/local/lib/python3.9/dist-packages (from requests>=2.22.0->nlpaug) (3.4)\n",
            "Requirement already satisfied: urllib3<1.27,>=1.21.1 in /usr/local/lib/python3.9/dist-packages (from requests>=2.22.0->nlpaug) (1.26.15)\n",
            "Requirement already satisfied: charset-normalizer~=2.0.0 in /usr/local/lib/python3.9/dist-packages (from requests>=2.22.0->nlpaug) (2.0.12)\n",
            "Requirement already satisfied: certifi>=2017.4.17 in /usr/local/lib/python3.9/dist-packages (from requests>=2.22.0->nlpaug) (2022.12.7)\n",
            "Requirement already satisfied: soupsieve>1.2 in /usr/local/lib/python3.9/dist-packages (from beautifulsoup4->gdown>=4.0.0->nlpaug) (2.4)\n",
            "Requirement already satisfied: PySocks!=1.5.7,>=1.5.6 in /usr/local/lib/python3.9/dist-packages (from requests>=2.22.0->nlpaug) (1.7.1)\n"
          ]
        }
      ]
    },
    {
      "cell_type": "code",
      "source": [
        "print(training_labels)"
      ],
      "metadata": {
        "id": "dLqi1qjmL_XA",
        "outputId": "cdd48dff-be75-40a3-ecdc-7319cbe0f7a9",
        "colab": {
          "base_uri": "https://localhost:8080/"
        }
      },
      "execution_count": 63,
      "outputs": [
        {
          "output_type": "stream",
          "name": "stdout",
          "text": [
            "['greeting', 'greeting', 'greeting', 'greeting', 'greeting', 'greeting', 'greeting', 'greeting', 'greeting', 'greeting', 'greeting', 'greeting', 'greeting', 'morning', 'morning', 'afternoon', 'afternoon', 'evening', 'evening', 'night', 'night', 'night', 'night', 'goodbye', 'goodbye', 'goodbye', 'goodbye', 'goodbye', 'goodbye', 'goodbye', 'goodbye', 'goodbye', 'thanks', 'thanks', 'thanks', 'thanks', 'thanks', 'no-response', 'neutral-response', 'neutral-response', 'neutral-response', 'neutral-response', 'neutral-response', 'neutral-response', 'neutral-response', 'neutral-response', 'about', 'about', 'about', 'about', 'about', 'about', 'about', 'about', 'skill', 'skill', 'creation', 'creation', 'creation', 'name', 'name', 'name', 'help', 'help', 'help', 'help', 'help', 'help', 'help', 'help', 'sad', 'sad', 'sad', 'sad', 'sad', 'sad', 'sad', 'sad', 'sad', 'sad', 'sad', 'sad', 'stressed', 'stressed', 'stressed', 'stressed', 'stressed', 'worthless', 'worthless', 'worthless', 'worthless', 'worthless', 'worthless', 'worthless', 'depressed', 'depressed', 'depressed', 'depressed', 'happy', 'happy', 'happy', 'happy', 'happy', 'happy', 'happy', 'happy', 'happy', 'casual', 'casual', 'casual', 'casual', 'casual', 'casual', 'casual', 'casual', 'casual', 'casual', 'casual', 'anxious', 'anxious', 'anxious', 'not-talking', 'not-talking', 'not-talking', 'not-talking', 'sleep', 'sleep', 'sleep', 'sleep', 'sleep', 'sleep', 'scared', 'scared', 'scared', 'scared', 'scared', 'death', 'death', 'death', 'death', 'death', 'death', 'death', 'death', 'understand', 'understand', 'understand', 'understand', 'understand', 'understand', 'done', 'done', 'done', 'done', 'done', 'done', 'suicide', 'suicide', 'suicide', 'suicide', 'suicide', 'suicide', 'suicide', 'hate-you', 'hate-you', 'hate-you', 'hate-me', 'hate-me', 'hate-me', 'hate-me', 'default', 'default', 'default', 'default', 'default', 'default', 'default', 'default', 'default', 'default', 'jokes', 'jokes', 'jokes', 'jokes', 'repeat', 'repeat', 'repeat', 'repeat', 'wrong', 'wrong', 'wrong', 'wrong', 'wrong', 'stupid', 'stupid', 'stupid', 'stupid', 'location', 'location', 'location', 'something-else', 'something-else', 'something-else', 'something-else', 'friends', 'friends', 'friends', 'friends', 'ask', 'ask', 'problem', 'problem', 'problem', 'no-approach', 'no-approach', 'no-approach', 'learn-more', 'learn-more', 'learn-more', 'learn-more', 'break', 'break', 'break', 'break', 'meditation', 'meditation', 'meditation', 'meditation', 'user-meditation', 'user-meditation', 'user-meditation', 'pandora-useful', 'user-advice', 'user-advice', 'user-advice', 'user-advice', 'learn-mental-health', 'learn-mental-health', 'learn-mental-health', 'mental-health-fact', 'mental-health-fact', 'fact-1', 'fact-1', 'fact-2', 'fact-2', 'fact-3', 'fact-3', 'fact-5', 'fact-5', 'fact-5', 'fact-5', 'fact-6', 'fact-6', 'fact-7', 'fact-7', 'fact-7', 'fact-8', 'fact-9', 'fact-10', 'fact-11', 'fact-12', 'fact-13', 'fact-14', 'fact-15', 'fact-16', 'fact-17', 'fact-18', 'fact-19', 'fact-20', 'fact-21', 'fact-22', 'fact-23', 'fact-24', 'fact-25', 'fact-26', 'fact-26', 'fact-27', 'fact-28', 'fact-29', 'fact-30', 'fact-31', 'fact-32', 'fact-32', 'datetime', 'datetime', 'datetime', 'datetime', 'datetime', 'datetime', 'datetime', 'activity', 'activity', 'exclaim', 'exclaim', 'exclaim', 'exclaim', 'exclaim', 'appreciate', 'appreciate', 'appreciate', 'appreciate', 'suggest', 'suggest', 'suggest', 'suggest', 'suggest', 'riddle', 'riddle', 'riddle']\n"
          ]
        }
      ]
    },
    {
      "cell_type": "code",
      "source": [
        "import nlpaug.augmenter.word as naw\n",
        "\n",
        "# List of training sentences\n",
        "sentences = ['I like cats', 'The dog barked', 'She ate the cake']\n",
        "\n",
        "# Initialize augmentation object\n",
        "aug = naw.SynonymAug(aug_src='wordnet')\n",
        "\n",
        "# Augment sentences\n",
        "aug_sentences = []\n",
        "for sentence in training_sentences:\n",
        "    aug_sentence = aug.augment(sentence)\n",
        "    aug_sentences.append(aug_sentence)\n",
        "    \n",
        "# Print augmented sentences\n",
        "#print(aug_sentences)\n",
        "#print(training_labels)\n",
        "\n",
        "#expand the training sentences and the labels to enlarge the dataset\n",
        "training_sentences.extend(aug_sentences)\n",
        "training_labels.extend(training_labels)\n",
        "\n",
        "print(len(training_sentences))\n",
        "print(len(training_labels))"
      ],
      "metadata": {
        "id": "dFFOQBN3JnyU",
        "outputId": "3df47c35-1719-4f6e-bdc0-426c0256b078",
        "colab": {
          "base_uri": "https://localhost:8080/"
        }
      },
      "execution_count": 98,
      "outputs": [
        {
          "output_type": "stream",
          "name": "stdout",
          "text": [
            "4944\n",
            "4944\n"
          ]
        }
      ]
    },
    {
      "cell_type": "code",
      "execution_count": 99,
      "metadata": {
        "id": "lTUSol7Ytp0p"
      },
      "outputs": [],
      "source": [
        "lbl_encoder = LabelEncoder()\n",
        "lbl_encoder.fit(training_labels)\n",
        "training_labels = lbl_encoder.transform(training_labels)"
      ]
    },
    {
      "cell_type": "code",
      "execution_count": 100,
      "metadata": {
        "id": "Geqmxr3ttp0q"
      },
      "outputs": [],
      "source": [
        "vocab_size = 1000\n",
        "embedding_dim = 16\n",
        "max_len = 20\n",
        "oov_token = \"<OOV>\"\n",
        "\n",
        "tokenizer = Tokenizer(num_words=vocab_size, oov_token=oov_token)\n",
        "tokenizer.fit_on_texts(training_sentences)\n",
        "word_index = tokenizer.word_index\n",
        "sequences = tokenizer.texts_to_sequences(training_sentences)\n",
        "padded_sequences = pad_sequences(sequences, truncating='post', maxlen=max_len)"
      ]
    },
    {
      "cell_type": "markdown",
      "source": [
        "##CHATGPT MODEL"
      ],
      "metadata": {
        "id": "LChNaK3jxX_Z"
      }
    },
    {
      "cell_type": "code",
      "source": [
        "from tensorflow.keras.models import Model\n",
        "from tensorflow.keras.layers import Input, LSTM, Bidirectional, Dense, Dropout, Concatenate, Dot, Activation, Flatten, TimeDistributed, GRU\n",
        "from tensorflow.keras.callbacks import EarlyStopping\n",
        "from keras.regularizers import l2"
      ],
      "metadata": {
        "id": "FV5_QuIaxbmI"
      },
      "execution_count": 101,
      "outputs": []
    },
    {
      "cell_type": "code",
      "execution_count": 104,
      "metadata": {
        "id": "WXVbG5N6tp0r",
        "outputId": "9ca48c3b-2bcb-4375-cf6b-8c555629b11e",
        "colab": {
          "base_uri": "https://localhost:8080/"
        }
      },
      "outputs": [
        {
          "output_type": "stream",
          "name": "stdout",
          "text": [
            "Model: \"sequential_18\"\n",
            "_________________________________________________________________\n",
            " Layer (type)                Output Shape              Param #   \n",
            "=================================================================\n",
            " embedding_18 (Embedding)    (None, 20, 16)            16000     \n",
            "                                                                 \n",
            " bidirectional_33 (Bidirecti  (None, 20, 32)           3264      \n",
            " onal)                                                           \n",
            "                                                                 \n",
            " dropout_17 (Dropout)        (None, 20, 32)            0         \n",
            "                                                                 \n",
            " bidirectional_34 (Bidirecti  (None, 20, 32)           4800      \n",
            " onal)                                                           \n",
            "                                                                 \n",
            " dropout_18 (Dropout)        (None, 20, 32)            0         \n",
            "                                                                 \n",
            " dense_25 (Dense)            (None, 20, 16)            528       \n",
            "                                                                 \n",
            " dropout_19 (Dropout)        (None, 20, 16)            0         \n",
            "                                                                 \n",
            " flatten_17 (Flatten)        (None, 320)               0         \n",
            "                                                                 \n",
            " dense_26 (Dense)            (None, 86)                27606     \n",
            "                                                                 \n",
            "=================================================================\n",
            "Total params: 52,198\n",
            "Trainable params: 52,198\n",
            "Non-trainable params: 0\n",
            "_________________________________________________________________\n"
          ]
        }
      ],
      "source": [
        "model = Sequential()\n",
        "model.add(Embedding(vocab_size, embedding_dim, input_length=max_len))\n",
        "model.add(Bidirectional(GRU(16, recurrent_dropout=0.2,return_sequences=True)))\n",
        "model.add(Dropout(0.5))\n",
        "model.add(Bidirectional(GRU(16, return_sequences=True)))\n",
        "model.add(Dropout(0.5))\n",
        "model.add(Dense(16, activation='relu', kernel_regularizer=l2(0.01)))\n",
        "model.add(Dropout(0.2))\n",
        "model.add(Flatten())\n",
        "model.add(Dense(num_classes, activation='softmax'))\n",
        "\n",
        "model.compile(loss='sparse_categorical_crossentropy', \n",
        "              optimizer='adam', metrics=['CategoricalAccuracy'])\n",
        "\n",
        "model.summary()"
      ]
    },
    {
      "cell_type": "code",
      "source": [
        "from keras.utils import to_categorical\n",
        "\n",
        "one_hot_labels = to_categorical(training_labels, num_classes)\n",
        "#print(one_hot_labels.shape)\n",
        "print(training_labels)"
      ],
      "metadata": {
        "id": "G0fSwIa96QZV",
        "outputId": "e4756196-829c-4d2b-e7f8-78caa36b5419",
        "colab": {
          "base_uri": "https://localhost:8080/",
          "height": 366
        }
      },
      "execution_count": 22,
      "outputs": [
        {
          "output_type": "error",
          "ename": "ValueError",
          "evalue": "ignored",
          "traceback": [
            "\u001b[0;31m---------------------------------------------------------------------------\u001b[0m",
            "\u001b[0;31mValueError\u001b[0m                                Traceback (most recent call last)",
            "\u001b[0;32m<ipython-input-22-030ad043b809>\u001b[0m in \u001b[0;36m<cell line: 3>\u001b[0;34m()\u001b[0m\n\u001b[1;32m      1\u001b[0m \u001b[0;32mfrom\u001b[0m \u001b[0mkeras\u001b[0m\u001b[0;34m.\u001b[0m\u001b[0mutils\u001b[0m \u001b[0;32mimport\u001b[0m \u001b[0mto_categorical\u001b[0m\u001b[0;34m\u001b[0m\u001b[0;34m\u001b[0m\u001b[0m\n\u001b[1;32m      2\u001b[0m \u001b[0;34m\u001b[0m\u001b[0m\n\u001b[0;32m----> 3\u001b[0;31m \u001b[0mone_hot_labels\u001b[0m \u001b[0;34m=\u001b[0m \u001b[0mto_categorical\u001b[0m\u001b[0;34m(\u001b[0m\u001b[0mtraining_labels\u001b[0m\u001b[0;34m,\u001b[0m \u001b[0mnum_classes\u001b[0m\u001b[0;34m)\u001b[0m\u001b[0;34m\u001b[0m\u001b[0;34m\u001b[0m\u001b[0m\n\u001b[0m\u001b[1;32m      4\u001b[0m \u001b[0;31m#print(one_hot_labels.shape)\u001b[0m\u001b[0;34m\u001b[0m\u001b[0;34m\u001b[0m\u001b[0m\n\u001b[1;32m      5\u001b[0m \u001b[0mprint\u001b[0m\u001b[0;34m(\u001b[0m\u001b[0mtraining_labels\u001b[0m\u001b[0;34m)\u001b[0m\u001b[0;34m\u001b[0m\u001b[0;34m\u001b[0m\u001b[0m\n",
            "\u001b[0;32m/usr/local/lib/python3.9/dist-packages/keras/utils/np_utils.py\u001b[0m in \u001b[0;36mto_categorical\u001b[0;34m(y, num_classes, dtype)\u001b[0m\n\u001b[1;32m     60\u001b[0m     \u001b[0;34m[\u001b[0m\u001b[0;36m0.\u001b[0m \u001b[0;36m0.\u001b[0m \u001b[0;36m0.\u001b[0m \u001b[0;36m0.\u001b[0m\u001b[0;34m]\u001b[0m\u001b[0;34m\u001b[0m\u001b[0;34m\u001b[0m\u001b[0m\n\u001b[1;32m     61\u001b[0m     \"\"\"\n\u001b[0;32m---> 62\u001b[0;31m     \u001b[0my\u001b[0m \u001b[0;34m=\u001b[0m \u001b[0mnp\u001b[0m\u001b[0;34m.\u001b[0m\u001b[0marray\u001b[0m\u001b[0;34m(\u001b[0m\u001b[0my\u001b[0m\u001b[0;34m,\u001b[0m \u001b[0mdtype\u001b[0m\u001b[0;34m=\u001b[0m\u001b[0;34m\"int\"\u001b[0m\u001b[0;34m)\u001b[0m\u001b[0;34m\u001b[0m\u001b[0;34m\u001b[0m\u001b[0m\n\u001b[0m\u001b[1;32m     63\u001b[0m     \u001b[0minput_shape\u001b[0m \u001b[0;34m=\u001b[0m \u001b[0my\u001b[0m\u001b[0;34m.\u001b[0m\u001b[0mshape\u001b[0m\u001b[0;34m\u001b[0m\u001b[0;34m\u001b[0m\u001b[0m\n\u001b[1;32m     64\u001b[0m \u001b[0;34m\u001b[0m\u001b[0m\n",
            "\u001b[0;31mValueError\u001b[0m: invalid literal for int() with base 10: 'greeting'"
          ]
        }
      ]
    },
    {
      "cell_type": "code",
      "execution_count": 105,
      "metadata": {
        "id": "VZn_UyWdtp0r",
        "outputId": "ca194b82-eb22-4691-c71c-3a21cd684bee",
        "colab": {
          "base_uri": "https://localhost:8080/"
        }
      },
      "outputs": [
        {
          "output_type": "stream",
          "name": "stdout",
          "text": [
            "Epoch 1/200\n",
            "140/140 [==============================] - 13s 35ms/step - loss: 4.3947 - categorical_accuracy: 0.0205 - val_loss: 4.3777 - val_categorical_accuracy: 0.0000e+00\n",
            "Epoch 2/200\n",
            "140/140 [==============================] - 4s 26ms/step - loss: 4.2666 - categorical_accuracy: 0.0000e+00 - val_loss: 4.3278 - val_categorical_accuracy: 0.0000e+00\n",
            "Epoch 3/200\n",
            "140/140 [==============================] - 4s 26ms/step - loss: 4.2110 - categorical_accuracy: 0.0000e+00 - val_loss: 4.2707 - val_categorical_accuracy: 0.0000e+00\n",
            "Epoch 4/200\n",
            "140/140 [==============================] - 4s 26ms/step - loss: 4.0763 - categorical_accuracy: 2.2477e-04 - val_loss: 4.1222 - val_categorical_accuracy: 0.0000e+00\n",
            "Epoch 5/200\n",
            "140/140 [==============================] - 4s 26ms/step - loss: 3.9003 - categorical_accuracy: 0.0061 - val_loss: 4.0730 - val_categorical_accuracy: 0.0667\n",
            "Epoch 6/200\n",
            "140/140 [==============================] - 4s 27ms/step - loss: 3.8353 - categorical_accuracy: 0.0139 - val_loss: 3.9350 - val_categorical_accuracy: 0.0000e+00\n",
            "Epoch 7/200\n",
            "140/140 [==============================] - 4s 26ms/step - loss: 3.7128 - categorical_accuracy: 0.0166 - val_loss: 3.8719 - val_categorical_accuracy: 0.0000e+00\n",
            "Epoch 8/200\n",
            "140/140 [==============================] - 4s 26ms/step - loss: 3.6540 - categorical_accuracy: 0.0117 - val_loss: 3.8494 - val_categorical_accuracy: 0.0141\n",
            "Epoch 9/200\n",
            "140/140 [==============================] - 4s 26ms/step - loss: 3.5966 - categorical_accuracy: 0.0182 - val_loss: 3.9034 - val_categorical_accuracy: 0.0000e+00\n",
            "Epoch 10/200\n",
            "140/140 [==============================] - 4s 26ms/step - loss: 3.5778 - categorical_accuracy: 0.0108 - val_loss: 3.7709 - val_categorical_accuracy: 0.0263\n",
            "Epoch 11/200\n",
            "140/140 [==============================] - 4s 26ms/step - loss: 3.5201 - categorical_accuracy: 0.0146 - val_loss: 3.7630 - val_categorical_accuracy: 0.0101\n",
            "Epoch 12/200\n",
            "140/140 [==============================] - 4s 26ms/step - loss: 3.4799 - categorical_accuracy: 0.0126 - val_loss: 3.7447 - val_categorical_accuracy: 0.0000e+00\n",
            "Epoch 13/200\n",
            "140/140 [==============================] - 4s 27ms/step - loss: 3.4401 - categorical_accuracy: 0.0126 - val_loss: 3.7185 - val_categorical_accuracy: 0.0000e+00\n",
            "Epoch 14/200\n",
            "140/140 [==============================] - 4s 26ms/step - loss: 3.4233 - categorical_accuracy: 0.0126 - val_loss: 3.7275 - val_categorical_accuracy: 0.0081\n",
            "Epoch 15/200\n",
            "140/140 [==============================] - 4s 26ms/step - loss: 3.4246 - categorical_accuracy: 0.0124 - val_loss: 3.6846 - val_categorical_accuracy: 0.0020\n",
            "Epoch 16/200\n",
            "140/140 [==============================] - 4s 26ms/step - loss: 3.3771 - categorical_accuracy: 0.0130 - val_loss: 3.6875 - val_categorical_accuracy: 0.0101\n",
            "Epoch 17/200\n",
            "140/140 [==============================] - 4s 27ms/step - loss: 3.3711 - categorical_accuracy: 0.0252 - val_loss: 3.6567 - val_categorical_accuracy: 0.0000e+00\n",
            "Epoch 18/200\n",
            "140/140 [==============================] - 4s 27ms/step - loss: 3.3324 - categorical_accuracy: 0.0178 - val_loss: 3.6558 - val_categorical_accuracy: 0.0000e+00\n",
            "Epoch 19/200\n",
            "140/140 [==============================] - 4s 26ms/step - loss: 3.3304 - categorical_accuracy: 0.0119 - val_loss: 3.6464 - val_categorical_accuracy: 0.0061\n",
            "Epoch 20/200\n",
            "140/140 [==============================] - 4s 26ms/step - loss: 3.3156 - categorical_accuracy: 0.0146 - val_loss: 3.6407 - val_categorical_accuracy: 0.0000e+00\n",
            "Epoch 21/200\n",
            "140/140 [==============================] - 4s 26ms/step - loss: 3.2882 - categorical_accuracy: 0.0135 - val_loss: 3.6274 - val_categorical_accuracy: 0.0162\n",
            "Epoch 22/200\n",
            "140/140 [==============================] - 4s 26ms/step - loss: 3.2766 - categorical_accuracy: 0.0184 - val_loss: 3.6352 - val_categorical_accuracy: 0.0000e+00\n",
            "Epoch 23/200\n",
            "140/140 [==============================] - 4s 26ms/step - loss: 3.2664 - categorical_accuracy: 0.0162 - val_loss: 3.6026 - val_categorical_accuracy: 0.0020\n",
            "Epoch 24/200\n",
            "140/140 [==============================] - 4s 27ms/step - loss: 3.2660 - categorical_accuracy: 0.0175 - val_loss: 3.5916 - val_categorical_accuracy: 0.0020\n",
            "Epoch 25/200\n",
            "140/140 [==============================] - 4s 27ms/step - loss: 3.2174 - categorical_accuracy: 0.0130 - val_loss: 3.5659 - val_categorical_accuracy: 0.0121\n",
            "Epoch 26/200\n",
            "140/140 [==============================] - 4s 26ms/step - loss: 3.2052 - categorical_accuracy: 0.0157 - val_loss: 3.5569 - val_categorical_accuracy: 0.0081\n",
            "Epoch 27/200\n",
            "140/140 [==============================] - 4s 26ms/step - loss: 3.1869 - categorical_accuracy: 0.0171 - val_loss: 3.5693 - val_categorical_accuracy: 0.0040\n",
            "Epoch 28/200\n",
            "140/140 [==============================] - 4s 26ms/step - loss: 3.1989 - categorical_accuracy: 0.0160 - val_loss: 3.5413 - val_categorical_accuracy: 0.0061\n",
            "Epoch 29/200\n",
            "140/140 [==============================] - 4s 26ms/step - loss: 3.1612 - categorical_accuracy: 0.0169 - val_loss: 3.5352 - val_categorical_accuracy: 0.0061\n",
            "Epoch 30/200\n",
            "140/140 [==============================] - 4s 26ms/step - loss: 3.1463 - categorical_accuracy: 0.0180 - val_loss: 3.5277 - val_categorical_accuracy: 0.0061\n",
            "Epoch 31/200\n",
            "140/140 [==============================] - 4s 26ms/step - loss: 3.1198 - categorical_accuracy: 0.0153 - val_loss: 3.5286 - val_categorical_accuracy: 0.0061\n",
            "Epoch 32/200\n",
            "140/140 [==============================] - 4s 26ms/step - loss: 3.1224 - categorical_accuracy: 0.0151 - val_loss: 3.5156 - val_categorical_accuracy: 0.0061\n",
            "Epoch 33/200\n",
            "140/140 [==============================] - 4s 26ms/step - loss: 3.1006 - categorical_accuracy: 0.0164 - val_loss: 3.5376 - val_categorical_accuracy: 0.0061\n",
            "Epoch 34/200\n",
            "140/140 [==============================] - 4s 26ms/step - loss: 3.0991 - categorical_accuracy: 0.0164 - val_loss: 3.5014 - val_categorical_accuracy: 0.0061\n",
            "Epoch 35/200\n",
            "140/140 [==============================] - 4s 26ms/step - loss: 3.0688 - categorical_accuracy: 0.0160 - val_loss: 3.5095 - val_categorical_accuracy: 0.0061\n",
            "Epoch 36/200\n",
            "140/140 [==============================] - 4s 26ms/step - loss: 3.0812 - categorical_accuracy: 0.0160 - val_loss: 3.5030 - val_categorical_accuracy: 0.0061\n",
            "Epoch 37/200\n",
            "140/140 [==============================] - 4s 26ms/step - loss: 3.0548 - categorical_accuracy: 0.0175 - val_loss: 3.4714 - val_categorical_accuracy: 0.0040\n",
            "Epoch 38/200\n",
            "140/140 [==============================] - 4s 26ms/step - loss: 3.0400 - categorical_accuracy: 0.0182 - val_loss: 3.4727 - val_categorical_accuracy: 0.0061\n",
            "Epoch 39/200\n",
            "140/140 [==============================] - 4s 26ms/step - loss: 3.0306 - categorical_accuracy: 0.0173 - val_loss: 3.4851 - val_categorical_accuracy: 0.0061\n",
            "Epoch 40/200\n",
            "140/140 [==============================] - 4s 26ms/step - loss: 3.0195 - categorical_accuracy: 0.0178 - val_loss: 3.4503 - val_categorical_accuracy: 0.0061\n",
            "Epoch 41/200\n",
            "140/140 [==============================] - 4s 26ms/step - loss: 3.0028 - categorical_accuracy: 0.0169 - val_loss: 3.4347 - val_categorical_accuracy: 0.0061\n",
            "Epoch 42/200\n",
            "140/140 [==============================] - 4s 26ms/step - loss: 2.9910 - categorical_accuracy: 0.0180 - val_loss: 3.4685 - val_categorical_accuracy: 0.0040\n",
            "Epoch 43/200\n",
            "140/140 [==============================] - 4s 26ms/step - loss: 2.9727 - categorical_accuracy: 0.0164 - val_loss: 3.4165 - val_categorical_accuracy: 0.0061\n",
            "Epoch 44/200\n",
            "140/140 [==============================] - 4s 26ms/step - loss: 2.9632 - categorical_accuracy: 0.0164 - val_loss: 3.4067 - val_categorical_accuracy: 0.0061\n",
            "Epoch 45/200\n",
            "140/140 [==============================] - 4s 26ms/step - loss: 2.9745 - categorical_accuracy: 0.0189 - val_loss: 3.4217 - val_categorical_accuracy: 0.0061\n",
            "Epoch 46/200\n",
            "140/140 [==============================] - 4s 26ms/step - loss: 2.9327 - categorical_accuracy: 0.0184 - val_loss: 3.3879 - val_categorical_accuracy: 0.0081\n",
            "Epoch 47/200\n",
            "140/140 [==============================] - 4s 26ms/step - loss: 2.9126 - categorical_accuracy: 0.0169 - val_loss: 3.4114 - val_categorical_accuracy: 0.0061\n",
            "Epoch 48/200\n",
            "140/140 [==============================] - 4s 26ms/step - loss: 2.9113 - categorical_accuracy: 0.0157 - val_loss: 3.3905 - val_categorical_accuracy: 0.0061\n",
            "Epoch 49/200\n",
            "140/140 [==============================] - 4s 26ms/step - loss: 2.8935 - categorical_accuracy: 0.0178 - val_loss: 3.3618 - val_categorical_accuracy: 0.0061\n",
            "Epoch 50/200\n",
            "140/140 [==============================] - 4s 26ms/step - loss: 2.8726 - categorical_accuracy: 0.0180 - val_loss: 3.4113 - val_categorical_accuracy: 0.0061\n",
            "Epoch 51/200\n",
            "140/140 [==============================] - 4s 26ms/step - loss: 2.8618 - categorical_accuracy: 0.0187 - val_loss: 3.3442 - val_categorical_accuracy: 0.0061\n",
            "Epoch 52/200\n",
            "140/140 [==============================] - 4s 26ms/step - loss: 2.8397 - categorical_accuracy: 0.0171 - val_loss: 3.3569 - val_categorical_accuracy: 0.0081\n",
            "Epoch 53/200\n",
            "140/140 [==============================] - 4s 26ms/step - loss: 2.8333 - categorical_accuracy: 0.0189 - val_loss: 3.3449 - val_categorical_accuracy: 0.0061\n",
            "Epoch 54/200\n",
            "140/140 [==============================] - 4s 26ms/step - loss: 2.8052 - categorical_accuracy: 0.0160 - val_loss: 3.3379 - val_categorical_accuracy: 0.0061\n",
            "Epoch 55/200\n",
            "140/140 [==============================] - 4s 26ms/step - loss: 2.8005 - categorical_accuracy: 0.0189 - val_loss: 3.3147 - val_categorical_accuracy: 0.0061\n",
            "Epoch 56/200\n",
            "140/140 [==============================] - 4s 26ms/step - loss: 2.7823 - categorical_accuracy: 0.0182 - val_loss: 3.3411 - val_categorical_accuracy: 0.0061\n",
            "Epoch 57/200\n",
            "140/140 [==============================] - 4s 26ms/step - loss: 2.7932 - categorical_accuracy: 0.0187 - val_loss: 3.3359 - val_categorical_accuracy: 0.0061\n",
            "Epoch 58/200\n",
            "140/140 [==============================] - 4s 26ms/step - loss: 2.7495 - categorical_accuracy: 0.0225 - val_loss: 3.2969 - val_categorical_accuracy: 0.0061\n",
            "Epoch 59/200\n",
            "140/140 [==============================] - 4s 26ms/step - loss: 2.7562 - categorical_accuracy: 0.0182 - val_loss: 3.3100 - val_categorical_accuracy: 0.0061\n",
            "Epoch 60/200\n",
            "140/140 [==============================] - 4s 26ms/step - loss: 2.7479 - categorical_accuracy: 0.0200 - val_loss: 3.3001 - val_categorical_accuracy: 0.0061\n",
            "Epoch 61/200\n",
            "140/140 [==============================] - 4s 26ms/step - loss: 2.7346 - categorical_accuracy: 0.0189 - val_loss: 3.3155 - val_categorical_accuracy: 0.0061\n",
            "Epoch 62/200\n",
            "140/140 [==============================] - 4s 25ms/step - loss: 2.9018 - categorical_accuracy: 0.0220 - val_loss: 3.3124 - val_categorical_accuracy: 0.0061\n",
            "Epoch 63/200\n",
            "140/140 [==============================] - 4s 26ms/step - loss: 2.7367 - categorical_accuracy: 0.0209 - val_loss: 3.2747 - val_categorical_accuracy: 0.0061\n",
            "Epoch 64/200\n",
            "140/140 [==============================] - 4s 26ms/step - loss: 2.6943 - categorical_accuracy: 0.0193 - val_loss: 3.2680 - val_categorical_accuracy: 0.0061\n",
            "Epoch 65/200\n",
            "140/140 [==============================] - 4s 26ms/step - loss: 2.6967 - categorical_accuracy: 0.0175 - val_loss: 3.2631 - val_categorical_accuracy: 0.0061\n",
            "Epoch 66/200\n",
            "140/140 [==============================] - 4s 25ms/step - loss: 2.6934 - categorical_accuracy: 0.0184 - val_loss: 3.2789 - val_categorical_accuracy: 0.0061\n",
            "Epoch 67/200\n",
            "140/140 [==============================] - 4s 26ms/step - loss: 2.6912 - categorical_accuracy: 0.0180 - val_loss: 3.2721 - val_categorical_accuracy: 0.0061\n",
            "Epoch 68/200\n",
            "140/140 [==============================] - 4s 26ms/step - loss: 2.6822 - categorical_accuracy: 0.0191 - val_loss: 3.3370 - val_categorical_accuracy: 0.0061\n",
            "Epoch 69/200\n",
            "140/140 [==============================] - 4s 26ms/step - loss: 2.9255 - categorical_accuracy: 0.0200 - val_loss: 3.2610 - val_categorical_accuracy: 0.0061\n",
            "Epoch 70/200\n",
            "140/140 [==============================] - 4s 26ms/step - loss: 2.6758 - categorical_accuracy: 0.0173 - val_loss: 3.2690 - val_categorical_accuracy: 0.0061\n",
            "Epoch 71/200\n",
            "140/140 [==============================] - 4s 26ms/step - loss: 2.6868 - categorical_accuracy: 0.0171 - val_loss: 3.2622 - val_categorical_accuracy: 0.0061\n",
            "Epoch 72/200\n",
            "140/140 [==============================] - 4s 26ms/step - loss: 2.6608 - categorical_accuracy: 0.0189 - val_loss: 3.2583 - val_categorical_accuracy: 0.0061\n",
            "Epoch 73/200\n",
            "140/140 [==============================] - 4s 26ms/step - loss: 2.6458 - categorical_accuracy: 0.0166 - val_loss: 3.2463 - val_categorical_accuracy: 0.0061\n",
            "Epoch 74/200\n",
            "140/140 [==============================] - 4s 27ms/step - loss: 2.6596 - categorical_accuracy: 0.0171 - val_loss: 3.3115 - val_categorical_accuracy: 0.0061\n",
            "Epoch 75/200\n",
            "140/140 [==============================] - 4s 26ms/step - loss: 2.7007 - categorical_accuracy: 0.0184 - val_loss: 3.2393 - val_categorical_accuracy: 0.0061\n",
            "Epoch 76/200\n",
            "140/140 [==============================] - 4s 26ms/step - loss: 2.6247 - categorical_accuracy: 0.0173 - val_loss: 3.2353 - val_categorical_accuracy: 0.0061\n",
            "Epoch 77/200\n",
            "140/140 [==============================] - 4s 26ms/step - loss: 2.6151 - categorical_accuracy: 0.0164 - val_loss: 3.2432 - val_categorical_accuracy: 0.0061\n",
            "Epoch 78/200\n",
            "140/140 [==============================] - 4s 26ms/step - loss: 2.6185 - categorical_accuracy: 0.0169 - val_loss: 3.2549 - val_categorical_accuracy: 0.0061\n",
            "Epoch 79/200\n",
            "140/140 [==============================] - 4s 26ms/step - loss: 2.6049 - categorical_accuracy: 0.0171 - val_loss: 3.2316 - val_categorical_accuracy: 0.0061\n",
            "Epoch 80/200\n",
            "140/140 [==============================] - 4s 26ms/step - loss: 2.6042 - categorical_accuracy: 0.0182 - val_loss: 3.2363 - val_categorical_accuracy: 0.0061\n",
            "Epoch 81/200\n",
            "140/140 [==============================] - 4s 26ms/step - loss: 2.6175 - categorical_accuracy: 0.0160 - val_loss: 3.2803 - val_categorical_accuracy: 0.0061\n",
            "Epoch 82/200\n",
            "140/140 [==============================] - 4s 26ms/step - loss: 2.6997 - categorical_accuracy: 0.0151 - val_loss: 3.2621 - val_categorical_accuracy: 0.0040\n",
            "Epoch 83/200\n",
            "140/140 [==============================] - 4s 26ms/step - loss: 2.6132 - categorical_accuracy: 0.0162 - val_loss: 3.2365 - val_categorical_accuracy: 0.0061\n",
            "Epoch 84/200\n",
            "140/140 [==============================] - 4s 26ms/step - loss: 2.5817 - categorical_accuracy: 0.0169 - val_loss: 3.2380 - val_categorical_accuracy: 0.0061\n",
            "Epoch 85/200\n",
            "140/140 [==============================] - 4s 27ms/step - loss: 2.5833 - categorical_accuracy: 0.0175 - val_loss: 3.2237 - val_categorical_accuracy: 0.0061\n",
            "Epoch 86/200\n",
            "140/140 [==============================] - 4s 26ms/step - loss: 2.5854 - categorical_accuracy: 0.0164 - val_loss: 3.2110 - val_categorical_accuracy: 0.0061\n",
            "Epoch 87/200\n",
            "140/140 [==============================] - 4s 26ms/step - loss: 2.5709 - categorical_accuracy: 0.0175 - val_loss: 3.2125 - val_categorical_accuracy: 0.0061\n",
            "Epoch 88/200\n",
            "140/140 [==============================] - 4s 25ms/step - loss: 2.5582 - categorical_accuracy: 0.0162 - val_loss: 3.2102 - val_categorical_accuracy: 0.0061\n",
            "Epoch 89/200\n",
            "140/140 [==============================] - 4s 26ms/step - loss: 2.5618 - categorical_accuracy: 0.0182 - val_loss: 3.2108 - val_categorical_accuracy: 0.0061\n",
            "Epoch 90/200\n",
            "140/140 [==============================] - 4s 26ms/step - loss: 2.5637 - categorical_accuracy: 0.0171 - val_loss: 3.2133 - val_categorical_accuracy: 0.0061\n",
            "Epoch 91/200\n",
            "140/140 [==============================] - 4s 26ms/step - loss: 2.5543 - categorical_accuracy: 0.0184 - val_loss: 3.2268 - val_categorical_accuracy: 0.0061\n",
            "Epoch 92/200\n",
            "140/140 [==============================] - 4s 27ms/step - loss: 2.5535 - categorical_accuracy: 0.0178 - val_loss: 3.2090 - val_categorical_accuracy: 0.0061\n",
            "Epoch 93/200\n",
            "140/140 [==============================] - 4s 26ms/step - loss: 2.5512 - categorical_accuracy: 0.0164 - val_loss: 3.2153 - val_categorical_accuracy: 0.0061\n",
            "Epoch 94/200\n",
            "140/140 [==============================] - 4s 26ms/step - loss: 2.5507 - categorical_accuracy: 0.0166 - val_loss: 3.1981 - val_categorical_accuracy: 0.0061\n",
            "Epoch 95/200\n",
            "140/140 [==============================] - 4s 26ms/step - loss: 2.5410 - categorical_accuracy: 0.0166 - val_loss: 3.2129 - val_categorical_accuracy: 0.0061\n",
            "Epoch 96/200\n",
            "140/140 [==============================] - 4s 27ms/step - loss: 2.5394 - categorical_accuracy: 0.0169 - val_loss: 3.2100 - val_categorical_accuracy: 0.0061\n",
            "Epoch 97/200\n",
            "140/140 [==============================] - 4s 27ms/step - loss: 2.5227 - categorical_accuracy: 0.0171 - val_loss: 3.1984 - val_categorical_accuracy: 0.0061\n",
            "Epoch 98/200\n",
            "140/140 [==============================] - 4s 26ms/step - loss: 2.5219 - categorical_accuracy: 0.0180 - val_loss: 3.2097 - val_categorical_accuracy: 0.0061\n",
            "Epoch 99/200\n",
            "140/140 [==============================] - 4s 26ms/step - loss: 2.5286 - categorical_accuracy: 0.0178 - val_loss: 3.1987 - val_categorical_accuracy: 0.0061\n",
            "Epoch 100/200\n",
            "140/140 [==============================] - 4s 26ms/step - loss: 2.5210 - categorical_accuracy: 0.0173 - val_loss: 3.1921 - val_categorical_accuracy: 0.0061\n",
            "Epoch 101/200\n",
            "140/140 [==============================] - 4s 27ms/step - loss: 2.5109 - categorical_accuracy: 0.0173 - val_loss: 3.2009 - val_categorical_accuracy: 0.0061\n",
            "Epoch 102/200\n",
            "140/140 [==============================] - 4s 27ms/step - loss: 2.5097 - categorical_accuracy: 0.0169 - val_loss: 3.2022 - val_categorical_accuracy: 0.0061\n",
            "Epoch 103/200\n",
            "140/140 [==============================] - 4s 27ms/step - loss: 2.5611 - categorical_accuracy: 0.0166 - val_loss: 3.1945 - val_categorical_accuracy: 0.0061\n",
            "Epoch 104/200\n",
            "140/140 [==============================] - 4s 27ms/step - loss: 2.5167 - categorical_accuracy: 0.0166 - val_loss: 3.2018 - val_categorical_accuracy: 0.0061\n",
            "Epoch 105/200\n",
            "140/140 [==============================] - 4s 26ms/step - loss: 2.5157 - categorical_accuracy: 0.0164 - val_loss: 3.1908 - val_categorical_accuracy: 0.0061\n",
            "Epoch 106/200\n",
            "140/140 [==============================] - 4s 26ms/step - loss: 2.5074 - categorical_accuracy: 0.0173 - val_loss: 3.1857 - val_categorical_accuracy: 0.0061\n",
            "Epoch 107/200\n",
            "140/140 [==============================] - 4s 26ms/step - loss: 2.5201 - categorical_accuracy: 0.0164 - val_loss: 3.1900 - val_categorical_accuracy: 0.0061\n",
            "Epoch 108/200\n",
            "140/140 [==============================] - 4s 27ms/step - loss: 2.5092 - categorical_accuracy: 0.0157 - val_loss: 3.2182 - val_categorical_accuracy: 0.0061\n",
            "Epoch 109/200\n",
            "140/140 [==============================] - 4s 26ms/step - loss: 2.6592 - categorical_accuracy: 0.0171 - val_loss: 3.1901 - val_categorical_accuracy: 0.0061\n",
            "Epoch 110/200\n",
            "140/140 [==============================] - 4s 27ms/step - loss: 2.5140 - categorical_accuracy: 0.0164 - val_loss: 3.1964 - val_categorical_accuracy: 0.0061\n",
            "Epoch 111/200\n",
            "140/140 [==============================] - 4s 26ms/step - loss: 2.4935 - categorical_accuracy: 0.0164 - val_loss: 3.1924 - val_categorical_accuracy: 0.0061\n",
            "Epoch 112/200\n",
            "140/140 [==============================] - 4s 26ms/step - loss: 2.4923 - categorical_accuracy: 0.0166 - val_loss: 3.2027 - val_categorical_accuracy: 0.0061\n",
            "Epoch 113/200\n",
            "140/140 [==============================] - 4s 26ms/step - loss: 2.4819 - categorical_accuracy: 0.0169 - val_loss: 3.1899 - val_categorical_accuracy: 0.0061\n",
            "Epoch 114/200\n",
            "140/140 [==============================] - 4s 26ms/step - loss: 2.4777 - categorical_accuracy: 0.0166 - val_loss: 3.1813 - val_categorical_accuracy: 0.0061\n",
            "Epoch 115/200\n",
            "140/140 [==============================] - 4s 26ms/step - loss: 2.4950 - categorical_accuracy: 0.0160 - val_loss: 3.1901 - val_categorical_accuracy: 0.0061\n",
            "Epoch 116/200\n",
            "140/140 [==============================] - 4s 26ms/step - loss: 2.4967 - categorical_accuracy: 0.0173 - val_loss: 3.1982 - val_categorical_accuracy: 0.0061\n",
            "Epoch 117/200\n",
            "140/140 [==============================] - 4s 26ms/step - loss: 2.4809 - categorical_accuracy: 0.0169 - val_loss: 3.1824 - val_categorical_accuracy: 0.0061\n",
            "Epoch 118/200\n",
            "140/140 [==============================] - 4s 26ms/step - loss: 2.4796 - categorical_accuracy: 0.0164 - val_loss: 3.1879 - val_categorical_accuracy: 0.0061\n",
            "Epoch 119/200\n",
            "140/140 [==============================] - 4s 26ms/step - loss: 2.4704 - categorical_accuracy: 0.0164 - val_loss: 3.1890 - val_categorical_accuracy: 0.0061\n",
            "Epoch 120/200\n",
            "140/140 [==============================] - 4s 26ms/step - loss: 2.4816 - categorical_accuracy: 0.0180 - val_loss: 3.1998 - val_categorical_accuracy: 0.0061\n",
            "Epoch 121/200\n",
            "140/140 [==============================] - 4s 27ms/step - loss: 2.4763 - categorical_accuracy: 0.0180 - val_loss: 3.1872 - val_categorical_accuracy: 0.0061\n",
            "Epoch 122/200\n",
            "140/140 [==============================] - 4s 26ms/step - loss: 2.4776 - categorical_accuracy: 0.0164 - val_loss: 3.1855 - val_categorical_accuracy: 0.0061\n",
            "Epoch 123/200\n",
            "140/140 [==============================] - 4s 26ms/step - loss: 2.4681 - categorical_accuracy: 0.0157 - val_loss: 3.1879 - val_categorical_accuracy: 0.0061\n",
            "Epoch 124/200\n",
            "140/140 [==============================] - 4s 27ms/step - loss: 2.4650 - categorical_accuracy: 0.0162 - val_loss: 3.1857 - val_categorical_accuracy: 0.0061\n",
            "Epoch 125/200\n",
            "140/140 [==============================] - 4s 26ms/step - loss: 2.4770 - categorical_accuracy: 0.0193 - val_loss: 3.1812 - val_categorical_accuracy: 0.0061\n",
            "Epoch 126/200\n",
            "140/140 [==============================] - 4s 26ms/step - loss: 2.4672 - categorical_accuracy: 0.0164 - val_loss: 3.1753 - val_categorical_accuracy: 0.0061\n",
            "Epoch 127/200\n",
            "140/140 [==============================] - 4s 26ms/step - loss: 2.4686 - categorical_accuracy: 0.0162 - val_loss: 3.1856 - val_categorical_accuracy: 0.0061\n",
            "Epoch 128/200\n",
            "140/140 [==============================] - 4s 27ms/step - loss: 2.4643 - categorical_accuracy: 0.0171 - val_loss: 3.1855 - val_categorical_accuracy: 0.0061\n",
            "Epoch 129/200\n",
            "140/140 [==============================] - 4s 26ms/step - loss: 2.4666 - categorical_accuracy: 0.0166 - val_loss: 3.1798 - val_categorical_accuracy: 0.0061\n",
            "Epoch 130/200\n",
            "140/140 [==============================] - 4s 26ms/step - loss: 2.4624 - categorical_accuracy: 0.0164 - val_loss: 3.1767 - val_categorical_accuracy: 0.0061\n",
            "Epoch 131/200\n",
            "140/140 [==============================] - 4s 27ms/step - loss: 2.4584 - categorical_accuracy: 0.0166 - val_loss: 3.1934 - val_categorical_accuracy: 0.0061\n",
            "Epoch 132/200\n",
            "140/140 [==============================] - 4s 26ms/step - loss: 2.4461 - categorical_accuracy: 0.0171 - val_loss: 3.1675 - val_categorical_accuracy: 0.0061\n",
            "Epoch 133/200\n",
            "140/140 [==============================] - 4s 26ms/step - loss: 2.4406 - categorical_accuracy: 0.0175 - val_loss: 3.1808 - val_categorical_accuracy: 0.0061\n",
            "Epoch 134/200\n",
            "140/140 [==============================] - 4s 26ms/step - loss: 2.4453 - categorical_accuracy: 0.0164 - val_loss: 3.1786 - val_categorical_accuracy: 0.0061\n",
            "Epoch 135/200\n",
            "140/140 [==============================] - 4s 26ms/step - loss: 2.4550 - categorical_accuracy: 0.0171 - val_loss: 3.1665 - val_categorical_accuracy: 0.0061\n",
            "Epoch 136/200\n",
            "140/140 [==============================] - 4s 26ms/step - loss: 2.4440 - categorical_accuracy: 0.0166 - val_loss: 3.1767 - val_categorical_accuracy: 0.0061\n",
            "Epoch 137/200\n",
            "140/140 [==============================] - 4s 26ms/step - loss: 2.4369 - categorical_accuracy: 0.0162 - val_loss: 3.1777 - val_categorical_accuracy: 0.0061\n",
            "Epoch 138/200\n",
            "140/140 [==============================] - 4s 26ms/step - loss: 2.4424 - categorical_accuracy: 0.0173 - val_loss: 3.1860 - val_categorical_accuracy: 0.0061\n",
            "Epoch 139/200\n",
            "140/140 [==============================] - 4s 26ms/step - loss: 2.4471 - categorical_accuracy: 0.0166 - val_loss: 3.1706 - val_categorical_accuracy: 0.0061\n",
            "Epoch 140/200\n",
            "140/140 [==============================] - 4s 26ms/step - loss: 2.4418 - categorical_accuracy: 0.0162 - val_loss: 3.1750 - val_categorical_accuracy: 0.0061\n",
            "Epoch 141/200\n",
            "140/140 [==============================] - 4s 26ms/step - loss: 2.4366 - categorical_accuracy: 0.0166 - val_loss: 3.1671 - val_categorical_accuracy: 0.0061\n",
            "Epoch 142/200\n",
            "140/140 [==============================] - 4s 26ms/step - loss: 2.4491 - categorical_accuracy: 0.0160 - val_loss: 3.2109 - val_categorical_accuracy: 0.0061\n",
            "Epoch 143/200\n",
            "140/140 [==============================] - 4s 26ms/step - loss: 2.4331 - categorical_accuracy: 0.0157 - val_loss: 3.1754 - val_categorical_accuracy: 0.0061\n",
            "Epoch 144/200\n",
            "140/140 [==============================] - 4s 27ms/step - loss: 2.4298 - categorical_accuracy: 0.0164 - val_loss: 3.1751 - val_categorical_accuracy: 0.0061\n",
            "Epoch 145/200\n",
            "140/140 [==============================] - 4s 26ms/step - loss: 2.4333 - categorical_accuracy: 0.0160 - val_loss: 3.1649 - val_categorical_accuracy: 0.0061\n",
            "Epoch 146/200\n",
            "140/140 [==============================] - 4s 26ms/step - loss: 2.4389 - categorical_accuracy: 0.0166 - val_loss: 3.1756 - val_categorical_accuracy: 0.0061\n",
            "Epoch 147/200\n",
            "140/140 [==============================] - 4s 26ms/step - loss: 2.4247 - categorical_accuracy: 0.0162 - val_loss: 3.1854 - val_categorical_accuracy: 0.0061\n",
            "Epoch 148/200\n",
            "140/140 [==============================] - 4s 26ms/step - loss: 2.4279 - categorical_accuracy: 0.0164 - val_loss: 3.1778 - val_categorical_accuracy: 0.0061\n",
            "Epoch 149/200\n",
            "140/140 [==============================] - 4s 26ms/step - loss: 2.4346 - categorical_accuracy: 0.0164 - val_loss: 3.1607 - val_categorical_accuracy: 0.0061\n",
            "Epoch 150/200\n",
            "140/140 [==============================] - 4s 26ms/step - loss: 2.4351 - categorical_accuracy: 0.0160 - val_loss: 3.1896 - val_categorical_accuracy: 0.0061\n",
            "Epoch 151/200\n",
            "140/140 [==============================] - 4s 26ms/step - loss: 2.4288 - categorical_accuracy: 0.0157 - val_loss: 3.1847 - val_categorical_accuracy: 0.0061\n",
            "Epoch 152/200\n",
            "140/140 [==============================] - 4s 26ms/step - loss: 2.4293 - categorical_accuracy: 0.0160 - val_loss: 3.1674 - val_categorical_accuracy: 0.0061\n",
            "Epoch 153/200\n",
            "140/140 [==============================] - 4s 26ms/step - loss: 2.4228 - categorical_accuracy: 0.0169 - val_loss: 3.1814 - val_categorical_accuracy: 0.0061\n",
            "Epoch 154/200\n",
            "140/140 [==============================] - 4s 25ms/step - loss: 2.4202 - categorical_accuracy: 0.0169 - val_loss: 3.1738 - val_categorical_accuracy: 0.0061\n",
            "Epoch 155/200\n",
            "140/140 [==============================] - 4s 25ms/step - loss: 2.4244 - categorical_accuracy: 0.0160 - val_loss: 3.1744 - val_categorical_accuracy: 0.0061\n",
            "Epoch 156/200\n",
            "140/140 [==============================] - 4s 26ms/step - loss: 2.4282 - categorical_accuracy: 0.0164 - val_loss: 3.1673 - val_categorical_accuracy: 0.0061\n",
            "Epoch 157/200\n",
            "140/140 [==============================] - 4s 26ms/step - loss: 2.4183 - categorical_accuracy: 0.0160 - val_loss: 3.1634 - val_categorical_accuracy: 0.0061\n",
            "Epoch 158/200\n",
            "140/140 [==============================] - 4s 25ms/step - loss: 2.4285 - categorical_accuracy: 0.0184 - val_loss: 3.1683 - val_categorical_accuracy: 0.0061\n",
            "Epoch 159/200\n",
            "140/140 [==============================] - 4s 25ms/step - loss: 2.4130 - categorical_accuracy: 0.0164 - val_loss: 3.1721 - val_categorical_accuracy: 0.0061\n",
            "Epoch 160/200\n",
            "140/140 [==============================] - 4s 26ms/step - loss: 2.4141 - categorical_accuracy: 0.0157 - val_loss: 3.1708 - val_categorical_accuracy: 0.0061\n",
            "Epoch 161/200\n",
            "140/140 [==============================] - 4s 26ms/step - loss: 2.4106 - categorical_accuracy: 0.0169 - val_loss: 3.1643 - val_categorical_accuracy: 0.0061\n",
            "Epoch 162/200\n",
            "140/140 [==============================] - 4s 26ms/step - loss: 2.4121 - categorical_accuracy: 0.0162 - val_loss: 3.1646 - val_categorical_accuracy: 0.0061\n",
            "Epoch 163/200\n",
            "140/140 [==============================] - 4s 26ms/step - loss: 2.4152 - categorical_accuracy: 0.0169 - val_loss: 3.1609 - val_categorical_accuracy: 0.0061\n",
            "Epoch 164/200\n",
            "140/140 [==============================] - 4s 26ms/step - loss: 2.4182 - categorical_accuracy: 0.0169 - val_loss: 3.1771 - val_categorical_accuracy: 0.0061\n",
            "Epoch 165/200\n",
            "140/140 [==============================] - 4s 26ms/step - loss: 2.4168 - categorical_accuracy: 0.0160 - val_loss: 3.1655 - val_categorical_accuracy: 0.0061\n",
            "Epoch 166/200\n",
            "140/140 [==============================] - 4s 26ms/step - loss: 2.4217 - categorical_accuracy: 0.0160 - val_loss: 3.1687 - val_categorical_accuracy: 0.0061\n",
            "Epoch 167/200\n",
            "140/140 [==============================] - 4s 26ms/step - loss: 2.4104 - categorical_accuracy: 0.0162 - val_loss: 3.1669 - val_categorical_accuracy: 0.0061\n",
            "Epoch 168/200\n",
            "140/140 [==============================] - 4s 26ms/step - loss: 2.4111 - categorical_accuracy: 0.0169 - val_loss: 3.1651 - val_categorical_accuracy: 0.0061\n",
            "Epoch 169/200\n",
            "140/140 [==============================] - 4s 26ms/step - loss: 2.4019 - categorical_accuracy: 0.0171 - val_loss: 3.1751 - val_categorical_accuracy: 0.0061\n",
            "Epoch 170/200\n",
            "140/140 [==============================] - 4s 26ms/step - loss: 2.4011 - categorical_accuracy: 0.0153 - val_loss: 3.1604 - val_categorical_accuracy: 0.0061\n",
            "Epoch 171/200\n",
            "140/140 [==============================] - 4s 26ms/step - loss: 2.4089 - categorical_accuracy: 0.0171 - val_loss: 3.1662 - val_categorical_accuracy: 0.0061\n",
            "Epoch 172/200\n",
            "140/140 [==============================] - 4s 26ms/step - loss: 2.3976 - categorical_accuracy: 0.0171 - val_loss: 3.1613 - val_categorical_accuracy: 0.0061\n",
            "Epoch 173/200\n",
            "140/140 [==============================] - 4s 26ms/step - loss: 2.4031 - categorical_accuracy: 0.0162 - val_loss: 3.1656 - val_categorical_accuracy: 0.0061\n",
            "Epoch 174/200\n",
            "140/140 [==============================] - 4s 27ms/step - loss: 2.3930 - categorical_accuracy: 0.0175 - val_loss: 3.1709 - val_categorical_accuracy: 0.0061\n",
            "Epoch 175/200\n",
            "140/140 [==============================] - 4s 26ms/step - loss: 2.4045 - categorical_accuracy: 0.0162 - val_loss: 3.1660 - val_categorical_accuracy: 0.0061\n",
            "Epoch 176/200\n",
            "140/140 [==============================] - 4s 27ms/step - loss: 2.4053 - categorical_accuracy: 0.0162 - val_loss: 3.1698 - val_categorical_accuracy: 0.0061\n",
            "Epoch 177/200\n",
            "140/140 [==============================] - 4s 26ms/step - loss: 2.4010 - categorical_accuracy: 0.0169 - val_loss: 3.1798 - val_categorical_accuracy: 0.0061\n",
            "Epoch 178/200\n",
            "140/140 [==============================] - 4s 27ms/step - loss: 2.3991 - categorical_accuracy: 0.0169 - val_loss: 3.1731 - val_categorical_accuracy: 0.0061\n",
            "Epoch 179/200\n",
            "140/140 [==============================] - 4s 27ms/step - loss: 2.3950 - categorical_accuracy: 0.0162 - val_loss: 3.1628 - val_categorical_accuracy: 0.0061\n",
            "Epoch 180/200\n",
            "140/140 [==============================] - 4s 26ms/step - loss: 2.4063 - categorical_accuracy: 0.0160 - val_loss: 3.1819 - val_categorical_accuracy: 0.0061\n",
            "Epoch 181/200\n",
            "140/140 [==============================] - 4s 27ms/step - loss: 2.4004 - categorical_accuracy: 0.0164 - val_loss: 3.1794 - val_categorical_accuracy: 0.0061\n",
            "Epoch 182/200\n",
            "140/140 [==============================] - 4s 26ms/step - loss: 2.4025 - categorical_accuracy: 0.0166 - val_loss: 3.1847 - val_categorical_accuracy: 0.0061\n",
            "Epoch 183/200\n",
            "140/140 [==============================] - 4s 26ms/step - loss: 2.3952 - categorical_accuracy: 0.0162 - val_loss: 3.1602 - val_categorical_accuracy: 0.0061\n",
            "Epoch 184/200\n",
            "140/140 [==============================] - 4s 26ms/step - loss: 2.3963 - categorical_accuracy: 0.0171 - val_loss: 3.1648 - val_categorical_accuracy: 0.0061\n",
            "Epoch 185/200\n",
            "140/140 [==============================] - 4s 27ms/step - loss: 2.3953 - categorical_accuracy: 0.0164 - val_loss: 3.1621 - val_categorical_accuracy: 0.0061\n",
            "Epoch 186/200\n",
            "140/140 [==============================] - 4s 27ms/step - loss: 2.3960 - categorical_accuracy: 0.0169 - val_loss: 3.2028 - val_categorical_accuracy: 0.0061\n",
            "Epoch 187/200\n",
            "140/140 [==============================] - 4s 26ms/step - loss: 2.4013 - categorical_accuracy: 0.0162 - val_loss: 3.1700 - val_categorical_accuracy: 0.0061\n",
            "Epoch 188/200\n",
            "140/140 [==============================] - 4s 27ms/step - loss: 2.3978 - categorical_accuracy: 0.0169 - val_loss: 3.1673 - val_categorical_accuracy: 0.0061\n",
            "Epoch 189/200\n",
            "140/140 [==============================] - 4s 27ms/step - loss: 2.3932 - categorical_accuracy: 0.0164 - val_loss: 3.1583 - val_categorical_accuracy: 0.0061\n",
            "Epoch 190/200\n",
            "140/140 [==============================] - 4s 26ms/step - loss: 2.3935 - categorical_accuracy: 0.0160 - val_loss: 3.1682 - val_categorical_accuracy: 0.0061\n",
            "Epoch 191/200\n",
            "140/140 [==============================] - 4s 26ms/step - loss: 2.3877 - categorical_accuracy: 0.0166 - val_loss: 3.1606 - val_categorical_accuracy: 0.0061\n",
            "Epoch 192/200\n",
            "140/140 [==============================] - 4s 27ms/step - loss: 2.4018 - categorical_accuracy: 0.0166 - val_loss: 3.1671 - val_categorical_accuracy: 0.0061\n",
            "Epoch 193/200\n",
            "140/140 [==============================] - 4s 26ms/step - loss: 2.3890 - categorical_accuracy: 0.0169 - val_loss: 3.1616 - val_categorical_accuracy: 0.0061\n",
            "Epoch 194/200\n",
            "140/140 [==============================] - 4s 26ms/step - loss: 2.3891 - categorical_accuracy: 0.0160 - val_loss: 3.1592 - val_categorical_accuracy: 0.0061\n",
            "Epoch 195/200\n",
            "140/140 [==============================] - 4s 26ms/step - loss: 2.3819 - categorical_accuracy: 0.0157 - val_loss: 3.1704 - val_categorical_accuracy: 0.0061\n",
            "Epoch 196/200\n",
            "140/140 [==============================] - 4s 26ms/step - loss: 2.3836 - categorical_accuracy: 0.0166 - val_loss: 3.1917 - val_categorical_accuracy: 0.0061\n",
            "Epoch 197/200\n",
            "140/140 [==============================] - 4s 26ms/step - loss: 2.3891 - categorical_accuracy: 0.0166 - val_loss: 3.1610 - val_categorical_accuracy: 0.0061\n",
            "Epoch 198/200\n",
            "140/140 [==============================] - 4s 25ms/step - loss: 2.3849 - categorical_accuracy: 0.0164 - val_loss: 3.1738 - val_categorical_accuracy: 0.0061\n",
            "Epoch 199/200\n",
            "140/140 [==============================] - 4s 26ms/step - loss: 2.3892 - categorical_accuracy: 0.0160 - val_loss: 3.1630 - val_categorical_accuracy: 0.0061\n",
            "Epoch 200/200\n",
            "140/140 [==============================] - 4s 26ms/step - loss: 2.3993 - categorical_accuracy: 0.0166 - val_loss: 3.1602 - val_categorical_accuracy: 0.0061\n"
          ]
        }
      ],
      "source": [
        "epochs = 200\n",
        "history = model.fit(padded_sequences, training_labels, epochs=epochs, verbose=1, validation_split=0.1)"
      ]
    },
    {
      "cell_type": "code",
      "source": [
        "plt.plot(history.history['categorical_accuracy'])\n",
        "plt.plot(history.history['val_categorical_accuracy'])"
      ],
      "metadata": {
        "id": "L9S3nmcKMu2T",
        "outputId": "ca70429b-cea0-4fdd-a9ff-2135bd4e19c1",
        "colab": {
          "base_uri": "https://localhost:8080/",
          "height": 453
        }
      },
      "execution_count": 106,
      "outputs": [
        {
          "output_type": "execute_result",
          "data": {
            "text/plain": [
              "[<matplotlib.lines.Line2D at 0x7f29d80c7b80>]"
            ]
          },
          "metadata": {},
          "execution_count": 106
        },
        {
          "output_type": "display_data",
          "data": {
            "text/plain": [
              "<Figure size 640x480 with 1 Axes>"
            ],
            "image/png": "[encoded data removed]"
          },
          "metadata": {}
        }
      ]
    },
    {
      "cell_type": "code",
      "execution_count": 107,
      "metadata": {
        "id": "-yrXQJd4tp0t",
        "outputId": "93d2fd79-4a4b-4f31-a0c8-343cb7609145",
        "colab": {
          "base_uri": "https://localhost:8080/",
          "height": 448
        }
      },
      "outputs": [
        {
          "output_type": "execute_result",
          "data": {
            "text/plain": [
              "[<matplotlib.lines.Line2D at 0x7f29d805b490>]"
            ]
          },
          "metadata": {},
          "execution_count": 107
        },
        {
          "output_type": "display_data",
          "data": {
            "text/plain": [
              "<Figure size 640x480 with 1 Axes>"
            ],
            "image/png": "[encoded data removed]"
          },
          "metadata": {}
        }
      ],
      "source": [
        "plt.plot(history.history['loss'])\n",
        "plt.plot(history.history['val_loss'])"
      ]
    },
    {
      "cell_type": "code",
      "execution_count": 56,
      "metadata": {
        "id": "yszOSfNHtp0u",
        "outputId": "27233238-c5f2-4033-ebbd-42e6331ef47f",
        "colab": {
          "base_uri": "https://localhost:8080/"
        }
      },
      "outputs": [
        {
          "output_type": "stream",
          "name": "stderr",
          "text": [
            "WARNING:absl:Found untraced functions such as _update_step_xla, gru_cell_22_layer_call_fn, gru_cell_22_layer_call_and_return_conditional_losses, gru_cell_23_layer_call_fn, gru_cell_23_layer_call_and_return_conditional_losses while saving (showing 5 of 5). These functions will not be directly callable after loading.\n"
          ]
        }
      ],
      "source": [
        "# to save the trained model\n",
        "model.save(\"chat_model\")\n",
        "\n",
        "# to save the fitted tokenizer\n",
        "with open('tokenizer.pickle', 'wb') as handle:\n",
        "    pickle.dump(tokenizer, handle, protocol=pickle.HIGHEST_PROTOCOL)\n",
        "    \n",
        "# to save the fitted label encoder\n",
        "with open('label_encoder.pickle', 'wb') as ecn_file:\n",
        "    pickle.dump(lbl_encoder, ecn_file, protocol=pickle.HIGHEST_PROTOCOL)"
      ]
    },
    {
      "cell_type": "code",
      "execution_count": 57,
      "metadata": {
        "id": "gdyW4uKKtp0v",
        "outputId": "d83d5dbd-d99c-4578-caca-844a65d76263",
        "colab": {
          "base_uri": "https://localhost:8080/"
        }
      },
      "outputs": [
        {
          "name": "stdout",
          "output_type": "stream",
          "text": [
            "\u001b[33mStart messaging with the bot (type quit to stop)!\u001b[0m\n",
            "\u001b[94mUser: \u001b[0mHello\n",
            "1/1 [==============================] - 1s 1s/step\n",
            "['greeting']\n",
            "\u001b[32mChatBot:\u001b[0m Great to see you. How do you feel currently?\n",
            "\u001b[94mUser: \u001b[0mI'm feeling sad right now\n",
            "1/1 [==============================] - 0s 27ms/step\n",
            "['suicide']\n",
            "\u001b[32mChatBot:\u001b[0m I'm very sorry to hear that but you have so much to look forward to. Please seek help by contacting: 988.\n",
            "\u001b[94mUser: \u001b[0mI don't think it's that extreme, but yeah go off\n",
            "1/1 [==============================] - 0s 29ms/step\n",
            "['learn-more']\n",
            "\u001b[32mChatBot:\u001b[0m So first I would suggest you to give yourself a break. Thinking more and more about the problem definitely does not help in solving it. You'll just end up overwhelming yourself.\n",
            "\u001b[94mUser: \u001b[0mI am sad\n",
            "1/1 [==============================] - 0s 26ms/step\n",
            "['sad']\n",
            "\u001b[32mChatBot:\u001b[0m I'm sorry to hear that. I'm here for you. Talking about it might help. So, tell me why do you think you're feeling this way?\n",
            "\u001b[94mUser: \u001b[0mI feel very depressed\n",
            "1/1 [==============================] - 0s 27ms/step\n",
            "['stressed']\n",
            "\u001b[32mChatBot:\u001b[0m What do you think is causing this?\n",
            "\u001b[94mUser: \u001b[0mI am depressed\n",
            "1/1 [==============================] - 0s 29ms/step\n",
            "['depressed']\n",
            "\u001b[32mChatBot:\u001b[0m Talk to me. Tell me more. It helps if you open up yourself to someone else.\n",
            "\u001b[94mUser: \u001b[0mToday I had a rough day at school\n",
            "1/1 [==============================] - 0s 27ms/step\n",
            "['default']\n",
            "\u001b[32mChatBot:\u001b[0m Tell me more about it.\n",
            "\u001b[94mUser: \u001b[0mI have so much homework to do and not much time to do it\n",
            "1/1 [==============================] - 0s 27ms/step\n",
            "['no-approach']\n",
            "\u001b[32mChatBot:\u001b[0m That's no problem. I can see why you'd be stressed out about that. I can suggest you some tips to alleviate this issue. Would you like to learn more about that?\n",
            "\u001b[94mUser: \u001b[0mYes tell me more\n",
            "1/1 [==============================] - 0s 26ms/step\n",
            "['wrong']\n",
            "\u001b[32mChatBot:\u001b[0m I'm very sorry. Let's try that again\n",
            "\u001b[94mUser: \u001b[0mtell me more\n",
            "1/1 [==============================] - 0s 26ms/step\n",
            "['wrong']\n",
            "\u001b[32mChatBot:\u001b[0m I'm very sorry. Let's try that again\n",
            "\u001b[94mUser: \u001b[0mquit\n"
          ]
        }
      ],
      "source": [
        "with open(\"intents.json\") as file:\n",
        "    data = json.load(file)\n",
        "\n",
        "\n",
        "def chat():\n",
        "    # load trained model\n",
        "    model = keras.models.load_model('chat_model')\n",
        "\n",
        "    # load tokenizer object\n",
        "    with open('tokenizer.pickle', 'rb') as handle:\n",
        "        tokenizer = pickle.load(handle)\n",
        "\n",
        "    # load label encoder object\n",
        "    with open('label_encoder.pickle', 'rb') as enc:\n",
        "        lbl_encoder = pickle.load(enc)\n",
        "\n",
        "    # parameters\n",
        "    max_len = 20\n",
        "    \n",
        "    while True:\n",
        "        print(Fore.LIGHTBLUE_EX + \"User: \" + Style.RESET_ALL, end=\"\")\n",
        "        inp = input()\n",
        "        if inp.lower() == \"quit\":\n",
        "            break\n",
        "\n",
        "        result = model.predict(keras.preprocessing.sequence.pad_sequences(tokenizer.texts_to_sequences([inp]),\n",
        "                                             truncating='post', maxlen=max_len))\n",
        "        #print(result)                                    \n",
        "        tag = lbl_encoder.inverse_transform([np.argmax(result)])\n",
        "        print(tag)\n",
        "        for i in data['intents']:\n",
        "            if i['tag'] == tag:\n",
        "                print(Fore.GREEN + \"ChatBot:\" + Style.RESET_ALL , np.random.choice(i['responses']))\n",
        "\n",
        "        # print(Fore.GREEN + \"ChatBot:\" + Style.RESET_ALL,random.choice(responses))\n",
        "\n",
        "print(Fore.YELLOW + \"Start messaging with the bot (type quit to stop)!\" + Style.RESET_ALL)\n",
        "chat()"
      ]
    }
  ],
  "metadata": {
    "kernelspec": {
      "display_name": "spyder-env",
      "language": "python",
      "name": "python3"
    },
    "language_info": {
      "codemirror_mode": {
        "name": "ipython",
        "version": 3
      },
      "file_extension": ".py",
      "mimetype": "text/x-python",
      "name": "python",
      "nbconvert_exporter": "python",
      "pygments_lexer": "ipython3",
      "version": "3.10.8"
    },
    "orig_nbformat": 4,
    "vscode": {
      "interpreter": {
        "hash": "0867740005d6599654add18c4aea8b68041991fa551a979db4ae6559591eb1ee"
      }
    },
    "colab": {
      "provenance": [],
      "machine_shape": "hm"
    },
    "accelerator": "TPU",
    "gpuClass": "standard"
  },
  "nbformat": 4,
  "nbformat_minor": 0
}