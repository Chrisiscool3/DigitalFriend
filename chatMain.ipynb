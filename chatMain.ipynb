{
  "cells": [
    {
      "cell_type": "markdown",
      "source": [
        "##Install and import required packages"
      ],
      "metadata": {
        "id": "vgv1GyX0V7c2"
      }
    },
    {
      "cell_type": "code",
      "source": [
        "pip install colorama"
      ],
      "metadata": {
        "id": "l7UNG-2Zt7yY",
        "outputId": "d2e711be-ba4d-46d6-ca8f-baa0171ccbeb",
        "colab": {
          "base_uri": "https://localhost:8080/"
        }
      },
      "execution_count": 1,
      "outputs": [
        {
          "output_type": "stream",
          "name": "stdout",
          "text": [
            "Looking in indexes: https://pypi.org/simple, https://us-python.pkg.dev/colab-wheels/public/simple/\n",
            "Collecting colorama\n",
            "  Downloading colorama-0.4.6-py2.py3-none-any.whl (25 kB)\n",
            "Installing collected packages: colorama\n",
            "Successfully installed colorama-0.4.6\n"
          ]
        }
      ]
    },
    {
      "cell_type": "code",
      "source": [
        "!pip install nlpaug"
      ],
      "metadata": {
        "id": "2jy_twY3cniu",
        "outputId": "f6bba667-c3bc-4e33-b4e4-1ca7aba25fee",
        "colab": {
          "base_uri": "https://localhost:8080/"
        }
      },
      "execution_count": 2,
      "outputs": [
        {
          "output_type": "stream",
          "name": "stdout",
          "text": [
            "Looking in indexes: https://pypi.org/simple, https://us-python.pkg.dev/colab-wheels/public/simple/\n",
            "Collecting nlpaug\n",
            "  Downloading nlpaug-1.1.11-py3-none-any.whl (410 kB)\n",
            "\u001b[2K     \u001b[90m━━━━━━━━━━━━━━━━━━━━━━━━━━━━━━━━━━━━━━━\u001b[0m \u001b[32m410.5/410.5 kB\u001b[0m \u001b[31m8.8 MB/s\u001b[0m eta \u001b[36m0:00:00\u001b[0m\n",
            "\u001b[?25hRequirement already satisfied: pandas>=1.2.0 in /usr/local/lib/python3.9/dist-packages (from nlpaug) (1.5.3)\n",
            "Requirement already satisfied: requests>=2.22.0 in /usr/local/lib/python3.9/dist-packages (from nlpaug) (2.27.1)\n",
            "Requirement already satisfied: numpy>=1.16.2 in /usr/local/lib/python3.9/dist-packages (from nlpaug) (1.24.2)\n",
            "Requirement already satisfied: gdown>=4.0.0 in /usr/local/lib/python3.9/dist-packages (from nlpaug) (4.6.6)\n",
            "Requirement already satisfied: beautifulsoup4 in /usr/local/lib/python3.9/dist-packages (from gdown>=4.0.0->nlpaug) (4.11.2)\n",
            "Requirement already satisfied: tqdm in /usr/local/lib/python3.9/dist-packages (from gdown>=4.0.0->nlpaug) (4.65.0)\n",
            "Requirement already satisfied: filelock in /usr/local/lib/python3.9/dist-packages (from gdown>=4.0.0->nlpaug) (3.11.0)\n",
            "Requirement already satisfied: six in /usr/local/lib/python3.9/dist-packages (from gdown>=4.0.0->nlpaug) (1.16.0)\n",
            "Requirement already satisfied: pytz>=2020.1 in /usr/local/lib/python3.9/dist-packages (from pandas>=1.2.0->nlpaug) (2022.7.1)\n",
            "Requirement already satisfied: python-dateutil>=2.8.1 in /usr/local/lib/python3.9/dist-packages (from pandas>=1.2.0->nlpaug) (2.8.2)\n",
            "Requirement already satisfied: charset-normalizer~=2.0.0 in /usr/local/lib/python3.9/dist-packages (from requests>=2.22.0->nlpaug) (2.0.12)\n",
            "Requirement already satisfied: urllib3<1.27,>=1.21.1 in /usr/local/lib/python3.9/dist-packages (from requests>=2.22.0->nlpaug) (1.26.15)\n",
            "Requirement already satisfied: idna<4,>=2.5 in /usr/local/lib/python3.9/dist-packages (from requests>=2.22.0->nlpaug) (3.4)\n",
            "Requirement already satisfied: certifi>=2017.4.17 in /usr/local/lib/python3.9/dist-packages (from requests>=2.22.0->nlpaug) (2022.12.7)\n",
            "Requirement already satisfied: soupsieve>1.2 in /usr/local/lib/python3.9/dist-packages (from beautifulsoup4->gdown>=4.0.0->nlpaug) (2.4)\n",
            "Requirement already satisfied: PySocks!=1.5.7,>=1.5.6 in /usr/local/lib/python3.9/dist-packages (from requests>=2.22.0->nlpaug) (1.7.1)\n",
            "Installing collected packages: nlpaug\n",
            "Successfully installed nlpaug-1.1.11\n"
          ]
        }
      ]
    },
    {
      "cell_type": "code",
      "source": [
        "pip install textblob"
      ],
      "metadata": {
        "id": "FusAJdHp8ySk",
        "outputId": "7c29765b-89c1-44d4-d123-6d20100299a6",
        "colab": {
          "base_uri": "https://localhost:8080/"
        }
      },
      "execution_count": 3,
      "outputs": [
        {
          "output_type": "stream",
          "name": "stdout",
          "text": [
            "Looking in indexes: https://pypi.org/simple, https://us-python.pkg.dev/colab-wheels/public/simple/\n",
            "Requirement already satisfied: textblob in /usr/local/lib/python3.9/dist-packages (0.17.1)\n",
            "Requirement already satisfied: nltk>=3.1 in /usr/local/lib/python3.9/dist-packages (from textblob) (3.8.1)\n",
            "Requirement already satisfied: joblib in /usr/local/lib/python3.9/dist-packages (from nltk>=3.1->textblob) (1.2.0)\n",
            "Requirement already satisfied: regex>=2021.8.3 in /usr/local/lib/python3.9/dist-packages (from nltk>=3.1->textblob) (2022.10.31)\n",
            "Requirement already satisfied: click in /usr/local/lib/python3.9/dist-packages (from nltk>=3.1->textblob) (8.1.3)\n",
            "Requirement already satisfied: tqdm in /usr/local/lib/python3.9/dist-packages (from nltk>=3.1->textblob) (4.65.0)\n"
          ]
        }
      ]
    },
    {
      "cell_type": "code",
      "source": [
        "!pip install google-auth google-auth-oauthlib google-auth-httplib2 google-api-python-client"
      ],
      "metadata": {
        "id": "nYrpLNaUGNU3",
        "outputId": "7c0e8cae-1f21-4edc-c4bf-625db4ad008e",
        "colab": {
          "base_uri": "https://localhost:8080/"
        }
      },
      "execution_count": null,
      "outputs": [
        {
          "output_type": "stream",
          "name": "stdout",
          "text": [
            "Looking in indexes: https://pypi.org/simple, https://us-python.pkg.dev/colab-wheels/public/simple/\n",
            "Requirement already satisfied: google-auth in /usr/local/lib/python3.9/dist-packages (2.17.2)\n",
            "Requirement already satisfied: google-auth-oauthlib in /usr/local/lib/python3.9/dist-packages (1.0.0)\n",
            "Requirement already satisfied: google-auth-httplib2 in /usr/local/lib/python3.9/dist-packages (0.1.0)\n",
            "Requirement already satisfied: google-api-python-client in /usr/local/lib/python3.9/dist-packages (2.84.0)\n",
            "Requirement already satisfied: cachetools<6.0,>=2.0.0 in /usr/local/lib/python3.9/dist-packages (from google-auth) (5.3.0)\n",
            "Requirement already satisfied: rsa<5,>=3.1.4 in /usr/local/lib/python3.9/dist-packages (from google-auth) (4.9)\n",
            "Requirement already satisfied: six>=1.9.0 in /usr/local/lib/python3.9/dist-packages (from google-auth) (1.16.0)\n",
            "Requirement already satisfied: pyasn1-modules>=0.2.1 in /usr/local/lib/python3.9/dist-packages (from google-auth) (0.2.8)\n",
            "Requirement already satisfied: requests-oauthlib>=0.7.0 in /usr/local/lib/python3.9/dist-packages (from google-auth-oauthlib) (1.3.1)\n",
            "Requirement already satisfied: httplib2>=0.15.0 in /usr/local/lib/python3.9/dist-packages (from google-auth-httplib2) (0.21.0)\n",
            "Requirement already satisfied: google-api-core!=2.0.*,!=2.1.*,!=2.2.*,!=2.3.0,<3.0.0dev,>=1.31.5 in /usr/local/lib/python3.9/dist-packages (from google-api-python-client) (2.11.0)\n",
            "Requirement already satisfied: uritemplate<5,>=3.0.1 in /usr/local/lib/python3.9/dist-packages (from google-api-python-client) (4.1.1)\n",
            "Requirement already satisfied: protobuf!=3.20.0,!=3.20.1,!=4.21.0,!=4.21.1,!=4.21.2,!=4.21.3,!=4.21.4,!=4.21.5,<5.0.0dev,>=3.19.5 in /usr/local/lib/python3.9/dist-packages (from google-api-core!=2.0.*,!=2.1.*,!=2.2.*,!=2.3.0,<3.0.0dev,>=1.31.5->google-api-python-client) (3.20.3)\n",
            "Requirement already satisfied: googleapis-common-protos<2.0dev,>=1.56.2 in /usr/local/lib/python3.9/dist-packages (from google-api-core!=2.0.*,!=2.1.*,!=2.2.*,!=2.3.0,<3.0.0dev,>=1.31.5->google-api-python-client) (1.59.0)\n",
            "Requirement already satisfied: requests<3.0.0dev,>=2.18.0 in /usr/local/lib/python3.9/dist-packages (from google-api-core!=2.0.*,!=2.1.*,!=2.2.*,!=2.3.0,<3.0.0dev,>=1.31.5->google-api-python-client) (2.27.1)\n",
            "Requirement already satisfied: pyparsing!=3.0.0,!=3.0.1,!=3.0.2,!=3.0.3,<4,>=2.4.2 in /usr/local/lib/python3.9/dist-packages (from httplib2>=0.15.0->google-auth-httplib2) (3.0.9)\n",
            "Requirement already satisfied: pyasn1<0.5.0,>=0.4.6 in /usr/local/lib/python3.9/dist-packages (from pyasn1-modules>=0.2.1->google-auth) (0.4.8)\n",
            "Requirement already satisfied: oauthlib>=3.0.0 in /usr/local/lib/python3.9/dist-packages (from requests-oauthlib>=0.7.0->google-auth-oauthlib) (3.2.2)\n",
            "Requirement already satisfied: certifi>=2017.4.17 in /usr/local/lib/python3.9/dist-packages (from requests<3.0.0dev,>=2.18.0->google-api-core!=2.0.*,!=2.1.*,!=2.2.*,!=2.3.0,<3.0.0dev,>=1.31.5->google-api-python-client) (2022.12.7)\n",
            "Requirement already satisfied: charset-normalizer~=2.0.0 in /usr/local/lib/python3.9/dist-packages (from requests<3.0.0dev,>=2.18.0->google-api-core!=2.0.*,!=2.1.*,!=2.2.*,!=2.3.0,<3.0.0dev,>=1.31.5->google-api-python-client) (2.0.12)\n",
            "Requirement already satisfied: urllib3<1.27,>=1.21.1 in /usr/local/lib/python3.9/dist-packages (from requests<3.0.0dev,>=2.18.0->google-api-core!=2.0.*,!=2.1.*,!=2.2.*,!=2.3.0,<3.0.0dev,>=1.31.5->google-api-python-client) (1.26.15)\n",
            "Requirement already satisfied: idna<4,>=2.5 in /usr/local/lib/python3.9/dist-packages (from requests<3.0.0dev,>=2.18.0->google-api-core!=2.0.*,!=2.1.*,!=2.2.*,!=2.3.0,<3.0.0dev,>=1.31.5->google-api-python-client) (3.4)\n"
          ]
        }
      ]
    },
    {
      "cell_type": "code",
      "execution_count": 4,
      "metadata": {
        "id": "I43obmXmtp0m"
      },
      "outputs": [],
      "source": [
        "import json \n",
        "import numpy as np \n",
        "import tensorflow as tf\n",
        "from tensorflow import keras\n",
        "from tensorflow.keras.models import Sequential\n",
        "from tensorflow.keras.layers import Dense, Embedding, GlobalAveragePooling1D\n",
        "from tensorflow.keras.preprocessing.text import Tokenizer\n",
        "from tensorflow.keras.preprocessing.sequence import pad_sequences\n",
        "from sklearn.preprocessing import LabelEncoder\n",
        "import matplotlib.pyplot as plt\n",
        "import pickle\n",
        "import colorama \n",
        "from colorama import Fore, Style, Back\n",
        "import random\n",
        "import nlpaug.augmenter.word as naw\n",
        "from tensorflow.keras.models import Model\n",
        "from tensorflow.keras.layers import Input, LSTM, Bidirectional, Dense, Dropout, Concatenate, Dot, Activation, Flatten, TimeDistributed, GRU\n",
        "from tensorflow.keras.callbacks import EarlyStopping\n",
        "from keras.regularizers import l2\n",
        "from textblob import TextBlob\n",
        "import google.auth\n",
        "from google.colab import auth\n",
        "from googleapiclient.discovery import build\n",
        "from google.oauth2 import service_account\n",
        "from statistics import mean"
      ]
    },
    {
      "cell_type": "markdown",
      "source": [
        "##Data import and preprocessing"
      ],
      "metadata": {
        "id": "s-Ww5kZiWA5R"
      }
    },
    {
      "cell_type": "code",
      "execution_count": 5,
      "metadata": {
        "id": "9l4a1odftp0o",
        "outputId": "7f7362c1-d837-485f-b5c1-14992245b5a0",
        "colab": {
          "base_uri": "https://localhost:8080/"
        }
      },
      "outputs": [
        {
          "output_type": "stream",
          "name": "stdout",
          "text": [
            "309\n",
            "['greeting', 'greeting', 'greeting', 'greeting', 'greeting', 'greeting', 'greeting', 'greeting', 'greeting', 'greeting', 'greeting', 'greeting', 'greeting', 'morning', 'morning', 'afternoon', 'afternoon', 'evening', 'evening', 'night', 'night', 'night', 'night', 'goodbye', 'goodbye', 'goodbye', 'goodbye', 'goodbye', 'goodbye', 'goodbye', 'goodbye', 'goodbye', 'thanks', 'thanks', 'thanks', 'thanks', 'thanks', 'no-response', 'neutral-response', 'neutral-response', 'neutral-response', 'neutral-response', 'neutral-response', 'neutral-response', 'neutral-response', 'neutral-response', 'about', 'about', 'about', 'about', 'about', 'about', 'about', 'about', 'skill', 'skill', 'creation', 'creation', 'creation', 'name', 'name', 'name', 'help', 'help', 'help', 'help', 'help', 'help', 'help', 'help', 'sad', 'sad', 'sad', 'sad', 'sad', 'sad', 'sad', 'sad', 'sad', 'sad', 'sad', 'sad', 'stressed', 'stressed', 'stressed', 'stressed', 'stressed', 'worthless', 'worthless', 'worthless', 'worthless', 'worthless', 'worthless', 'worthless', 'depressed', 'depressed', 'depressed', 'depressed', 'happy', 'happy', 'happy', 'happy', 'happy', 'happy', 'happy', 'happy', 'happy', 'casual', 'casual', 'casual', 'casual', 'casual', 'casual', 'casual', 'casual', 'casual', 'casual', 'casual', 'anxious', 'anxious', 'anxious', 'not-talking', 'not-talking', 'not-talking', 'not-talking', 'sleep', 'sleep', 'sleep', 'sleep', 'sleep', 'sleep', 'scared', 'scared', 'scared', 'scared', 'scared', 'death', 'death', 'death', 'death', 'death', 'death', 'death', 'death', 'understand', 'understand', 'understand', 'understand', 'understand', 'understand', 'done', 'done', 'done', 'done', 'done', 'done', 'suicide', 'suicide', 'suicide', 'suicide', 'suicide', 'suicide', 'suicide', 'hate-you', 'hate-you', 'hate-you', 'hate-me', 'hate-me', 'hate-me', 'hate-me', 'default', 'default', 'default', 'default', 'default', 'default', 'default', 'default', 'default', 'default', 'jokes', 'jokes', 'jokes', 'jokes', 'repeat', 'repeat', 'repeat', 'repeat', 'wrong', 'wrong', 'wrong', 'wrong', 'wrong', 'stupid', 'stupid', 'stupid', 'stupid', 'location', 'location', 'location', 'something-else', 'something-else', 'something-else', 'something-else', 'friends', 'friends', 'friends', 'friends', 'ask', 'ask', 'problem', 'problem', 'problem', 'no-approach', 'no-approach', 'no-approach', 'learn-more', 'learn-more', 'learn-more', 'learn-more', 'break', 'break', 'break', 'break', 'meditation', 'meditation', 'meditation', 'meditation', 'user-meditation', 'user-meditation', 'user-meditation', 'pandora-useful', 'user-advice', 'user-advice', 'user-advice', 'user-advice', 'learn-mental-health', 'learn-mental-health', 'learn-mental-health', 'mental-health-fact', 'mental-health-fact', 'fact-1', 'fact-1', 'fact-2', 'fact-2', 'fact-3', 'fact-3', 'fact-5', 'fact-5', 'fact-5', 'fact-5', 'fact-6', 'fact-6', 'fact-7', 'fact-7', 'fact-7', 'fact-8', 'fact-9', 'fact-10', 'fact-11', 'fact-12', 'fact-13', 'fact-14', 'fact-15', 'fact-16', 'fact-17', 'fact-18', 'fact-19', 'fact-20', 'fact-21', 'fact-22', 'fact-23', 'fact-24', 'fact-25', 'fact-26', 'fact-26', 'fact-27', 'fact-28', 'fact-29', 'fact-30', 'fact-31', 'fact-32', 'fact-32', 'datetime', 'datetime', 'datetime', 'datetime', 'datetime', 'datetime', 'datetime', 'activity', 'activity', 'exclaim', 'exclaim', 'exclaim', 'exclaim', 'exclaim', 'appreciate', 'appreciate', 'appreciate', 'appreciate', 'suggest', 'suggest', 'suggest', 'suggest', 'suggest', 'riddle', 'riddle', 'riddle']\n"
          ]
        }
      ],
      "source": [
        "with open('intents.json') as file:\n",
        "    data = json.load(file)\n",
        "    \n",
        "training_sentences = []\n",
        "training_labels = []\n",
        "labels = []\n",
        "responses = []\n",
        "\n",
        "\n",
        "for intent in data['intents']:\n",
        "    for pattern in intent['patterns']:\n",
        "        training_sentences.append(pattern)\n",
        "        training_labels.append(intent['tag'])\n",
        "    responses.append(intent['responses'])\n",
        "    \n",
        "    if intent['tag'] not in labels:\n",
        "        labels.append(intent['tag'])\n",
        "        \n",
        "num_classes = len(labels)\n",
        "print(len(training_sentences))\n",
        "print(training_labels)"
      ]
    },
    {
      "cell_type": "code",
      "source": [
        "# Initialize augmentation object\n",
        "aug = naw.SynonymAug(aug_src='wordnet')\n",
        "\n",
        "# Augment sentences\n",
        "aug_sentences = []\n",
        "for sentence in training_sentences:\n",
        "    aug_sentence = aug.augment(sentence)\n",
        "    aug_sentences.append(aug_sentence)\n",
        "    \n",
        "# Print augmented sentences\n",
        "#print(aug_sentences)\n",
        "#print(training_labels)\n",
        "\n",
        "#expand the training sentences and the labels to enlarge the dataset\n",
        "training_sentences.extend(aug_sentences)\n",
        "training_labels.extend(training_labels)\n",
        "\n",
        "print(len(training_sentences))\n",
        "print(len(training_labels))"
      ],
      "metadata": {
        "id": "dFFOQBN3JnyU",
        "outputId": "c19b26d3-4037-4b74-d08b-79f3c10a5c5d",
        "colab": {
          "base_uri": "https://localhost:8080/"
        }
      },
      "execution_count": 6,
      "outputs": [
        {
          "output_type": "stream",
          "name": "stderr",
          "text": [
            "[nltk_data] Downloading package wordnet to /root/nltk_data...\n",
            "[nltk_data] Downloading package omw-1.4 to /root/nltk_data...\n",
            "[nltk_data] Downloading package averaged_perceptron_tagger to\n",
            "[nltk_data]     /root/nltk_data...\n",
            "[nltk_data]   Unzipping taggers/averaged_perceptron_tagger.zip.\n"
          ]
        },
        {
          "output_type": "stream",
          "name": "stdout",
          "text": [
            "618\n",
            "618\n"
          ]
        }
      ]
    },
    {
      "cell_type": "code",
      "execution_count": 7,
      "metadata": {
        "id": "lTUSol7Ytp0p"
      },
      "outputs": [],
      "source": [
        "lbl_encoder = LabelEncoder()\n",
        "lbl_encoder.fit(training_labels)\n",
        "training_labels = lbl_encoder.transform(training_labels)"
      ]
    },
    {
      "cell_type": "code",
      "execution_count": 8,
      "metadata": {
        "id": "Geqmxr3ttp0q"
      },
      "outputs": [],
      "source": [
        "vocab_size = 1000\n",
        "embedding_dim = 16\n",
        "max_len = 20\n",
        "oov_token = \"<OOV>\"\n",
        "\n",
        "tokenizer = Tokenizer(num_words=vocab_size, oov_token=oov_token)\n",
        "tokenizer.fit_on_texts(training_sentences)\n",
        "word_index = tokenizer.word_index\n",
        "sequences = tokenizer.texts_to_sequences(training_sentences)\n",
        "padded_sequences = pad_sequences(sequences, truncating='post', maxlen=max_len)"
      ]
    },
    {
      "cell_type": "markdown",
      "source": [
        "##RNN MODEL"
      ],
      "metadata": {
        "id": "LChNaK3jxX_Z"
      }
    },
    {
      "cell_type": "code",
      "execution_count": 9,
      "metadata": {
        "id": "WXVbG5N6tp0r",
        "outputId": "cb826f8e-aac5-4260-f8f2-f72c35cd3bfa",
        "colab": {
          "base_uri": "https://localhost:8080/"
        }
      },
      "outputs": [
        {
          "output_type": "stream",
          "name": "stdout",
          "text": [
            "Model: \"sequential\"\n",
            "_________________________________________________________________\n",
            " Layer (type)                Output Shape              Param #   \n",
            "=================================================================\n",
            " embedding (Embedding)       (None, 20, 16)            16000     \n",
            "                                                                 \n",
            " bidirectional (Bidirectiona  (None, 20, 8)            672       \n",
            " l)                                                              \n",
            "                                                                 \n",
            " dropout (Dropout)           (None, 20, 8)             0         \n",
            "                                                                 \n",
            " bidirectional_1 (Bidirectio  (None, 20, 8)            416       \n",
            " nal)                                                            \n",
            "                                                                 \n",
            " dropout_1 (Dropout)         (None, 20, 8)             0         \n",
            "                                                                 \n",
            " bidirectional_2 (Bidirectio  (None, 20, 4)            176       \n",
            " nal)                                                            \n",
            "                                                                 \n",
            " dropout_2 (Dropout)         (None, 20, 4)             0         \n",
            "                                                                 \n",
            " dense (Dense)               (None, 20, 16)            80        \n",
            "                                                                 \n",
            " dropout_3 (Dropout)         (None, 20, 16)            0         \n",
            "                                                                 \n",
            " flatten (Flatten)           (None, 320)               0         \n",
            "                                                                 \n",
            " dense_1 (Dense)             (None, 86)                27606     \n",
            "                                                                 \n",
            "=================================================================\n",
            "Total params: 44,950\n",
            "Trainable params: 44,950\n",
            "Non-trainable params: 0\n",
            "_________________________________________________________________\n"
          ]
        }
      ],
      "source": [
        "model = Sequential()\n",
        "model.add(Embedding(vocab_size, embedding_dim, input_length=max_len))\n",
        "model.add(Bidirectional(LSTM(4, recurrent_dropout=0.2,return_sequences=True)))\n",
        "model.add(Dropout(0.5))\n",
        "model.add(Bidirectional(LSTM(4, return_sequences=True)))\n",
        "model.add(Dropout(0.5))\n",
        "model.add(Bidirectional(LSTM(2, recurrent_dropout=0.3, return_sequences=True)))\n",
        "model.add(Dropout(0.3))\n",
        "model.add(Dense(16, activation='relu', kernel_regularizer=l2(0.01)))\n",
        "model.add(Dropout(0.5))\n",
        "model.add(Flatten())\n",
        "model.add(Dense(num_classes, activation='softmax'))\n",
        "\n",
        "model.compile(loss='sparse_categorical_crossentropy', \n",
        "              optimizer='adam', metrics=['CategoricalAccuracy'])\n",
        "\n",
        "model.summary()"
      ]
    },
    {
      "cell_type": "code",
      "source": [
        "from keras.utils import to_categorical\n",
        "\n",
        "one_hot_labels = to_categorical(training_labels, num_classes)\n",
        "#print(one_hot_labels.shape)\n",
        "print(training_labels)"
      ],
      "metadata": {
        "id": "G0fSwIa96QZV"
      },
      "execution_count": null,
      "outputs": []
    },
    {
      "cell_type": "code",
      "execution_count": 10,
      "metadata": {
        "id": "VZn_UyWdtp0r",
        "outputId": "1d914576-d574-4a7d-ef2f-c79f579b00d1",
        "colab": {
          "base_uri": "https://localhost:8080/"
        }
      },
      "outputs": [
        {
          "output_type": "stream",
          "name": "stdout",
          "text": [
            "Epoch 1/50\n",
            "18/18 [==============================] - 15s 141ms/step - loss: 4.5041 - categorical_accuracy: 0.0018 - val_loss: 4.5263 - val_categorical_accuracy: 0.0000e+00\n",
            "Epoch 2/50\n",
            "18/18 [==============================] - 1s 45ms/step - loss: 4.3995 - categorical_accuracy: 0.0000e+00 - val_loss: 4.7346 - val_categorical_accuracy: 0.0000e+00\n",
            "Epoch 3/50\n",
            "18/18 [==============================] - 1s 46ms/step - loss: 4.2079 - categorical_accuracy: 0.0000e+00 - val_loss: 5.3418 - val_categorical_accuracy: 0.0000e+00\n",
            "Epoch 4/50\n",
            "18/18 [==============================] - 1s 46ms/step - loss: 4.1783 - categorical_accuracy: 0.0054 - val_loss: 5.4226 - val_categorical_accuracy: 0.0000e+00\n",
            "Epoch 5/50\n",
            "18/18 [==============================] - 1s 45ms/step - loss: 4.1398 - categorical_accuracy: 0.0018 - val_loss: 5.3576 - val_categorical_accuracy: 0.0000e+00\n",
            "Epoch 6/50\n",
            "18/18 [==============================] - 1s 46ms/step - loss: 4.1127 - categorical_accuracy: 0.0000e+00 - val_loss: 5.4483 - val_categorical_accuracy: 0.0000e+00\n",
            "Epoch 7/50\n",
            "18/18 [==============================] - 1s 43ms/step - loss: 4.1173 - categorical_accuracy: 0.0018 - val_loss: 5.5162 - val_categorical_accuracy: 0.0000e+00\n",
            "Epoch 8/50\n",
            "18/18 [==============================] - 1s 44ms/step - loss: 4.1013 - categorical_accuracy: 0.0054 - val_loss: 5.4938 - val_categorical_accuracy: 0.0000e+00\n",
            "Epoch 9/50\n",
            "18/18 [==============================] - 1s 42ms/step - loss: 4.0470 - categorical_accuracy: 0.0126 - val_loss: 5.9789 - val_categorical_accuracy: 0.0000e+00\n",
            "Epoch 10/50\n",
            "18/18 [==============================] - 1s 45ms/step - loss: 4.0094 - categorical_accuracy: 0.0054 - val_loss: 5.8130 - val_categorical_accuracy: 0.0000e+00\n",
            "Epoch 11/50\n",
            "18/18 [==============================] - 1s 43ms/step - loss: 3.9606 - categorical_accuracy: 0.0000e+00 - val_loss: 6.4907 - val_categorical_accuracy: 0.0000e+00\n",
            "Epoch 12/50\n",
            "18/18 [==============================] - 1s 44ms/step - loss: 3.9082 - categorical_accuracy: 0.0036 - val_loss: 6.1335 - val_categorical_accuracy: 0.0000e+00\n",
            "Epoch 13/50\n",
            "18/18 [==============================] - 1s 42ms/step - loss: 3.8296 - categorical_accuracy: 0.0486 - val_loss: 5.9361 - val_categorical_accuracy: 0.0323\n",
            "Epoch 14/50\n",
            "18/18 [==============================] - 1s 46ms/step - loss: 3.7543 - categorical_accuracy: 0.1079 - val_loss: 6.1029 - val_categorical_accuracy: 0.0323\n",
            "Epoch 15/50\n",
            "18/18 [==============================] - 1s 46ms/step - loss: 3.7411 - categorical_accuracy: 0.1475 - val_loss: 5.6454 - val_categorical_accuracy: 0.0806\n",
            "Epoch 16/50\n",
            "18/18 [==============================] - 1s 44ms/step - loss: 3.6846 - categorical_accuracy: 0.2374 - val_loss: 5.2521 - val_categorical_accuracy: 0.8710\n",
            "Epoch 17/50\n",
            "18/18 [==============================] - 1s 47ms/step - loss: 3.6562 - categorical_accuracy: 0.2932 - val_loss: 6.0512 - val_categorical_accuracy: 0.6774\n",
            "Epoch 18/50\n",
            "18/18 [==============================] - 1s 44ms/step - loss: 3.6047 - categorical_accuracy: 0.2986 - val_loss: 5.6695 - val_categorical_accuracy: 0.8226\n",
            "Epoch 19/50\n",
            "18/18 [==============================] - 1s 43ms/step - loss: 3.5224 - categorical_accuracy: 0.2842 - val_loss: 6.6390 - val_categorical_accuracy: 0.5645\n",
            "Epoch 20/50\n",
            "18/18 [==============================] - 1s 42ms/step - loss: 3.5242 - categorical_accuracy: 0.2662 - val_loss: 6.6367 - val_categorical_accuracy: 0.5161\n",
            "Epoch 21/50\n",
            "18/18 [==============================] - 1s 43ms/step - loss: 3.4471 - categorical_accuracy: 0.2212 - val_loss: 5.8573 - val_categorical_accuracy: 0.9032\n",
            "Epoch 22/50\n",
            "18/18 [==============================] - 1s 44ms/step - loss: 3.4325 - categorical_accuracy: 0.2500 - val_loss: 6.9374 - val_categorical_accuracy: 0.5484\n",
            "Epoch 23/50\n",
            "18/18 [==============================] - 1s 44ms/step - loss: 3.3912 - categorical_accuracy: 0.2032 - val_loss: 6.6183 - val_categorical_accuracy: 0.6613\n",
            "Epoch 24/50\n",
            "18/18 [==============================] - 1s 47ms/step - loss: 3.3941 - categorical_accuracy: 0.1906 - val_loss: 6.9014 - val_categorical_accuracy: 0.5323\n",
            "Epoch 25/50\n",
            "18/18 [==============================] - 1s 45ms/step - loss: 3.3126 - categorical_accuracy: 0.1924 - val_loss: 6.5714 - val_categorical_accuracy: 0.7097\n",
            "Epoch 26/50\n",
            "18/18 [==============================] - 1s 46ms/step - loss: 3.3222 - categorical_accuracy: 0.1727 - val_loss: 7.0562 - val_categorical_accuracy: 0.4516\n",
            "Epoch 27/50\n",
            "18/18 [==============================] - 1s 45ms/step - loss: 3.3066 - categorical_accuracy: 0.1888 - val_loss: 9.1898 - val_categorical_accuracy: 0.0161\n",
            "Epoch 28/50\n",
            "18/18 [==============================] - 1s 45ms/step - loss: 3.2820 - categorical_accuracy: 0.1349 - val_loss: 7.2862 - val_categorical_accuracy: 0.2419\n",
            "Epoch 29/50\n",
            "18/18 [==============================] - 1s 44ms/step - loss: 3.2158 - categorical_accuracy: 0.1745 - val_loss: 8.4922 - val_categorical_accuracy: 0.0161\n",
            "Epoch 30/50\n",
            "18/18 [==============================] - 1s 46ms/step - loss: 3.1507 - categorical_accuracy: 0.1331 - val_loss: 7.6531 - val_categorical_accuracy: 0.3226\n",
            "Epoch 31/50\n",
            "18/18 [==============================] - 1s 45ms/step - loss: 3.1774 - categorical_accuracy: 0.1457 - val_loss: 8.6415 - val_categorical_accuracy: 0.0323\n",
            "Epoch 32/50\n",
            "18/18 [==============================] - 1s 46ms/step - loss: 3.1668 - categorical_accuracy: 0.1331 - val_loss: 8.7078 - val_categorical_accuracy: 0.0000e+00\n",
            "Epoch 33/50\n",
            "18/18 [==============================] - 1s 47ms/step - loss: 3.1399 - categorical_accuracy: 0.1025 - val_loss: 7.5288 - val_categorical_accuracy: 0.3387\n",
            "Epoch 34/50\n",
            "18/18 [==============================] - 1s 43ms/step - loss: 3.1512 - categorical_accuracy: 0.1457 - val_loss: 8.9406 - val_categorical_accuracy: 0.0161\n",
            "Epoch 35/50\n",
            "18/18 [==============================] - 1s 43ms/step - loss: 3.0832 - categorical_accuracy: 0.1421 - val_loss: 8.3085 - val_categorical_accuracy: 0.2742\n",
            "Epoch 36/50\n",
            "18/18 [==============================] - 1s 43ms/step - loss: 3.0907 - categorical_accuracy: 0.1637 - val_loss: 9.8536 - val_categorical_accuracy: 0.0161\n",
            "Epoch 37/50\n",
            "18/18 [==============================] - 1s 42ms/step - loss: 3.0621 - categorical_accuracy: 0.1313 - val_loss: 7.8839 - val_categorical_accuracy: 0.4032\n",
            "Epoch 38/50\n",
            "18/18 [==============================] - 1s 44ms/step - loss: 3.0919 - categorical_accuracy: 0.1637 - val_loss: 8.8796 - val_categorical_accuracy: 0.0323\n",
            "Epoch 39/50\n",
            "18/18 [==============================] - 1s 45ms/step - loss: 3.0630 - categorical_accuracy: 0.1475 - val_loss: 8.1930 - val_categorical_accuracy: 0.1774\n",
            "Epoch 40/50\n",
            "18/18 [==============================] - 1s 44ms/step - loss: 3.0263 - categorical_accuracy: 0.1619 - val_loss: 9.3899 - val_categorical_accuracy: 0.0484\n",
            "Epoch 41/50\n",
            "18/18 [==============================] - 1s 46ms/step - loss: 2.9906 - categorical_accuracy: 0.1367 - val_loss: 9.7762 - val_categorical_accuracy: 0.0161\n",
            "Epoch 42/50\n",
            "18/18 [==============================] - 1s 47ms/step - loss: 3.0017 - categorical_accuracy: 0.1385 - val_loss: 9.0093 - val_categorical_accuracy: 0.0484\n",
            "Epoch 43/50\n",
            "18/18 [==============================] - 1s 44ms/step - loss: 2.9886 - categorical_accuracy: 0.1223 - val_loss: 11.5833 - val_categorical_accuracy: 0.0161\n",
            "Epoch 44/50\n",
            "18/18 [==============================] - 1s 46ms/step - loss: 3.0354 - categorical_accuracy: 0.1187 - val_loss: 9.7078 - val_categorical_accuracy: 0.0161\n",
            "Epoch 45/50\n",
            "18/18 [==============================] - 1s 44ms/step - loss: 3.0062 - categorical_accuracy: 0.1439 - val_loss: 9.5293 - val_categorical_accuracy: 0.0323\n",
            "Epoch 46/50\n",
            "18/18 [==============================] - 1s 43ms/step - loss: 2.9474 - categorical_accuracy: 0.1097 - val_loss: 9.3775 - val_categorical_accuracy: 0.0484\n",
            "Epoch 47/50\n",
            "18/18 [==============================] - 1s 44ms/step - loss: 2.9943 - categorical_accuracy: 0.1097 - val_loss: 10.5957 - val_categorical_accuracy: 0.0161\n",
            "Epoch 48/50\n",
            "18/18 [==============================] - 1s 43ms/step - loss: 2.9778 - categorical_accuracy: 0.1277 - val_loss: 9.3003 - val_categorical_accuracy: 0.0806\n",
            "Epoch 49/50\n",
            "18/18 [==============================] - 1s 45ms/step - loss: 2.9387 - categorical_accuracy: 0.1205 - val_loss: 11.5813 - val_categorical_accuracy: 0.0161\n",
            "Epoch 50/50\n",
            "18/18 [==============================] - 1s 46ms/step - loss: 2.9543 - categorical_accuracy: 0.1475 - val_loss: 10.5102 - val_categorical_accuracy: 0.0161\n"
          ]
        }
      ],
      "source": [
        "epochs = 50\n",
        "history = model.fit(padded_sequences, training_labels, epochs=epochs, verbose=1, validation_split=0.1)"
      ]
    },
    {
      "cell_type": "code",
      "source": [
        "plt.plot(history.history['categorical_accuracy'])\n",
        "plt.plot(history.history['val_categorical_accuracy'])"
      ],
      "metadata": {
        "id": "L9S3nmcKMu2T",
        "outputId": "c1a13507-afca-42b4-c3a7-ee4d1e1f610b",
        "colab": {
          "base_uri": "https://localhost:8080/",
          "height": 448
        }
      },
      "execution_count": 11,
      "outputs": [
        {
          "output_type": "execute_result",
          "data": {
            "text/plain": [
              "[<matplotlib.lines.Line2D at 0x7f4910303610>]"
            ]
          },
          "metadata": {},
          "execution_count": 11
        },
        {
          "output_type": "display_data",
          "data": {
            "text/plain": [
              "<Figure size 640x480 with 1 Axes>"
            ],
            "image/png": "[encoded data removed]"
          },
          "metadata": {}
        }
      ]
    },
    {
      "cell_type": "code",
      "execution_count": 12,
      "metadata": {
        "id": "-yrXQJd4tp0t",
        "outputId": "016ef0f3-10cd-4058-f72a-cb49105c0690",
        "colab": {
          "base_uri": "https://localhost:8080/",
          "height": 453
        }
      },
      "outputs": [
        {
          "output_type": "execute_result",
          "data": {
            "text/plain": [
              "[<matplotlib.lines.Line2D at 0x7f49101ff310>]"
            ]
          },
          "metadata": {},
          "execution_count": 12
        },
        {
          "output_type": "display_data",
          "data": {
            "text/plain": [
              "<Figure size 640x480 with 1 Axes>"
            ],
            "image/png": "[encoded data removed]"
          },
          "metadata": {}
        }
      ],
      "source": [
        "plt.plot(history.history['loss'])\n",
        "plt.plot(history.history['val_loss'])"
      ]
    },
    {
      "cell_type": "markdown",
      "source": [
        "##Model save and export"
      ],
      "metadata": {
        "id": "oYvmQj10VvvU"
      }
    },
    {
      "cell_type": "code",
      "execution_count": 13,
      "metadata": {
        "id": "yszOSfNHtp0u",
        "outputId": "0cdee2ca-0550-4e98-ed82-50db1a5d47ac",
        "colab": {
          "base_uri": "https://localhost:8080/"
        }
      },
      "outputs": [
        {
          "output_type": "stream",
          "name": "stderr",
          "text": [
            "WARNING:absl:Found untraced functions such as _update_step_xla, lstm_cell_4_layer_call_fn, lstm_cell_4_layer_call_and_return_conditional_losses, lstm_cell_5_layer_call_fn, lstm_cell_5_layer_call_and_return_conditional_losses while saving (showing 5 of 5). These functions will not be directly callable after loading.\n"
          ]
        }
      ],
      "source": [
        "# to save the trained model\n",
        "model.save(\"chat_model\")\n",
        "\n",
        "# to save the fitted tokenizer\n",
        "with open('tokenizer.pickle', 'wb') as handle:\n",
        "    pickle.dump(tokenizer, handle, protocol=pickle.HIGHEST_PROTOCOL)\n",
        "    \n",
        "# to save the fitted label encoder\n",
        "with open('label_encoder.pickle', 'wb') as ecn_file:\n",
        "    pickle.dump(lbl_encoder, ecn_file, protocol=pickle.HIGHEST_PROTOCOL)"
      ]
    },
    {
      "cell_type": "markdown",
      "source": [
        "##Chat script "
      ],
      "metadata": {
        "id": "JLqRORa5V0bD"
      }
    },
    {
      "cell_type": "code",
      "execution_count": 14,
      "metadata": {
        "id": "gdyW4uKKtp0v",
        "outputId": "1a38ede6-e1dc-4823-ee8d-0724c54a7767",
        "colab": {
          "base_uri": "https://localhost:8080/"
        }
      },
      "outputs": [
        {
          "output_type": "stream",
          "name": "stdout",
          "text": [
            "\u001b[33mStart messaging with the bot (type quit to stop)!\u001b[0m\n",
            "\u001b[94mUser: \u001b[0mHey\n",
            "1/1 [==============================] - 3s 3s/step\n",
            "['greeting']\n",
            "\u001b[32mChatBot:\u001b[0m Hello there. Tell me how are you feeling today?\n",
            "\u001b[94mUser: \u001b[0mI'm feeling great\n",
            "1/1 [==============================] - 0s 28ms/step\n",
            "['greeting']\n",
            "\u001b[32mChatBot:\u001b[0m Hi there. What brings you here today?\n",
            "\u001b[94mUser: \u001b[0mI'm having a great day\n",
            "1/1 [==============================] - 0s 28ms/step\n",
            "['about']\n",
            "\u001b[32mChatBot:\u001b[0m You can call me Digital Friend.\n",
            "\u001b[94mUser: \u001b[0mCall me Chris\n",
            "1/1 [==============================] - 0s 28ms/step\n",
            "['neutral-response']\n",
            "\u001b[32mChatBot:\u001b[0m Is something on your mind?\n",
            "\u001b[94mUser: \u001b[0mI'm so happy today\n",
            "1/1 [==============================] - 0s 27ms/step\n",
            "['greeting']\n",
            "\u001b[32mChatBot:\u001b[0m Hello there. Glad to see you're back. What's going on in your world right now?\n",
            "\u001b[94mUser: \u001b[0mOkay now you're starting to bother me\n",
            "1/1 [==============================] - 0s 30ms/step\n",
            "['about']\n",
            "\u001b[32mChatBot:\u001b[0m You can call me Digital Friend.\n",
            "\u001b[94mUser: \u001b[0mI hate you\n",
            "1/1 [==============================] - 0s 27ms/step\n",
            "['about']\n",
            "\u001b[32mChatBot:\u001b[0m You can call me Digital Friend.\n",
            "\u001b[94mUser: \u001b[0mhate you\n",
            "1/1 [==============================] - 0s 30ms/step\n",
            "['about']\n",
            "\u001b[32mChatBot:\u001b[0m I'm Digital Friend, your Mental health AI Assistant. How are you feeling today\n",
            "\u001b[94mUser: \u001b[0mYou make me sad\n",
            "1/1 [==============================] - 0s 29ms/step\n",
            "['greeting']\n",
            "\u001b[32mChatBot:\u001b[0m Hello there. Glad to see you're back. What's going on in your world right now?\n",
            "\u001b[94mUser: \u001b[0mI am now sad\n",
            "1/1 [==============================] - 0s 28ms/step\n",
            "['greeting']\n",
            "\u001b[32mChatBot:\u001b[0m Hi there. What brings you here today?\n",
            "\u001b[94mUser: \u001b[0mCan you cheer me up?\n",
            "1/1 [==============================] - 0s 29ms/step\n",
            "['about']\n",
            "\u001b[32mChatBot:\u001b[0m I'm Digital Friend, a Mental Health AI Assitant designed to assist you. Tell me about yourself.\n",
            "\u001b[94mUser: \u001b[0mI don't know how to be happy\n",
            "1/1 [==============================] - 0s 27ms/step\n",
            "['neutral-response']\n",
            "\u001b[32mChatBot:\u001b[0m Oh I see. Do you want to talk about something?\n",
            "\u001b[94mUser: \u001b[0mOkay you officially pissed me off\n",
            "1/1 [==============================] - 0s 28ms/step\n",
            "['neutral-response']\n",
            "\u001b[32mChatBot:\u001b[0m Oh I see. Do you want to talk about something?\n",
            "\u001b[94mUser: \u001b[0mquit\n",
            "14\n"
          ]
        }
      ],
      "source": [
        "with open(\"intents.json\") as file:\n",
        "    data = json.load(file)\n",
        "\n",
        "input_list = []\n",
        "\n",
        "def chat(input_list):\n",
        "    # load trained model\n",
        "    model = keras.models.load_model('chat_model')\n",
        "\n",
        "    # load tokenizer object\n",
        "    with open('tokenizer.pickle', 'rb') as handle:\n",
        "        tokenizer = pickle.load(handle)\n",
        "\n",
        "    # load label encoder object\n",
        "    with open('label_encoder.pickle', 'rb') as enc:\n",
        "        lbl_encoder = pickle.load(enc)\n",
        "\n",
        "    # parameters\n",
        "    max_len = 20\n",
        "    \n",
        "    while True:\n",
        "        print(Fore.LIGHTBLUE_EX + \"User: \" + Style.RESET_ALL, end=\"\")\n",
        "        inp = input()\n",
        "        input_list.append(inp)\n",
        "        if inp.lower() == \"quit\":\n",
        "            break\n",
        "\n",
        "        result = model.predict(keras.preprocessing.sequence.pad_sequences(tokenizer.texts_to_sequences([inp]),\n",
        "                                             truncating='post', maxlen=max_len))\n",
        "        #print(result)                                    \n",
        "        tag = lbl_encoder.inverse_transform([np.argmax(result)])\n",
        "        print(tag)\n",
        "        for i in data['intents']:\n",
        "            if i['tag'] == tag:\n",
        "                print(Fore.GREEN + \"ChatBot:\" + Style.RESET_ALL , np.random.choice(i['responses']))\n",
        "\n",
        "        # print(Fore.GREEN + \"ChatBot:\" + Style.RESET_ALL,random.choice(responses))\n",
        "    return input_list\n",
        "\n",
        "print(Fore.YELLOW + \"Start messaging with the bot (type quit to stop)!\" + Style.RESET_ALL)\n",
        "total_input = chat(input_list)\n",
        "\n",
        "print(len(total_input))"
      ]
    },
    {
      "cell_type": "markdown",
      "source": [
        "##Chat results and metrics"
      ],
      "metadata": {
        "id": "mcMfHxDkVqSo"
      }
    },
    {
      "cell_type": "code",
      "source": [
        "first_five_inputs = total_input[0:5]\n",
        "last_five_inputs =  total_input[-5:]\n",
        "\n",
        "first_five_sentiments = []\n",
        "last_five_sentiments = []\n",
        "\n",
        "for input in first_five_inputs:\n",
        "  first_five_sentiments.append(TextBlob(input).sentiment.polarity)\n",
        "\n",
        "for input in last_five_inputs:\n",
        "  last_five_sentiments.append(TextBlob(input).sentiment.polarity)\n",
        "\n",
        "first_five_sum = 0\n",
        "last_five_sum = 0\n",
        "\n",
        "for polarity in first_five_sentiments:\n",
        "  first_five_sum = first_five_sum + polarity\n",
        "\n",
        "for polarity in last_five_sentiments:\n",
        "  last_five_sum = last_five_sum + polarity\n",
        "\n",
        "if first_five_sum < last_five_sum:\n",
        "  print(\"There was an improvement in sentiment throughout the chat process\")\n",
        "\n",
        "if first_five_sum > last_five_sum:\n",
        "  print(\"There was a decline in sentiment throughout the chat process\")\n",
        "\n",
        "if first_five_sum == last_five_sum:\n",
        "  print(\"There was no change in sentiment throughout the chat process\")"
      ],
      "metadata": {
        "id": "Vr6qhswT6pBG",
        "outputId": "4d307e07-4b12-4147-8a22-01f526351dbd",
        "colab": {
          "base_uri": "https://localhost:8080/"
        }
      },
      "execution_count": 15,
      "outputs": [
        {
          "output_type": "stream",
          "name": "stdout",
          "text": [
            "There was a decline in sentiment throughout the chat process\n"
          ]
        }
      ]
    },
    {
      "cell_type": "code",
      "source": [
        "sentiment_means = [mean(first_five_sentiments), mean(last_five_sentiments)]\n",
        "names = [\"First Five Inputs\", 'Last Five Inputs']\n",
        "\n",
        "plt.plot(names, sentiment_means)\n",
        "plt.show()"
      ],
      "metadata": {
        "id": "Cs-7yT76b4Ai",
        "outputId": "54fd5c4d-b7ce-407c-cebf-01fc448c11ea",
        "colab": {
          "base_uri": "https://localhost:8080/",
          "height": 430
        }
      },
      "execution_count": 16,
      "outputs": [
        {
          "output_type": "display_data",
          "data": {
            "text/plain": [
              "<Figure size 640x480 with 1 Axes>"
            ],
            "image/png": "[encoded data removed]"
          },
          "metadata": {}
        }
      ]
    },
    {
      "cell_type": "markdown",
      "source": [
        "##Post-Chat survey"
      ],
      "metadata": {
        "id": "KjPEebafVicc"
      }
    },
    {
      "cell_type": "markdown",
      "source": [
        "https://docs.google.com/forms/d/e/1FAIpQLSfeZG2RkqeHAdvU4jIJCBBdl0y0_yQGOwaR-WpPx5GQwCap3w/viewform"
      ],
      "metadata": {
        "id": "Rt7_-t3SVmlX"
      }
    }
  ],
  "metadata": {
    "kernelspec": {
      "display_name": "spyder-env",
      "language": "python",
      "name": "python3"
    },
    "language_info": {
      "codemirror_mode": {
        "name": "ipython",
        "version": 3
      },
      "file_extension": ".py",
      "mimetype": "text/x-python",
      "name": "python",
      "nbconvert_exporter": "python",
      "pygments_lexer": "ipython3",
      "version": "3.10.8"
    },
    "orig_nbformat": 4,
    "vscode": {
      "interpreter": {
        "hash": "0867740005d6599654add18c4aea8b68041991fa551a979db4ae6559591eb1ee"
      }
    },
    "colab": {
      "provenance": [],
      "machine_shape": "hm"
    },
    "accelerator": "TPU",
    "gpuClass": "standard"
  },
  "nbformat": 4,
  "nbformat_minor": 0
}