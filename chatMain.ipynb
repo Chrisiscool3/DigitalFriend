{
  "cells": [
    {
      "cell_type": "markdown",
      "source": [
        "##Install and import required packages"
      ],
      "metadata": {
        "id": "vgv1GyX0V7c2"
      }
    },
    {
      "cell_type": "code",
      "source": [
        "pip install colorama"
      ],
      "metadata": {
        "id": "l7UNG-2Zt7yY",
        "outputId": "2b697b21-7143-4b61-be15-b45f21a26d2e",
        "colab": {
          "base_uri": "https://localhost:8080/"
        }
      },
      "execution_count": 1,
      "outputs": [
        {
          "output_type": "stream",
          "name": "stdout",
          "text": [
            "Looking in indexes: https://pypi.org/simple, https://us-python.pkg.dev/colab-wheels/public/simple/\n",
            "Collecting colorama\n",
            "  Downloading colorama-0.4.6-py2.py3-none-any.whl (25 kB)\n",
            "Installing collected packages: colorama\n",
            "Successfully installed colorama-0.4.6\n"
          ]
        }
      ]
    },
    {
      "cell_type": "code",
      "source": [
        "!pip install nlpaug"
      ],
      "metadata": {
        "id": "2jy_twY3cniu",
        "outputId": "b1d1f143-7973-4bb0-dd8a-1ea236a81ad5",
        "colab": {
          "base_uri": "https://localhost:8080/"
        }
      },
      "execution_count": 2,
      "outputs": [
        {
          "output_type": "stream",
          "name": "stdout",
          "text": [
            "Looking in indexes: https://pypi.org/simple, https://us-python.pkg.dev/colab-wheels/public/simple/\n",
            "Collecting nlpaug\n",
            "  Downloading nlpaug-1.1.11-py3-none-any.whl (410 kB)\n",
            "\u001b[2K     \u001b[90m━━━━━━━━━━━━━━━━━━━━━━━━━━━━━━━━━━━━━━━\u001b[0m \u001b[32m410.5/410.5 kB\u001b[0m \u001b[31m8.7 MB/s\u001b[0m eta \u001b[36m0:00:00\u001b[0m\n",
            "\u001b[?25hRequirement already satisfied: gdown>=4.0.0 in /usr/local/lib/python3.10/dist-packages (from nlpaug) (4.6.6)\n",
            "Requirement already satisfied: requests>=2.22.0 in /usr/local/lib/python3.10/dist-packages (from nlpaug) (2.27.1)\n",
            "Requirement already satisfied: pandas>=1.2.0 in /usr/local/lib/python3.10/dist-packages (from nlpaug) (1.5.3)\n",
            "Requirement already satisfied: numpy>=1.16.2 in /usr/local/lib/python3.10/dist-packages (from nlpaug) (1.24.3)\n",
            "Requirement already satisfied: filelock in /usr/local/lib/python3.10/dist-packages (from gdown>=4.0.0->nlpaug) (3.12.0)\n",
            "Requirement already satisfied: six in /usr/local/lib/python3.10/dist-packages (from gdown>=4.0.0->nlpaug) (1.16.0)\n",
            "Requirement already satisfied: beautifulsoup4 in /usr/local/lib/python3.10/dist-packages (from gdown>=4.0.0->nlpaug) (4.11.2)\n",
            "Requirement already satisfied: tqdm in /usr/local/lib/python3.10/dist-packages (from gdown>=4.0.0->nlpaug) (4.65.0)\n",
            "Requirement already satisfied: python-dateutil>=2.8.1 in /usr/local/lib/python3.10/dist-packages (from pandas>=1.2.0->nlpaug) (2.8.2)\n",
            "Requirement already satisfied: pytz>=2020.1 in /usr/local/lib/python3.10/dist-packages (from pandas>=1.2.0->nlpaug) (2022.7.1)\n",
            "Requirement already satisfied: certifi>=2017.4.17 in /usr/local/lib/python3.10/dist-packages (from requests>=2.22.0->nlpaug) (2022.12.7)\n",
            "Requirement already satisfied: charset-normalizer~=2.0.0 in /usr/local/lib/python3.10/dist-packages (from requests>=2.22.0->nlpaug) (2.0.12)\n",
            "Requirement already satisfied: urllib3<1.27,>=1.21.1 in /usr/local/lib/python3.10/dist-packages (from requests>=2.22.0->nlpaug) (1.26.15)\n",
            "Requirement already satisfied: idna<4,>=2.5 in /usr/local/lib/python3.10/dist-packages (from requests>=2.22.0->nlpaug) (3.4)\n",
            "Requirement already satisfied: soupsieve>1.2 in /usr/local/lib/python3.10/dist-packages (from beautifulsoup4->gdown>=4.0.0->nlpaug) (2.4.1)\n",
            "Requirement already satisfied: PySocks!=1.5.7,>=1.5.6 in /usr/local/lib/python3.10/dist-packages (from requests>=2.22.0->nlpaug) (1.7.1)\n",
            "Installing collected packages: nlpaug\n",
            "Successfully installed nlpaug-1.1.11\n"
          ]
        }
      ]
    },
    {
      "cell_type": "code",
      "source": [
        "pip install textblob"
      ],
      "metadata": {
        "id": "FusAJdHp8ySk",
        "outputId": "2a4284a8-2f28-4f2a-b592-39abe47ab17a",
        "colab": {
          "base_uri": "https://localhost:8080/"
        }
      },
      "execution_count": 3,
      "outputs": [
        {
          "output_type": "stream",
          "name": "stdout",
          "text": [
            "Looking in indexes: https://pypi.org/simple, https://us-python.pkg.dev/colab-wheels/public/simple/\n",
            "Requirement already satisfied: textblob in /usr/local/lib/python3.10/dist-packages (0.17.1)\n",
            "Requirement already satisfied: nltk>=3.1 in /usr/local/lib/python3.10/dist-packages (from textblob) (3.8.1)\n",
            "Requirement already satisfied: tqdm in /usr/local/lib/python3.10/dist-packages (from nltk>=3.1->textblob) (4.65.0)\n",
            "Requirement already satisfied: joblib in /usr/local/lib/python3.10/dist-packages (from nltk>=3.1->textblob) (1.2.0)\n",
            "Requirement already satisfied: click in /usr/local/lib/python3.10/dist-packages (from nltk>=3.1->textblob) (8.1.3)\n",
            "Requirement already satisfied: regex>=2021.8.3 in /usr/local/lib/python3.10/dist-packages (from nltk>=3.1->textblob) (2022.10.31)\n"
          ]
        }
      ]
    },
    {
      "cell_type": "code",
      "execution_count": 4,
      "metadata": {
        "id": "I43obmXmtp0m"
      },
      "outputs": [],
      "source": [
        "import json \n",
        "import numpy as np \n",
        "import tensorflow as tf\n",
        "from tensorflow import keras\n",
        "from tensorflow.keras.models import Sequential\n",
        "from tensorflow.keras.layers import Dense, Embedding, GlobalAveragePooling1D\n",
        "from tensorflow.keras.preprocessing.text import Tokenizer\n",
        "from tensorflow.keras.preprocessing.sequence import pad_sequences\n",
        "from sklearn.preprocessing import LabelEncoder\n",
        "import matplotlib.pyplot as plt\n",
        "import pickle\n",
        "import colorama \n",
        "from colorama import Fore, Style, Back\n",
        "import random\n",
        "import nlpaug.augmenter.word as naw\n",
        "from tensorflow.keras.models import Model\n",
        "from tensorflow.keras.layers import Input, LSTM, Bidirectional, Dense, Dropout, Concatenate, Dot, Activation, Flatten, TimeDistributed, GRU\n",
        "from tensorflow.keras.callbacks import EarlyStopping\n",
        "from keras.regularizers import l2\n",
        "from textblob import TextBlob\n",
        "import google.auth\n",
        "from google.colab import auth\n",
        "from googleapiclient.discovery import build\n",
        "from google.oauth2 import service_account\n",
        "from statistics import mean"
      ]
    },
    {
      "cell_type": "markdown",
      "source": [
        "##Data import and preprocessing"
      ],
      "metadata": {
        "id": "s-Ww5kZiWA5R"
      }
    },
    {
      "cell_type": "code",
      "execution_count": 12,
      "metadata": {
        "id": "9l4a1odftp0o",
        "outputId": "1c3869d1-d0bf-4f12-f1b5-37cd2eff4559",
        "colab": {
          "base_uri": "https://localhost:8080/"
        }
      },
      "outputs": [
        {
          "output_type": "stream",
          "name": "stdout",
          "text": [
            "309\n",
            "['greeting', 'greeting', 'greeting', 'greeting', 'greeting', 'greeting', 'greeting', 'greeting', 'greeting', 'greeting', 'greeting', 'greeting', 'greeting', 'morning', 'morning', 'afternoon', 'afternoon', 'evening', 'evening', 'night', 'night', 'night', 'night', 'goodbye', 'goodbye', 'goodbye', 'goodbye', 'goodbye', 'goodbye', 'goodbye', 'goodbye', 'goodbye', 'thanks', 'thanks', 'thanks', 'thanks', 'thanks', 'no-response', 'neutral-response', 'neutral-response', 'neutral-response', 'neutral-response', 'neutral-response', 'neutral-response', 'neutral-response', 'neutral-response', 'about', 'about', 'about', 'about', 'about', 'about', 'about', 'about', 'skill', 'skill', 'creation', 'creation', 'creation', 'name', 'name', 'name', 'help', 'help', 'help', 'help', 'help', 'help', 'help', 'help', 'sad', 'sad', 'sad', 'sad', 'sad', 'sad', 'sad', 'sad', 'sad', 'sad', 'sad', 'sad', 'stressed', 'stressed', 'stressed', 'stressed', 'stressed', 'worthless', 'worthless', 'worthless', 'worthless', 'worthless', 'worthless', 'worthless', 'depressed', 'depressed', 'depressed', 'depressed', 'happy', 'happy', 'happy', 'happy', 'happy', 'happy', 'happy', 'happy', 'happy', 'casual', 'casual', 'casual', 'casual', 'casual', 'casual', 'casual', 'casual', 'casual', 'casual', 'casual', 'anxious', 'anxious', 'anxious', 'not-talking', 'not-talking', 'not-talking', 'not-talking', 'sleep', 'sleep', 'sleep', 'sleep', 'sleep', 'sleep', 'scared', 'scared', 'scared', 'scared', 'scared', 'death', 'death', 'death', 'death', 'death', 'death', 'death', 'death', 'understand', 'understand', 'understand', 'understand', 'understand', 'understand', 'done', 'done', 'done', 'done', 'done', 'done', 'suicide', 'suicide', 'suicide', 'suicide', 'suicide', 'suicide', 'suicide', 'hate-you', 'hate-you', 'hate-you', 'hate-me', 'hate-me', 'hate-me', 'hate-me', 'default', 'default', 'default', 'default', 'default', 'default', 'default', 'default', 'default', 'default', 'jokes', 'jokes', 'jokes', 'jokes', 'repeat', 'repeat', 'repeat', 'repeat', 'wrong', 'wrong', 'wrong', 'wrong', 'wrong', 'stupid', 'stupid', 'stupid', 'stupid', 'location', 'location', 'location', 'something-else', 'something-else', 'something-else', 'something-else', 'friends', 'friends', 'friends', 'friends', 'ask', 'ask', 'problem', 'problem', 'problem', 'no-approach', 'no-approach', 'no-approach', 'learn-more', 'learn-more', 'learn-more', 'learn-more', 'break', 'break', 'break', 'break', 'meditation', 'meditation', 'meditation', 'meditation', 'user-meditation', 'user-meditation', 'user-meditation', 'pandora-useful', 'user-advice', 'user-advice', 'user-advice', 'user-advice', 'learn-mental-health', 'learn-mental-health', 'learn-mental-health', 'mental-health-fact', 'mental-health-fact', 'fact-1', 'fact-1', 'fact-2', 'fact-2', 'fact-3', 'fact-3', 'fact-5', 'fact-5', 'fact-5', 'fact-5', 'fact-6', 'fact-6', 'fact-7', 'fact-7', 'fact-7', 'fact-8', 'fact-9', 'fact-10', 'fact-11', 'fact-12', 'fact-13', 'fact-14', 'fact-15', 'fact-16', 'fact-17', 'fact-18', 'fact-19', 'fact-20', 'fact-21', 'fact-22', 'fact-23', 'fact-24', 'fact-25', 'fact-26', 'fact-26', 'fact-27', 'fact-28', 'fact-29', 'fact-30', 'fact-31', 'fact-32', 'fact-32', 'datetime', 'datetime', 'datetime', 'datetime', 'datetime', 'datetime', 'datetime', 'activity', 'activity', 'exclaim', 'exclaim', 'exclaim', 'exclaim', 'exclaim', 'appreciate', 'appreciate', 'appreciate', 'appreciate', 'suggest', 'suggest', 'suggest', 'suggest', 'suggest', 'riddle', 'riddle', 'riddle']\n"
          ]
        }
      ],
      "source": [
        "with open('intents.json') as file:\n",
        "    data = json.load(file)\n",
        "    \n",
        "training_sentences = []\n",
        "training_labels = []\n",
        "labels = []\n",
        "responses = []\n",
        "\n",
        "\n",
        "for intent in data['intents']:\n",
        "    for pattern in intent['patterns']:\n",
        "        training_sentences.append(pattern)\n",
        "        training_labels.append(intent['tag'])\n",
        "    responses.append(intent['responses'])\n",
        "    \n",
        "    if intent['tag'] not in labels:\n",
        "        labels.append(intent['tag'])\n",
        "        \n",
        "num_classes = len(labels)\n",
        "print(len(training_sentences))\n",
        "print(training_labels)"
      ]
    },
    {
      "cell_type": "code",
      "source": [
        "# Initialize augmentation object\n",
        "aug = naw.SynonymAug(aug_src='wordnet')\n",
        "\n",
        "# Augment sentences\n",
        "aug_sentences = []\n",
        "for sentence in training_sentences:\n",
        "    aug_sentence = aug.augment(sentence)\n",
        "    aug_sentences.append(aug_sentence)\n",
        "    \n",
        "# Print augmented sentences\n",
        "#print(aug_sentences)\n",
        "#print(training_labels)\n",
        "\n",
        "#expand the training sentences and the labels to enlarge the dataset\n",
        "training_sentences.extend(aug_sentences)\n",
        "training_labels.extend(training_labels)\n",
        "\n",
        "print(len(training_sentences))\n",
        "print(len(training_labels))"
      ],
      "metadata": {
        "id": "dFFOQBN3JnyU",
        "outputId": "0aaf81fa-f88b-4cc4-8af3-e93a7a713aa4",
        "colab": {
          "base_uri": "https://localhost:8080/"
        }
      },
      "execution_count": 13,
      "outputs": [
        {
          "output_type": "stream",
          "name": "stdout",
          "text": [
            "618\n",
            "618\n"
          ]
        }
      ]
    },
    {
      "cell_type": "code",
      "execution_count": 14,
      "metadata": {
        "id": "lTUSol7Ytp0p"
      },
      "outputs": [],
      "source": [
        "lbl_encoder = LabelEncoder()\n",
        "lbl_encoder.fit(training_labels)\n",
        "training_labels = lbl_encoder.transform(training_labels)"
      ]
    },
    {
      "cell_type": "code",
      "execution_count": 15,
      "metadata": {
        "id": "Geqmxr3ttp0q"
      },
      "outputs": [],
      "source": [
        "vocab_size = 1000\n",
        "embedding_dim = 16\n",
        "max_len = 20\n",
        "oov_token = \"<OOV>\"\n",
        "\n",
        "tokenizer = Tokenizer(num_words=vocab_size, oov_token=oov_token)\n",
        "tokenizer.fit_on_texts(training_sentences)\n",
        "word_index = tokenizer.word_index\n",
        "sequences = tokenizer.texts_to_sequences(training_sentences)\n",
        "padded_sequences = pad_sequences(sequences, truncating='post', maxlen=max_len)"
      ]
    },
    {
      "cell_type": "markdown",
      "source": [
        "##RNN MODEL"
      ],
      "metadata": {
        "id": "LChNaK3jxX_Z"
      }
    },
    {
      "cell_type": "code",
      "execution_count": 29,
      "metadata": {
        "id": "WXVbG5N6tp0r",
        "outputId": "2ff57475-0549-49ab-fd3c-8a245c4be5d9",
        "colab": {
          "base_uri": "https://localhost:8080/"
        }
      },
      "outputs": [
        {
          "output_type": "stream",
          "name": "stdout",
          "text": [
            "Model: \"sequential_5\"\n",
            "_________________________________________________________________\n",
            " Layer (type)                Output Shape              Param #   \n",
            "=================================================================\n",
            " embedding_5 (Embedding)     (None, 20, 16)            16000     \n",
            "                                                                 \n",
            " bidirectional_15 (Bidirecti  (None, 20, 8)            672       \n",
            " onal)                                                           \n",
            "                                                                 \n",
            " dropout_20 (Dropout)        (None, 20, 8)             0         \n",
            "                                                                 \n",
            " bidirectional_16 (Bidirecti  (None, 20, 8)            416       \n",
            " onal)                                                           \n",
            "                                                                 \n",
            " dropout_21 (Dropout)        (None, 20, 8)             0         \n",
            "                                                                 \n",
            " bidirectional_17 (Bidirecti  (None, 20, 4)            176       \n",
            " onal)                                                           \n",
            "                                                                 \n",
            " dropout_22 (Dropout)        (None, 20, 4)             0         \n",
            "                                                                 \n",
            " dense_10 (Dense)            (None, 20, 16)            80        \n",
            "                                                                 \n",
            " dropout_23 (Dropout)        (None, 20, 16)            0         \n",
            "                                                                 \n",
            " flatten_5 (Flatten)         (None, 320)               0         \n",
            "                                                                 \n",
            " dense_11 (Dense)            (None, 86)                27606     \n",
            "                                                                 \n",
            "=================================================================\n",
            "Total params: 44,950\n",
            "Trainable params: 44,950\n",
            "Non-trainable params: 0\n",
            "_________________________________________________________________\n"
          ]
        }
      ],
      "source": [
        "#LSTM BASED MODEL - WORKING MODEL\n",
        "model = Sequential()\n",
        "model.add(Embedding(vocab_size, embedding_dim, input_length=max_len))\n",
        "model.add(Bidirectional(LSTM(4, recurrent_dropout=0.2,return_sequences=True)))\n",
        "model.add(Dropout(0.5))\n",
        "model.add(Bidirectional(LSTM(4, return_sequences=True)))\n",
        "model.add(Dropout(0.5))\n",
        "model.add(Bidirectional(LSTM(2, recurrent_dropout=0.3, return_sequences=True)))\n",
        "model.add(Dropout(0.3))\n",
        "model.add(Dense(16, activation='relu', kernel_regularizer=l2(0.01)))\n",
        "model.add(Dropout(0.5))\n",
        "model.add(Flatten())\n",
        "model.add(Dense(num_classes, activation='softmax'))\n",
        "\n",
        "model.compile(loss='sparse_categorical_crossentropy', \n",
        "              optimizer='adam', metrics=['CategoricalAccuracy'])\n",
        "\n",
        "model.summary()"
      ]
    },
    {
      "cell_type": "code",
      "source": [
        "#GRU MODEL - NOT WORKING MODEL\n",
        "#model = Sequential()\n",
        "#model.add(Embedding(vocab_size, embedding_dim, input_length=max_len))\n",
        "#model.add(Bidirectional(GRU(4, recurrent_dropout=0.2,return_sequences=True)))\n",
        "#model.add(Dropout(0.5))\n",
        "#model.add(Bidirectional(GRU(4, return_sequences=True)))\n",
        "#model.add(Dropout(0.5))\n",
        "#model.add(Bidirectional(GRU(2, recurrent_dropout=0.3, return_sequences=True)))\n",
        "#model.add(Dropout(0.3))\n",
        "#model.add(Dense(16, activation='relu', kernel_regularizer=l2(0.01)))\n",
        "#model.add(Dropout(0.5))\n",
        "#model.add(Flatten())\n",
        "#model.add(Dense(num_classes, activation='softmax'))\n",
        "\n",
        "#model.compile(loss='sparse_categorical_crossentropy', \n",
        "#              optimizer='adam', metrics=['CategoricalAccuracy'])\n",
        "\n",
        "#model.summary()"
      ],
      "metadata": {
        "id": "7azdKa7mOsNu",
        "outputId": "0ae12edd-c4f4-428d-a0d1-0dca344e85b3",
        "colab": {
          "base_uri": "https://localhost:8080/"
        }
      },
      "execution_count": 28,
      "outputs": [
        {
          "output_type": "stream",
          "name": "stdout",
          "text": [
            "Model: \"sequential_4\"\n",
            "_________________________________________________________________\n",
            " Layer (type)                Output Shape              Param #   \n",
            "=================================================================\n",
            " embedding_4 (Embedding)     (None, 20, 16)            16000     \n",
            "                                                                 \n",
            " bidirectional_12 (Bidirecti  (None, 20, 8)            528       \n",
            " onal)                                                           \n",
            "                                                                 \n",
            " dropout_16 (Dropout)        (None, 20, 8)             0         \n",
            "                                                                 \n",
            " bidirectional_13 (Bidirecti  (None, 20, 8)            336       \n",
            " onal)                                                           \n",
            "                                                                 \n",
            " dropout_17 (Dropout)        (None, 20, 8)             0         \n",
            "                                                                 \n",
            " bidirectional_14 (Bidirecti  (None, 20, 4)            144       \n",
            " onal)                                                           \n",
            "                                                                 \n",
            " dropout_18 (Dropout)        (None, 20, 4)             0         \n",
            "                                                                 \n",
            " dense_8 (Dense)             (None, 20, 16)            80        \n",
            "                                                                 \n",
            " dropout_19 (Dropout)        (None, 20, 16)            0         \n",
            "                                                                 \n",
            " flatten_4 (Flatten)         (None, 320)               0         \n",
            "                                                                 \n",
            " dense_9 (Dense)             (None, 86)                27606     \n",
            "                                                                 \n",
            "=================================================================\n",
            "Total params: 44,694\n",
            "Trainable params: 44,694\n",
            "Non-trainable params: 0\n",
            "_________________________________________________________________\n"
          ]
        }
      ]
    },
    {
      "cell_type": "code",
      "execution_count": 30,
      "metadata": {
        "id": "VZn_UyWdtp0r",
        "outputId": "e282af5c-9ed7-4749-afb8-9e66625d17b1",
        "colab": {
          "base_uri": "https://localhost:8080/"
        }
      },
      "outputs": [
        {
          "output_type": "stream",
          "name": "stdout",
          "text": [
            "Epoch 1/150\n",
            "18/18 [==============================] - 19s 156ms/step - loss: 4.4987 - categorical_accuracy: 0.0000e+00 - val_loss: 4.5347 - val_categorical_accuracy: 0.0000e+00\n",
            "Epoch 2/150\n",
            "18/18 [==============================] - 1s 54ms/step - loss: 4.4111 - categorical_accuracy: 0.0000e+00 - val_loss: 4.6861 - val_categorical_accuracy: 0.0000e+00\n",
            "Epoch 3/150\n",
            "18/18 [==============================] - 1s 52ms/step - loss: 4.2768 - categorical_accuracy: 0.0000e+00 - val_loss: 5.1108 - val_categorical_accuracy: 0.0000e+00\n",
            "Epoch 4/150\n",
            "18/18 [==============================] - 1s 53ms/step - loss: 4.2122 - categorical_accuracy: 0.0000e+00 - val_loss: 5.3796 - val_categorical_accuracy: 0.0000e+00\n",
            "Epoch 5/150\n",
            "18/18 [==============================] - 1s 55ms/step - loss: 4.1852 - categorical_accuracy: 0.0000e+00 - val_loss: 5.3375 - val_categorical_accuracy: 0.0000e+00\n",
            "Epoch 6/150\n",
            "18/18 [==============================] - 1s 53ms/step - loss: 4.1528 - categorical_accuracy: 0.0000e+00 - val_loss: 5.3406 - val_categorical_accuracy: 0.0000e+00\n",
            "Epoch 7/150\n",
            "18/18 [==============================] - 1s 55ms/step - loss: 4.1386 - categorical_accuracy: 0.0000e+00 - val_loss: 5.4098 - val_categorical_accuracy: 0.0000e+00\n",
            "Epoch 8/150\n",
            "18/18 [==============================] - 1s 54ms/step - loss: 4.1255 - categorical_accuracy: 0.0000e+00 - val_loss: 5.4183 - val_categorical_accuracy: 0.0000e+00\n",
            "Epoch 9/150\n",
            "18/18 [==============================] - 1s 55ms/step - loss: 4.1203 - categorical_accuracy: 0.0018 - val_loss: 5.4763 - val_categorical_accuracy: 0.0000e+00\n",
            "Epoch 10/150\n",
            "18/18 [==============================] - 1s 51ms/step - loss: 4.0935 - categorical_accuracy: 0.0000e+00 - val_loss: 5.5584 - val_categorical_accuracy: 0.0000e+00\n",
            "Epoch 11/150\n",
            "18/18 [==============================] - 1s 52ms/step - loss: 4.0880 - categorical_accuracy: 0.0036 - val_loss: 5.5938 - val_categorical_accuracy: 0.0000e+00\n",
            "Epoch 12/150\n",
            "18/18 [==============================] - 1s 53ms/step - loss: 4.0709 - categorical_accuracy: 0.0018 - val_loss: 5.5829 - val_categorical_accuracy: 0.0000e+00\n",
            "Epoch 13/150\n",
            "18/18 [==============================] - 1s 52ms/step - loss: 4.0274 - categorical_accuracy: 0.0036 - val_loss: 6.1585 - val_categorical_accuracy: 0.0000e+00\n",
            "Epoch 14/150\n",
            "18/18 [==============================] - 1s 52ms/step - loss: 3.9942 - categorical_accuracy: 0.0018 - val_loss: 5.5708 - val_categorical_accuracy: 0.0000e+00\n",
            "Epoch 15/150\n",
            "18/18 [==============================] - 1s 53ms/step - loss: 3.9164 - categorical_accuracy: 0.0000e+00 - val_loss: 5.4617 - val_categorical_accuracy: 0.0000e+00\n",
            "Epoch 16/150\n",
            "18/18 [==============================] - 1s 52ms/step - loss: 3.8199 - categorical_accuracy: 0.0054 - val_loss: 5.3058 - val_categorical_accuracy: 0.0000e+00\n",
            "Epoch 17/150\n",
            "18/18 [==============================] - 1s 51ms/step - loss: 3.7772 - categorical_accuracy: 0.0234 - val_loss: 5.2331 - val_categorical_accuracy: 0.0000e+00\n",
            "Epoch 18/150\n",
            "18/18 [==============================] - 1s 49ms/step - loss: 3.7394 - categorical_accuracy: 0.1385 - val_loss: 5.0012 - val_categorical_accuracy: 0.2903\n",
            "Epoch 19/150\n",
            "18/18 [==============================] - 1s 50ms/step - loss: 3.7447 - categorical_accuracy: 0.2500 - val_loss: 5.1829 - val_categorical_accuracy: 0.9032\n",
            "Epoch 20/150\n",
            "18/18 [==============================] - 1s 48ms/step - loss: 3.6824 - categorical_accuracy: 0.2446 - val_loss: 6.3724 - val_categorical_accuracy: 0.2419\n",
            "Epoch 21/150\n",
            "18/18 [==============================] - 1s 49ms/step - loss: 3.5983 - categorical_accuracy: 0.2518 - val_loss: 7.2350 - val_categorical_accuracy: 0.3871\n",
            "Epoch 22/150\n",
            "18/18 [==============================] - 1s 51ms/step - loss: 3.5677 - categorical_accuracy: 0.2752 - val_loss: 6.1283 - val_categorical_accuracy: 0.9194\n",
            "Epoch 23/150\n",
            "18/18 [==============================] - 1s 50ms/step - loss: 3.5311 - categorical_accuracy: 0.3040 - val_loss: 5.8480 - val_categorical_accuracy: 0.9032\n",
            "Epoch 24/150\n",
            "18/18 [==============================] - 1s 50ms/step - loss: 3.4722 - categorical_accuracy: 0.2644 - val_loss: 6.0392 - val_categorical_accuracy: 0.9194\n",
            "Epoch 25/150\n",
            "18/18 [==============================] - 1s 51ms/step - loss: 3.4292 - categorical_accuracy: 0.2734 - val_loss: 6.8262 - val_categorical_accuracy: 0.4516\n",
            "Epoch 26/150\n",
            "18/18 [==============================] - 1s 52ms/step - loss: 3.4240 - categorical_accuracy: 0.2194 - val_loss: 6.7561 - val_categorical_accuracy: 0.4355\n",
            "Epoch 27/150\n",
            "18/18 [==============================] - 1s 51ms/step - loss: 3.3842 - categorical_accuracy: 0.1655 - val_loss: 6.7739 - val_categorical_accuracy: 0.7903\n",
            "Epoch 28/150\n",
            "18/18 [==============================] - 1s 51ms/step - loss: 3.3367 - categorical_accuracy: 0.1763 - val_loss: 7.6511 - val_categorical_accuracy: 0.2097\n",
            "Epoch 29/150\n",
            "18/18 [==============================] - 1s 52ms/step - loss: 3.3336 - categorical_accuracy: 0.1583 - val_loss: 7.5375 - val_categorical_accuracy: 0.3871\n",
            "Epoch 30/150\n",
            "18/18 [==============================] - 1s 52ms/step - loss: 3.2902 - categorical_accuracy: 0.1241 - val_loss: 7.1611 - val_categorical_accuracy: 0.8065\n",
            "Epoch 31/150\n",
            "18/18 [==============================] - 1s 52ms/step - loss: 3.3025 - categorical_accuracy: 0.1205 - val_loss: 6.9826 - val_categorical_accuracy: 0.8871\n",
            "Epoch 32/150\n",
            "18/18 [==============================] - 1s 52ms/step - loss: 3.2186 - categorical_accuracy: 0.1205 - val_loss: 7.0816 - val_categorical_accuracy: 0.8065\n",
            "Epoch 33/150\n",
            "18/18 [==============================] - 1s 52ms/step - loss: 3.2304 - categorical_accuracy: 0.0917 - val_loss: 7.3519 - val_categorical_accuracy: 0.7097\n",
            "Epoch 34/150\n",
            "18/18 [==============================] - 1s 53ms/step - loss: 3.1845 - categorical_accuracy: 0.0701 - val_loss: 7.1629 - val_categorical_accuracy: 0.9032\n",
            "Epoch 35/150\n",
            "18/18 [==============================] - 1s 51ms/step - loss: 3.1424 - categorical_accuracy: 0.1169 - val_loss: 7.6980 - val_categorical_accuracy: 0.8065\n",
            "Epoch 36/150\n",
            "18/18 [==============================] - 1s 53ms/step - loss: 3.1710 - categorical_accuracy: 0.1043 - val_loss: 8.0199 - val_categorical_accuracy: 0.8065\n",
            "Epoch 37/150\n",
            "18/18 [==============================] - 1s 53ms/step - loss: 3.1542 - categorical_accuracy: 0.1151 - val_loss: 8.5741 - val_categorical_accuracy: 0.2903\n",
            "Epoch 38/150\n",
            "18/18 [==============================] - 1s 52ms/step - loss: 3.1404 - categorical_accuracy: 0.0809 - val_loss: 8.4394 - val_categorical_accuracy: 0.4032\n",
            "Epoch 39/150\n",
            "18/18 [==============================] - 1s 51ms/step - loss: 3.0811 - categorical_accuracy: 0.0647 - val_loss: 8.5790 - val_categorical_accuracy: 0.1613\n",
            "Epoch 40/150\n",
            "18/18 [==============================] - 1s 52ms/step - loss: 3.0940 - categorical_accuracy: 0.0791 - val_loss: 8.0244 - val_categorical_accuracy: 0.6774\n",
            "Epoch 41/150\n",
            "18/18 [==============================] - 1s 50ms/step - loss: 3.0890 - categorical_accuracy: 0.0953 - val_loss: 8.2602 - val_categorical_accuracy: 0.7419\n",
            "Epoch 42/150\n",
            "18/18 [==============================] - 1s 52ms/step - loss: 3.0831 - categorical_accuracy: 0.0935 - val_loss: 8.9324 - val_categorical_accuracy: 0.2903\n",
            "Epoch 43/150\n",
            "18/18 [==============================] - 1s 53ms/step - loss: 3.0155 - categorical_accuracy: 0.0791 - val_loss: 8.8235 - val_categorical_accuracy: 0.5645\n",
            "Epoch 44/150\n",
            "18/18 [==============================] - 1s 51ms/step - loss: 3.0848 - categorical_accuracy: 0.0989 - val_loss: 8.4418 - val_categorical_accuracy: 0.7903\n",
            "Epoch 45/150\n",
            "18/18 [==============================] - 1s 52ms/step - loss: 2.9354 - categorical_accuracy: 0.0881 - val_loss: 8.9751 - val_categorical_accuracy: 0.7581\n",
            "Epoch 46/150\n",
            "18/18 [==============================] - 1s 51ms/step - loss: 3.0288 - categorical_accuracy: 0.0845 - val_loss: 9.1106 - val_categorical_accuracy: 0.2581\n",
            "Epoch 47/150\n",
            "18/18 [==============================] - 1s 54ms/step - loss: 2.9617 - categorical_accuracy: 0.0414 - val_loss: 9.6532 - val_categorical_accuracy: 0.0968\n",
            "Epoch 48/150\n",
            "18/18 [==============================] - 1s 53ms/step - loss: 2.9773 - categorical_accuracy: 0.0558 - val_loss: 8.9709 - val_categorical_accuracy: 0.7581\n",
            "Epoch 49/150\n",
            "18/18 [==============================] - 1s 54ms/step - loss: 2.9727 - categorical_accuracy: 0.0863 - val_loss: 9.3044 - val_categorical_accuracy: 0.5000\n",
            "Epoch 50/150\n",
            "18/18 [==============================] - 1s 50ms/step - loss: 2.9422 - categorical_accuracy: 0.0755 - val_loss: 8.9642 - val_categorical_accuracy: 0.5645\n",
            "Epoch 51/150\n",
            "18/18 [==============================] - 1s 54ms/step - loss: 2.9312 - categorical_accuracy: 0.0540 - val_loss: 9.3829 - val_categorical_accuracy: 0.0806\n",
            "Epoch 52/150\n",
            "18/18 [==============================] - 1s 51ms/step - loss: 2.8541 - categorical_accuracy: 0.0396 - val_loss: 9.7127 - val_categorical_accuracy: 0.0806\n",
            "Epoch 53/150\n",
            "18/18 [==============================] - 1s 52ms/step - loss: 2.9355 - categorical_accuracy: 0.0522 - val_loss: 9.2790 - val_categorical_accuracy: 0.6613\n",
            "Epoch 54/150\n",
            "18/18 [==============================] - 1s 53ms/step - loss: 2.9122 - categorical_accuracy: 0.0629 - val_loss: 9.5154 - val_categorical_accuracy: 0.4194\n",
            "Epoch 55/150\n",
            "18/18 [==============================] - 1s 51ms/step - loss: 2.8670 - categorical_accuracy: 0.0809 - val_loss: 9.9027 - val_categorical_accuracy: 0.1129\n",
            "Epoch 56/150\n",
            "18/18 [==============================] - 1s 53ms/step - loss: 2.8306 - categorical_accuracy: 0.0701 - val_loss: 10.0231 - val_categorical_accuracy: 0.1290\n",
            "Epoch 57/150\n",
            "18/18 [==============================] - 1s 51ms/step - loss: 2.8523 - categorical_accuracy: 0.0468 - val_loss: 9.7218 - val_categorical_accuracy: 0.4032\n",
            "Epoch 58/150\n",
            "18/18 [==============================] - 1s 48ms/step - loss: 2.8525 - categorical_accuracy: 0.0683 - val_loss: 10.2293 - val_categorical_accuracy: 0.1290\n",
            "Epoch 59/150\n",
            "18/18 [==============================] - 1s 52ms/step - loss: 2.8013 - categorical_accuracy: 0.0558 - val_loss: 10.1717 - val_categorical_accuracy: 0.0161\n",
            "Epoch 60/150\n",
            "18/18 [==============================] - 1s 50ms/step - loss: 2.8392 - categorical_accuracy: 0.0468 - val_loss: 10.0808 - val_categorical_accuracy: 0.2097\n",
            "Epoch 61/150\n",
            "18/18 [==============================] - 1s 52ms/step - loss: 2.8613 - categorical_accuracy: 0.0558 - val_loss: 10.3245 - val_categorical_accuracy: 0.0806\n",
            "Epoch 62/150\n",
            "18/18 [==============================] - 1s 54ms/step - loss: 2.8365 - categorical_accuracy: 0.0755 - val_loss: 9.5893 - val_categorical_accuracy: 0.5806\n",
            "Epoch 63/150\n",
            "18/18 [==============================] - 1s 54ms/step - loss: 2.7532 - categorical_accuracy: 0.0647 - val_loss: 10.2567 - val_categorical_accuracy: 0.2419\n",
            "Epoch 64/150\n",
            "18/18 [==============================] - 1s 52ms/step - loss: 2.7498 - categorical_accuracy: 0.0737 - val_loss: 10.0802 - val_categorical_accuracy: 0.3065\n",
            "Epoch 65/150\n",
            "18/18 [==============================] - 1s 54ms/step - loss: 2.7713 - categorical_accuracy: 0.0881 - val_loss: 10.6567 - val_categorical_accuracy: 0.2097\n",
            "Epoch 66/150\n",
            "18/18 [==============================] - 1s 53ms/step - loss: 2.7132 - categorical_accuracy: 0.0701 - val_loss: 10.3913 - val_categorical_accuracy: 0.2419\n",
            "Epoch 67/150\n",
            "18/18 [==============================] - 1s 54ms/step - loss: 2.7983 - categorical_accuracy: 0.0629 - val_loss: 10.7756 - val_categorical_accuracy: 0.1129\n",
            "Epoch 68/150\n",
            "18/18 [==============================] - 1s 51ms/step - loss: 2.7558 - categorical_accuracy: 0.0576 - val_loss: 10.8911 - val_categorical_accuracy: 0.1129\n",
            "Epoch 69/150\n",
            "18/18 [==============================] - 1s 51ms/step - loss: 2.7586 - categorical_accuracy: 0.0396 - val_loss: 10.5378 - val_categorical_accuracy: 0.2742\n",
            "Epoch 70/150\n",
            "18/18 [==============================] - 1s 54ms/step - loss: 2.7372 - categorical_accuracy: 0.0414 - val_loss: 10.8504 - val_categorical_accuracy: 0.0806\n",
            "Epoch 71/150\n",
            "18/18 [==============================] - 1s 52ms/step - loss: 2.6915 - categorical_accuracy: 0.0612 - val_loss: 10.9547 - val_categorical_accuracy: 0.2097\n",
            "Epoch 72/150\n",
            "18/18 [==============================] - 1s 50ms/step - loss: 2.6844 - categorical_accuracy: 0.0683 - val_loss: 10.7393 - val_categorical_accuracy: 0.4032\n",
            "Epoch 73/150\n",
            "18/18 [==============================] - 1s 50ms/step - loss: 2.6892 - categorical_accuracy: 0.0629 - val_loss: 11.2050 - val_categorical_accuracy: 0.0806\n",
            "Epoch 74/150\n",
            "18/18 [==============================] - 1s 53ms/step - loss: 2.7088 - categorical_accuracy: 0.0576 - val_loss: 11.0124 - val_categorical_accuracy: 0.1129\n",
            "Epoch 75/150\n",
            "18/18 [==============================] - 1s 51ms/step - loss: 2.6775 - categorical_accuracy: 0.0504 - val_loss: 11.0995 - val_categorical_accuracy: 0.0806\n",
            "Epoch 76/150\n",
            "18/18 [==============================] - 1s 51ms/step - loss: 2.7033 - categorical_accuracy: 0.0540 - val_loss: 11.2267 - val_categorical_accuracy: 0.0161\n",
            "Epoch 77/150\n",
            "18/18 [==============================] - 1s 53ms/step - loss: 2.7057 - categorical_accuracy: 0.0647 - val_loss: 11.2078 - val_categorical_accuracy: 0.0806\n",
            "Epoch 78/150\n",
            "18/18 [==============================] - 1s 52ms/step - loss: 2.6440 - categorical_accuracy: 0.0701 - val_loss: 11.2185 - val_categorical_accuracy: 0.1129\n",
            "Epoch 79/150\n",
            "18/18 [==============================] - 1s 50ms/step - loss: 2.6551 - categorical_accuracy: 0.0683 - val_loss: 11.3658 - val_categorical_accuracy: 0.1129\n",
            "Epoch 80/150\n",
            "18/18 [==============================] - 1s 49ms/step - loss: 2.6445 - categorical_accuracy: 0.0665 - val_loss: 11.5898 - val_categorical_accuracy: 0.0161\n",
            "Epoch 81/150\n",
            "18/18 [==============================] - 1s 51ms/step - loss: 2.6264 - categorical_accuracy: 0.0486 - val_loss: 11.1625 - val_categorical_accuracy: 0.3548\n",
            "Epoch 82/150\n",
            "18/18 [==============================] - 1s 54ms/step - loss: 2.6426 - categorical_accuracy: 0.0558 - val_loss: 11.7003 - val_categorical_accuracy: 0.0000e+00\n",
            "Epoch 83/150\n",
            "18/18 [==============================] - 1s 51ms/step - loss: 2.6555 - categorical_accuracy: 0.0594 - val_loss: 11.7024 - val_categorical_accuracy: 0.0968\n",
            "Epoch 84/150\n",
            "18/18 [==============================] - 1s 53ms/step - loss: 2.6309 - categorical_accuracy: 0.0558 - val_loss: 11.6917 - val_categorical_accuracy: 0.0806\n",
            "Epoch 85/150\n",
            "18/18 [==============================] - 1s 50ms/step - loss: 2.6228 - categorical_accuracy: 0.0558 - val_loss: 11.3811 - val_categorical_accuracy: 0.2419\n",
            "Epoch 86/150\n",
            "18/18 [==============================] - 1s 53ms/step - loss: 2.5836 - categorical_accuracy: 0.0486 - val_loss: 11.8496 - val_categorical_accuracy: 0.0000e+00\n",
            "Epoch 87/150\n",
            "18/18 [==============================] - 1s 52ms/step - loss: 2.5574 - categorical_accuracy: 0.0737 - val_loss: 11.9959 - val_categorical_accuracy: 0.2097\n",
            "Epoch 88/150\n",
            "18/18 [==============================] - 1s 50ms/step - loss: 2.6420 - categorical_accuracy: 0.0612 - val_loss: 11.7699 - val_categorical_accuracy: 0.1290\n",
            "Epoch 89/150\n",
            "18/18 [==============================] - 1s 51ms/step - loss: 2.5420 - categorical_accuracy: 0.0414 - val_loss: 11.9494 - val_categorical_accuracy: 0.0968\n",
            "Epoch 90/150\n",
            "18/18 [==============================] - 1s 52ms/step - loss: 2.5557 - categorical_accuracy: 0.0612 - val_loss: 12.1401 - val_categorical_accuracy: 0.0000e+00\n",
            "Epoch 91/150\n",
            "18/18 [==============================] - 1s 51ms/step - loss: 2.5331 - categorical_accuracy: 0.0755 - val_loss: 11.9574 - val_categorical_accuracy: 0.1935\n",
            "Epoch 92/150\n",
            "18/18 [==============================] - 1s 53ms/step - loss: 2.5656 - categorical_accuracy: 0.0629 - val_loss: 12.0241 - val_categorical_accuracy: 0.2419\n",
            "Epoch 93/150\n",
            "18/18 [==============================] - 1s 53ms/step - loss: 2.5209 - categorical_accuracy: 0.0612 - val_loss: 12.0547 - val_categorical_accuracy: 0.2097\n",
            "Epoch 94/150\n",
            "18/18 [==============================] - 1s 52ms/step - loss: 2.5173 - categorical_accuracy: 0.0576 - val_loss: 12.5165 - val_categorical_accuracy: 0.0161\n",
            "Epoch 95/150\n",
            "18/18 [==============================] - 1s 51ms/step - loss: 2.5112 - categorical_accuracy: 0.0665 - val_loss: 12.3806 - val_categorical_accuracy: 0.0484\n",
            "Epoch 96/150\n",
            "18/18 [==============================] - 1s 52ms/step - loss: 2.4883 - categorical_accuracy: 0.0701 - val_loss: 12.5025 - val_categorical_accuracy: 0.0323\n",
            "Epoch 97/150\n",
            "18/18 [==============================] - 1s 48ms/step - loss: 2.5080 - categorical_accuracy: 0.0719 - val_loss: 12.4063 - val_categorical_accuracy: 0.0161\n",
            "Epoch 98/150\n",
            "18/18 [==============================] - 1s 51ms/step - loss: 2.5069 - categorical_accuracy: 0.0540 - val_loss: 12.4167 - val_categorical_accuracy: 0.3871\n",
            "Epoch 99/150\n",
            "18/18 [==============================] - 1s 51ms/step - loss: 2.5267 - categorical_accuracy: 0.0665 - val_loss: 12.5160 - val_categorical_accuracy: 0.2258\n",
            "Epoch 100/150\n",
            "18/18 [==============================] - 1s 52ms/step - loss: 2.5014 - categorical_accuracy: 0.0863 - val_loss: 12.8612 - val_categorical_accuracy: 0.0000e+00\n",
            "Epoch 101/150\n",
            "18/18 [==============================] - 1s 51ms/step - loss: 2.5602 - categorical_accuracy: 0.0647 - val_loss: 12.5167 - val_categorical_accuracy: 0.2097\n",
            "Epoch 102/150\n",
            "18/18 [==============================] - 1s 51ms/step - loss: 2.4846 - categorical_accuracy: 0.0647 - val_loss: 12.9996 - val_categorical_accuracy: 0.0000e+00\n",
            "Epoch 103/150\n",
            "18/18 [==============================] - 1s 52ms/step - loss: 2.4480 - categorical_accuracy: 0.0701 - val_loss: 12.7735 - val_categorical_accuracy: 0.0323\n",
            "Epoch 104/150\n",
            "18/18 [==============================] - 1s 49ms/step - loss: 2.4943 - categorical_accuracy: 0.0612 - val_loss: 13.0736 - val_categorical_accuracy: 0.0000e+00\n",
            "Epoch 105/150\n",
            "18/18 [==============================] - 1s 50ms/step - loss: 2.5440 - categorical_accuracy: 0.0594 - val_loss: 12.8333 - val_categorical_accuracy: 0.0161\n",
            "Epoch 106/150\n",
            "18/18 [==============================] - 1s 52ms/step - loss: 2.4422 - categorical_accuracy: 0.0504 - val_loss: 12.8078 - val_categorical_accuracy: 0.0806\n",
            "Epoch 107/150\n",
            "18/18 [==============================] - 1s 52ms/step - loss: 2.4794 - categorical_accuracy: 0.0576 - val_loss: 12.8505 - val_categorical_accuracy: 0.0323\n",
            "Epoch 108/150\n",
            "18/18 [==============================] - 1s 53ms/step - loss: 2.4893 - categorical_accuracy: 0.0558 - val_loss: 12.8972 - val_categorical_accuracy: 0.0968\n",
            "Epoch 109/150\n",
            "18/18 [==============================] - 1s 51ms/step - loss: 2.5180 - categorical_accuracy: 0.0629 - val_loss: 13.2479 - val_categorical_accuracy: 0.0806\n",
            "Epoch 110/150\n",
            "18/18 [==============================] - 1s 52ms/step - loss: 2.4294 - categorical_accuracy: 0.0773 - val_loss: 13.3291 - val_categorical_accuracy: 0.0323\n",
            "Epoch 111/150\n",
            "18/18 [==============================] - 1s 51ms/step - loss: 2.3797 - categorical_accuracy: 0.0594 - val_loss: 13.2023 - val_categorical_accuracy: 0.0000e+00\n",
            "Epoch 112/150\n",
            "18/18 [==============================] - 1s 53ms/step - loss: 2.4158 - categorical_accuracy: 0.0450 - val_loss: 13.4821 - val_categorical_accuracy: 0.0323\n",
            "Epoch 113/150\n",
            "18/18 [==============================] - 1s 47ms/step - loss: 2.3935 - categorical_accuracy: 0.0522 - val_loss: 13.5911 - val_categorical_accuracy: 0.0323\n",
            "Epoch 114/150\n",
            "18/18 [==============================] - 1s 52ms/step - loss: 2.4149 - categorical_accuracy: 0.0629 - val_loss: 13.7528 - val_categorical_accuracy: 0.0161\n",
            "Epoch 115/150\n",
            "18/18 [==============================] - 1s 51ms/step - loss: 2.4004 - categorical_accuracy: 0.0522 - val_loss: 13.4262 - val_categorical_accuracy: 0.1935\n",
            "Epoch 116/150\n",
            "18/18 [==============================] - 1s 54ms/step - loss: 2.3904 - categorical_accuracy: 0.0629 - val_loss: 13.7410 - val_categorical_accuracy: 0.0161\n",
            "Epoch 117/150\n",
            "18/18 [==============================] - 1s 51ms/step - loss: 2.3845 - categorical_accuracy: 0.0899 - val_loss: 13.7234 - val_categorical_accuracy: 0.0000e+00\n",
            "Epoch 118/150\n",
            "18/18 [==============================] - 1s 53ms/step - loss: 2.3803 - categorical_accuracy: 0.0594 - val_loss: 13.7314 - val_categorical_accuracy: 0.0645\n",
            "Epoch 119/150\n",
            "18/18 [==============================] - 1s 50ms/step - loss: 2.3964 - categorical_accuracy: 0.0450 - val_loss: 13.7970 - val_categorical_accuracy: 0.1290\n",
            "Epoch 120/150\n",
            "18/18 [==============================] - 1s 53ms/step - loss: 2.3985 - categorical_accuracy: 0.0755 - val_loss: 13.7329 - val_categorical_accuracy: 0.2097\n",
            "Epoch 121/150\n",
            "18/18 [==============================] - 1s 52ms/step - loss: 2.3591 - categorical_accuracy: 0.0827 - val_loss: 14.0736 - val_categorical_accuracy: 0.0806\n",
            "Epoch 122/150\n",
            "18/18 [==============================] - 1s 53ms/step - loss: 2.3611 - categorical_accuracy: 0.0612 - val_loss: 14.1457 - val_categorical_accuracy: 0.0645\n",
            "Epoch 123/150\n",
            "18/18 [==============================] - 1s 54ms/step - loss: 2.4341 - categorical_accuracy: 0.0576 - val_loss: 13.7632 - val_categorical_accuracy: 0.0000e+00\n",
            "Epoch 124/150\n",
            "18/18 [==============================] - 1s 51ms/step - loss: 2.3762 - categorical_accuracy: 0.0558 - val_loss: 13.4635 - val_categorical_accuracy: 0.3871\n",
            "Epoch 125/150\n",
            "18/18 [==============================] - 1s 53ms/step - loss: 2.4544 - categorical_accuracy: 0.0647 - val_loss: 13.8335 - val_categorical_accuracy: 0.1290\n",
            "Epoch 126/150\n",
            "18/18 [==============================] - 1s 50ms/step - loss: 2.3959 - categorical_accuracy: 0.0701 - val_loss: 13.7732 - val_categorical_accuracy: 0.0000e+00\n",
            "Epoch 127/150\n",
            "18/18 [==============================] - 1s 49ms/step - loss: 2.3435 - categorical_accuracy: 0.0540 - val_loss: 13.7486 - val_categorical_accuracy: 0.1129\n",
            "Epoch 128/150\n",
            "18/18 [==============================] - 1s 51ms/step - loss: 2.3605 - categorical_accuracy: 0.0540 - val_loss: 14.3099 - val_categorical_accuracy: 0.0323\n",
            "Epoch 129/150\n",
            "18/18 [==============================] - 1s 51ms/step - loss: 2.3681 - categorical_accuracy: 0.0881 - val_loss: 13.8389 - val_categorical_accuracy: 0.0968\n",
            "Epoch 130/150\n",
            "18/18 [==============================] - 1s 50ms/step - loss: 2.3761 - categorical_accuracy: 0.0450 - val_loss: 13.9064 - val_categorical_accuracy: 0.0806\n",
            "Epoch 131/150\n",
            "18/18 [==============================] - 1s 49ms/step - loss: 2.3374 - categorical_accuracy: 0.0594 - val_loss: 14.1341 - val_categorical_accuracy: 0.0323\n",
            "Epoch 132/150\n",
            "18/18 [==============================] - 1s 52ms/step - loss: 2.2720 - categorical_accuracy: 0.0504 - val_loss: 14.2529 - val_categorical_accuracy: 0.0000e+00\n",
            "Epoch 133/150\n",
            "18/18 [==============================] - 1s 50ms/step - loss: 2.2915 - categorical_accuracy: 0.0845 - val_loss: 14.4664 - val_categorical_accuracy: 0.0161\n",
            "Epoch 134/150\n",
            "18/18 [==============================] - 1s 54ms/step - loss: 2.3234 - categorical_accuracy: 0.1025 - val_loss: 14.3659 - val_categorical_accuracy: 0.0000e+00\n",
            "Epoch 135/150\n",
            "18/18 [==============================] - 1s 55ms/step - loss: 2.3181 - categorical_accuracy: 0.0953 - val_loss: 14.2247 - val_categorical_accuracy: 0.1290\n",
            "Epoch 136/150\n",
            "18/18 [==============================] - 1s 52ms/step - loss: 2.3334 - categorical_accuracy: 0.0594 - val_loss: 14.5711 - val_categorical_accuracy: 0.0323\n",
            "Epoch 137/150\n",
            "18/18 [==============================] - 1s 54ms/step - loss: 2.3278 - categorical_accuracy: 0.0594 - val_loss: 14.2108 - val_categorical_accuracy: 0.0806\n",
            "Epoch 138/150\n",
            "18/18 [==============================] - 1s 52ms/step - loss: 2.2751 - categorical_accuracy: 0.0773 - val_loss: 14.2839 - val_categorical_accuracy: 0.0806\n",
            "Epoch 139/150\n",
            "18/18 [==============================] - 1s 52ms/step - loss: 2.3350 - categorical_accuracy: 0.0683 - val_loss: 14.6897 - val_categorical_accuracy: 0.0323\n",
            "Epoch 140/150\n",
            "18/18 [==============================] - 1s 51ms/step - loss: 2.3416 - categorical_accuracy: 0.0665 - val_loss: 14.5206 - val_categorical_accuracy: 0.0323\n",
            "Epoch 141/150\n",
            "18/18 [==============================] - 1s 47ms/step - loss: 2.2962 - categorical_accuracy: 0.0863 - val_loss: 14.6795 - val_categorical_accuracy: 0.0806\n",
            "Epoch 142/150\n",
            "18/18 [==============================] - 1s 52ms/step - loss: 2.3127 - categorical_accuracy: 0.0701 - val_loss: 14.1969 - val_categorical_accuracy: 0.2742\n",
            "Epoch 143/150\n",
            "18/18 [==============================] - 1s 52ms/step - loss: 2.2729 - categorical_accuracy: 0.0791 - val_loss: 15.0335 - val_categorical_accuracy: 0.0323\n",
            "Epoch 144/150\n",
            "18/18 [==============================] - 1s 49ms/step - loss: 2.2766 - categorical_accuracy: 0.0737 - val_loss: 14.7830 - val_categorical_accuracy: 0.0323\n",
            "Epoch 145/150\n",
            "18/18 [==============================] - 1s 52ms/step - loss: 2.2769 - categorical_accuracy: 0.1025 - val_loss: 14.8821 - val_categorical_accuracy: 0.0806\n",
            "Epoch 146/150\n",
            "18/18 [==============================] - 1s 53ms/step - loss: 2.2488 - categorical_accuracy: 0.0917 - val_loss: 14.9992 - val_categorical_accuracy: 0.0323\n",
            "Epoch 147/150\n",
            "18/18 [==============================] - 1s 51ms/step - loss: 2.2860 - categorical_accuracy: 0.0719 - val_loss: 14.9177 - val_categorical_accuracy: 0.0806\n",
            "Epoch 148/150\n",
            "18/18 [==============================] - 1s 50ms/step - loss: 2.2144 - categorical_accuracy: 0.0558 - val_loss: 14.8904 - val_categorical_accuracy: 0.0323\n",
            "Epoch 149/150\n",
            "18/18 [==============================] - 1s 54ms/step - loss: 2.2240 - categorical_accuracy: 0.0773 - val_loss: 14.8083 - val_categorical_accuracy: 0.1290\n",
            "Epoch 150/150\n",
            "18/18 [==============================] - 1s 51ms/step - loss: 2.2950 - categorical_accuracy: 0.0827 - val_loss: 15.3729 - val_categorical_accuracy: 0.0161\n"
          ]
        }
      ],
      "source": [
        "epochs = 150\n",
        "history = model.fit(padded_sequences, training_labels, epochs=epochs, verbose=1, validation_split=0.1)"
      ]
    },
    {
      "cell_type": "code",
      "source": [
        "#plt.plot(history.history['categorical_accuracy'])\n",
        "plt.plot(history.history['val_categorical_accuracy'])"
      ],
      "metadata": {
        "id": "L9S3nmcKMu2T",
        "outputId": "91f063dc-5324-482e-8efa-2cc1ded7ec7b",
        "colab": {
          "base_uri": "https://localhost:8080/",
          "height": 448
        }
      },
      "execution_count": 24,
      "outputs": [
        {
          "output_type": "execute_result",
          "data": {
            "text/plain": [
              "[<matplotlib.lines.Line2D at 0x7fa704626560>]"
            ]
          },
          "metadata": {},
          "execution_count": 24
        },
        {
          "output_type": "display_data",
          "data": {
            "text/plain": [
              "<Figure size 640x480 with 1 Axes>"
            ],
            "image/png": "[encoded data removed]"
          },
          "metadata": {}
        }
      ]
    },
    {
      "cell_type": "code",
      "execution_count": 25,
      "metadata": {
        "id": "-yrXQJd4tp0t",
        "outputId": "a69b80d8-790f-4f2d-99f9-e1e579a3f507",
        "colab": {
          "base_uri": "https://localhost:8080/",
          "height": 448
        }
      },
      "outputs": [
        {
          "output_type": "execute_result",
          "data": {
            "text/plain": [
              "[<matplotlib.lines.Line2D at 0x7fa7044aadd0>]"
            ]
          },
          "metadata": {},
          "execution_count": 25
        },
        {
          "output_type": "display_data",
          "data": {
            "text/plain": [
              "<Figure size 640x480 with 1 Axes>"
            ],
            "image/png": "[encoded data removed]"
          },
          "metadata": {}
        }
      ],
      "source": [
        "plt.plot(history.history['loss'])\n",
        "plt.plot(history.history['val_loss'])"
      ]
    },
    {
      "cell_type": "markdown",
      "source": [
        "##Model save and export"
      ],
      "metadata": {
        "id": "oYvmQj10VvvU"
      }
    },
    {
      "cell_type": "code",
      "execution_count": 26,
      "metadata": {
        "id": "yszOSfNHtp0u",
        "outputId": "1727a1ee-2065-4599-cbef-2860845f31f3",
        "colab": {
          "base_uri": "https://localhost:8080/"
        }
      },
      "outputs": [
        {
          "output_type": "stream",
          "name": "stderr",
          "text": [
            "WARNING:absl:Found untraced functions such as _update_step_xla, lstm_cell_31_layer_call_fn, lstm_cell_31_layer_call_and_return_conditional_losses, lstm_cell_32_layer_call_fn, lstm_cell_32_layer_call_and_return_conditional_losses while saving (showing 5 of 5). These functions will not be directly callable after loading.\n"
          ]
        }
      ],
      "source": [
        "# to save the trained model\n",
        "model.save(\"chat_model\")\n",
        "\n",
        "# to save the fitted tokenizer\n",
        "with open('tokenizer.pickle', 'wb') as handle:\n",
        "    pickle.dump(tokenizer, handle, protocol=pickle.HIGHEST_PROTOCOL)\n",
        "    \n",
        "# to save the fitted label encoder\n",
        "with open('label_encoder.pickle', 'wb') as ecn_file:\n",
        "    pickle.dump(lbl_encoder, ecn_file, protocol=pickle.HIGHEST_PROTOCOL)"
      ]
    },
    {
      "cell_type": "markdown",
      "source": [
        "##Chat script "
      ],
      "metadata": {
        "id": "JLqRORa5V0bD"
      }
    },
    {
      "cell_type": "code",
      "execution_count": 27,
      "metadata": {
        "id": "gdyW4uKKtp0v",
        "outputId": "0994220d-2404-4874-9cc7-9bb8191c46b2",
        "colab": {
          "base_uri": "https://localhost:8080/"
        }
      },
      "outputs": [
        {
          "output_type": "stream",
          "name": "stdout",
          "text": [
            "\u001b[33mStart messaging with the bot (type quit to stop)!\u001b[0m\n",
            "\u001b[94mUser: \u001b[0mhey\n",
            "1/1 [==============================] - 2s 2s/step\n",
            "['greeting']\n",
            "\u001b[32mChatBot:\u001b[0m Hello there. Tell me how are you feeling today?\n",
            "\u001b[94mUser: \u001b[0mim sad\n",
            "1/1 [==============================] - 0s 35ms/step\n",
            "['greeting']\n",
            "\u001b[32mChatBot:\u001b[0m Hi there. What brings you here today?\n",
            "\u001b[94mUser: \u001b[0mi feel sad\n",
            "1/1 [==============================] - 0s 36ms/step\n",
            "['greeting']\n",
            "\u001b[32mChatBot:\u001b[0m Hi there. How are you feeling today?\n",
            "\u001b[94mUser: \u001b[0mkill myself\n",
            "1/1 [==============================] - 0s 36ms/step\n",
            "['suicide']\n",
            "\u001b[32mChatBot:\u001b[0m I'm very sorry to hear that but you have so much to look forward to. Please seek help by contacting: 988.\n",
            "\u001b[94mUser: \u001b[0mquit\n",
            "5\n"
          ]
        }
      ],
      "source": [
        "with open(\"intents.json\") as file:\n",
        "    data = json.load(file)\n",
        "\n",
        "input_list = []\n",
        "\n",
        "def chat(input_list):\n",
        "    # load trained model\n",
        "    model = keras.models.load_model('chat_model')\n",
        "\n",
        "    # load tokenizer object\n",
        "    with open('tokenizer.pickle', 'rb') as handle:\n",
        "        tokenizer = pickle.load(handle)\n",
        "\n",
        "    # load label encoder object\n",
        "    with open('label_encoder.pickle', 'rb') as enc:\n",
        "        lbl_encoder = pickle.load(enc)\n",
        "\n",
        "    # parameters\n",
        "    max_len = 20\n",
        "    \n",
        "    while True:\n",
        "        print(Fore.LIGHTBLUE_EX + \"User: \" + Style.RESET_ALL, end=\"\")\n",
        "        inp = input()\n",
        "        input_list.append(inp)\n",
        "        if inp.lower() == \"quit\":\n",
        "            break\n",
        "\n",
        "        result = model.predict(keras.preprocessing.sequence.pad_sequences(tokenizer.texts_to_sequences([inp]),\n",
        "                                             truncating='post', maxlen=max_len))\n",
        "        #print(result)                                    \n",
        "        tag = lbl_encoder.inverse_transform([np.argmax(result)])\n",
        "        print(tag)\n",
        "        for i in data['intents']:\n",
        "            if i['tag'] == tag:\n",
        "                print(Fore.GREEN + \"ChatBot:\" + Style.RESET_ALL , np.random.choice(i['responses']))\n",
        "\n",
        "        # print(Fore.GREEN + \"ChatBot:\" + Style.RESET_ALL,random.choice(responses))\n",
        "    return input_list\n",
        "\n",
        "print(Fore.YELLOW + \"Start messaging with the bot (type quit to stop)!\" + Style.RESET_ALL)\n",
        "total_input = chat(input_list)\n",
        "\n",
        "print(len(total_input))"
      ]
    },
    {
      "cell_type": "markdown",
      "source": [
        "##Chat results and metrics"
      ],
      "metadata": {
        "id": "mcMfHxDkVqSo"
      }
    },
    {
      "cell_type": "code",
      "source": [
        "first_five_inputs = total_input[0:5]\n",
        "last_five_inputs =  total_input[-5:]\n",
        "\n",
        "first_five_sentiments = []\n",
        "last_five_sentiments = []\n",
        "\n",
        "for input in first_five_inputs:\n",
        "  first_five_sentiments.append(TextBlob(input).sentiment.polarity)\n",
        "\n",
        "for input in last_five_inputs:\n",
        "  last_five_sentiments.append(TextBlob(input).sentiment.polarity)\n",
        "\n",
        "first_five_sum = 0\n",
        "last_five_sum = 0\n",
        "\n",
        "for polarity in first_five_sentiments:\n",
        "  first_five_sum = first_five_sum + polarity\n",
        "\n",
        "for polarity in last_five_sentiments:\n",
        "  last_five_sum = last_five_sum + polarity\n",
        "\n",
        "if first_five_sum < last_five_sum:\n",
        "  print(\"There was an improvement in sentiment throughout the chat process\")\n",
        "\n",
        "if first_five_sum > last_five_sum:\n",
        "  print(\"There was a decline in sentiment throughout the chat process\")\n",
        "\n",
        "if first_five_sum == last_five_sum:\n",
        "  print(\"There was no change in sentiment throughout the chat process\")"
      ],
      "metadata": {
        "id": "Vr6qhswT6pBG",
        "outputId": "4d307e07-4b12-4147-8a22-01f526351dbd",
        "colab": {
          "base_uri": "https://localhost:8080/"
        }
      },
      "execution_count": null,
      "outputs": [
        {
          "output_type": "stream",
          "name": "stdout",
          "text": [
            "There was a decline in sentiment throughout the chat process\n"
          ]
        }
      ]
    },
    {
      "cell_type": "code",
      "source": [
        "sentiment_means = [mean(first_five_sentiments), mean(last_five_sentiments)]\n",
        "names = [\"First Five Inputs\", 'Last Five Inputs']\n",
        "\n",
        "plt.plot(names, sentiment_means)\n",
        "plt.show()"
      ],
      "metadata": {
        "id": "Cs-7yT76b4Ai",
        "outputId": "54fd5c4d-b7ce-407c-cebf-01fc448c11ea",
        "colab": {
          "base_uri": "https://localhost:8080/",
          "height": 430
        }
      },
      "execution_count": null,
      "outputs": [
        {
          "output_type": "display_data",
          "data": {
            "text/plain": [
              "<Figure size 640x480 with 1 Axes>"
            ],
            "image/png": "[encoded data removed]"
          },
          "metadata": {}
        }
      ]
    },
    {
      "cell_type": "markdown",
      "source": [
        "##Post-Chat survey"
      ],
      "metadata": {
        "id": "KjPEebafVicc"
      }
    },
    {
      "cell_type": "markdown",
      "source": [
        "https://docs.google.com/forms/d/e/1FAIpQLSfeZG2RkqeHAdvU4jIJCBBdl0y0_yQGOwaR-WpPx5GQwCap3w/viewform"
      ],
      "metadata": {
        "id": "Rt7_-t3SVmlX"
      }
    }
  ],
  "metadata": {
    "kernelspec": {
      "display_name": "spyder-env",
      "language": "python",
      "name": "python3"
    },
    "language_info": {
      "codemirror_mode": {
        "name": "ipython",
        "version": 3
      },
      "file_extension": ".py",
      "mimetype": "text/x-python",
      "name": "python",
      "nbconvert_exporter": "python",
      "pygments_lexer": "ipython3",
      "version": "3.10.8"
    },
    "orig_nbformat": 4,
    "vscode": {
      "interpreter": {
        "hash": "0867740005d6599654add18c4aea8b68041991fa551a979db4ae6559591eb1ee"
      }
    },
    "colab": {
      "provenance": [],
      "machine_shape": "hm"
    },
    "accelerator": "TPU",
    "gpuClass": "standard"
  },
  "nbformat": 4,
  "nbformat_minor": 0
}