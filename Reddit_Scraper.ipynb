{
  "nbformat": 4,
  "nbformat_minor": 0,
  "metadata": {
    "colab": {
      "provenance": [],
      "authorship_tag": "ABX9TyNC45X3ckx5NTTy4/f81GXS",
      "include_colab_link": true
    },
    "kernelspec": {
      "name": "python3",
      "display_name": "Python 3"
    },
    "language_info": {
      "name": "python"
    }
  },
  "cells": [
    {
      "cell_type": "markdown",
      "metadata": {
        "id": "view-in-github",
        "colab_type": "text"
      },
      "source": [
        "<a href=\"https://colab.research.google.com/github/Chrisiscool3/DigitalFriend/blob/main/Reddit_Scraper.ipynb\" target=\"_parent\"><img src=\"https://colab.research.google.com/assets/colab-badge.svg\" alt=\"Open In Colab\"/></a>"
      ]
    },
    {
      "cell_type": "code",
      "source": [
        "!pip3 install praw\n"
      ],
      "metadata": {
        "colab": {
          "base_uri": "https://localhost:8080/"
        },
        "id": "ifeA-sUIUiES",
        "outputId": "54703365-0e06-4625-8896-9a41a98ac3dd"
      },
      "execution_count": 14,
      "outputs": [
        {
          "output_type": "stream",
          "name": "stdout",
          "text": [
            "Looking in indexes: https://pypi.org/simple, https://us-python.pkg.dev/colab-wheels/public/simple/\n",
            "Requirement already satisfied: praw in /usr/local/lib/python3.9/dist-packages (7.7.0)\n",
            "Requirement already satisfied: websocket-client>=0.54.0 in /usr/local/lib/python3.9/dist-packages (from praw) (1.5.1)\n",
            "Requirement already satisfied: prawcore<3,>=2.1 in /usr/local/lib/python3.9/dist-packages (from praw) (2.3.0)\n",
            "Requirement already satisfied: update-checker>=0.18 in /usr/local/lib/python3.9/dist-packages (from praw) (0.18.0)\n",
            "Requirement already satisfied: requests<3.0,>=2.6.0 in /usr/local/lib/python3.9/dist-packages (from prawcore<3,>=2.1->praw) (2.27.1)\n",
            "Requirement already satisfied: charset-normalizer~=2.0.0 in /usr/local/lib/python3.9/dist-packages (from requests<3.0,>=2.6.0->prawcore<3,>=2.1->praw) (2.0.12)\n",
            "Requirement already satisfied: certifi>=2017.4.17 in /usr/local/lib/python3.9/dist-packages (from requests<3.0,>=2.6.0->prawcore<3,>=2.1->praw) (2022.12.7)\n",
            "Requirement already satisfied: idna<4,>=2.5 in /usr/local/lib/python3.9/dist-packages (from requests<3.0,>=2.6.0->prawcore<3,>=2.1->praw) (3.4)\n",
            "Requirement already satisfied: urllib3<1.27,>=1.21.1 in /usr/local/lib/python3.9/dist-packages (from requests<3.0,>=2.6.0->prawcore<3,>=2.1->praw) (1.26.15)\n"
          ]
        }
      ]
    },
    {
      "cell_type": "code",
      "source": [
        "import praw\n",
        "import pandas as pd\n"
      ],
      "metadata": {
        "id": "zwG_kGWHaQp_"
      },
      "execution_count": 20,
      "outputs": []
    },
    {
      "cell_type": "code",
      "execution_count": 23,
      "metadata": {
        "colab": {
          "base_uri": "https://localhost:8080/"
        },
        "id": "sxYj7zsTT1AL",
        "outputId": "91e65486-27c5-4541-b8f9-9f0c79202677"
      },
      "outputs": [
        {
          "output_type": "stream",
          "name": "stderr",
          "text": [
            "WARNING:praw:It appears that you are using PRAW in an asynchronous environment.\n",
            "It is strongly recommended to use Async PRAW: https://asyncpraw.readthedocs.io.\n",
            "See https://praw.readthedocs.io/en/latest/getting_started/multiple_instances.html#discord-bots-and-asynchronous-environments for more info.\n",
            "\n"
          ]
        },
        {
          "output_type": "stream",
          "name": "stdout",
          "text": [
            "        id                                               body       created\n",
            "0  12wcr8i  Please post your questions here instead of cre...  1.682262e+09\n",
            "1  120f4oy                                                     1.679650e+09\n",
            "2  12xwzt9  The below example shows how a summarizer appli...  1.682371e+09\n",
            "3  12xgzbx  We are the first that attempt to reproduce res...  1.682345e+09\n",
            "4  12x8s16  A post for anything related to the ICML 2023 r...  1.682325e+09\n",
            "5  12xrt99  I am wondering about companies that are succes...  1.682361e+09\n",
            "6  12xhm86  Hi all!😀  \\nI have completed re-factoring of m...  1.682346e+09\n",
            "7  12x00bi                                                     1.682304e+09\n",
            "8  12xoned  So I have used ElevenLabs before for text to s...  1.682355e+09\n",
            "9  12y69mt  At the recent conference, we noticed several p...  1.682392e+09\n"
          ]
        }
      ],
      "source": [
        "\n",
        "posts = []\n",
        "ml_subreddit = reddit.subreddit('MachineLearning')\n",
        "for post in ml_subreddit.hot(limit=10):\n",
        "    posts.append([post.id, post.selftext, post.created])\n",
        "posts = pd.DataFrame(posts,columns=['id', 'body', 'created'])\n",
        "print(posts)\n",
        "posts.to_csv('posts.csv', index=False)\n"
      ]
    },
    {
      "cell_type": "code",
      "source": [],
      "metadata": {
        "id": "uY8IyHSiaTHl"
      },
      "execution_count": null,
      "outputs": []
    }
  ]
}